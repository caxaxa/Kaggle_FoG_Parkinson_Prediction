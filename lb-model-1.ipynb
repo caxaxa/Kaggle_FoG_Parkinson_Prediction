{
 "cells": [
  {
   "cell_type": "code",
   "execution_count": 1,
   "id": "a6a7a774",
   "metadata": {
    "_cell_guid": "b1076dfc-b9ad-4769-8c92-a6c4dae69d19",
    "_uuid": "8f2839f25d086af736a60e9eeb907d3b93b6e0e5",
    "execution": {
     "iopub.execute_input": "2024-05-03T05:34:13.798220Z",
     "iopub.status.busy": "2024-05-03T05:34:13.797704Z",
     "iopub.status.idle": "2024-05-03T05:34:14.619076Z",
     "shell.execute_reply": "2024-05-03T05:34:14.618056Z"
    },
    "papermill": {
     "duration": 0.834891,
     "end_time": "2024-05-03T05:34:14.621300",
     "exception": false,
     "start_time": "2024-05-03T05:34:13.786409",
     "status": "completed"
    },
    "tags": []
   },
   "outputs": [
    {
     "name": "stdout",
     "output_type": "stream",
     "text": [
      "/kaggle/input/leash-BELKA/sample_submission.csv\n",
      "/kaggle/input/leash-BELKA/train.parquet\n",
      "/kaggle/input/leash-BELKA/test.parquet\n",
      "/kaggle/input/leash-BELKA/train.csv\n",
      "/kaggle/input/leash-BELKA/test.csv\n"
     ]
    }
   ],
   "source": [
    "# This Python 3 environment comes with many helpful analytics libraries installed\n",
    "# It is defined by the kaggle/python Docker image: https://github.com/kaggle/docker-python\n",
    "# For example, here's several helpful packages to load\n",
    "\n",
    "import numpy as np # linear algebra\n",
    "import pandas as pd # data processing, CSV file I/O (e.g. pd.read_csv)\n",
    "\n",
    "# Input data files are available in the read-only \"../input/\" directory\n",
    "# For example, running this (by clicking run or pressing Shift+Enter) will list all files under the input directory\n",
    "\n",
    "import os\n",
    "for dirname, _, filenames in os.walk('/kaggle/input'):\n",
    "    for filename in filenames:\n",
    "        print(os.path.join(dirname, filename))\n",
    "\n",
    "# You can write up to 20GB to the current directory (/kaggle/working/) that gets preserved as output when you create a version using \"Save & Run All\" \n",
    "# You can also write temporary files to /kaggle/temp/, but they won't be saved outside of the current session"
   ]
  },
  {
   "cell_type": "markdown",
   "id": "6ccdc03f",
   "metadata": {
    "papermill": {
     "duration": 0.008839,
     "end_time": "2024-05-03T05:34:14.639716",
     "exception": false,
     "start_time": "2024-05-03T05:34:14.630877",
     "status": "completed"
    },
    "tags": []
   },
   "source": [
    "# LB Competition:\n",
    "\n",
    "## 1. EDA"
   ]
  },
  {
   "cell_type": "code",
   "execution_count": 2,
   "id": "e28d6ddc",
   "metadata": {
    "execution": {
     "iopub.execute_input": "2024-05-03T05:34:14.659346Z",
     "iopub.status.busy": "2024-05-03T05:34:14.658880Z",
     "iopub.status.idle": "2024-05-03T05:34:14.662899Z",
     "shell.execute_reply": "2024-05-03T05:34:14.662088Z"
    },
    "papermill": {
     "duration": 0.016029,
     "end_time": "2024-05-03T05:34:14.664744",
     "exception": false,
     "start_time": "2024-05-03T05:34:14.648715",
     "status": "completed"
    },
    "tags": []
   },
   "outputs": [],
   "source": [
    "# ## Loading The Data\n",
    "\n",
    "# # Change to full Dataseet  for Massive Training and for testing\n",
    "# df_train = pd.read_csv('/kaggle/input/leash-BELKA/train.csv', nrows=1000)\n",
    "# df_test = pd.read_csv('/kaggle/input/leash-BELKA/test.csv', nrows=1000)\n"
   ]
  },
  {
   "cell_type": "code",
   "execution_count": 3,
   "id": "44f22e02",
   "metadata": {
    "execution": {
     "iopub.execute_input": "2024-05-03T05:34:14.684291Z",
     "iopub.status.busy": "2024-05-03T05:34:14.683954Z",
     "iopub.status.idle": "2024-05-03T05:34:14.687845Z",
     "shell.execute_reply": "2024-05-03T05:34:14.687031Z"
    },
    "papermill": {
     "duration": 0.015969,
     "end_time": "2024-05-03T05:34:14.689795",
     "exception": false,
     "start_time": "2024-05-03T05:34:14.673826",
     "status": "completed"
    },
    "tags": []
   },
   "outputs": [],
   "source": [
    "# df_train.head()"
   ]
  },
  {
   "cell_type": "code",
   "execution_count": 4,
   "id": "7b404510",
   "metadata": {
    "execution": {
     "iopub.execute_input": "2024-05-03T05:34:14.709540Z",
     "iopub.status.busy": "2024-05-03T05:34:14.709225Z",
     "iopub.status.idle": "2024-05-03T05:34:14.712914Z",
     "shell.execute_reply": "2024-05-03T05:34:14.712084Z"
    },
    "papermill": {
     "duration": 0.015805,
     "end_time": "2024-05-03T05:34:14.714789",
     "exception": false,
     "start_time": "2024-05-03T05:34:14.698984",
     "status": "completed"
    },
    "tags": []
   },
   "outputs": [],
   "source": [
    "# !pip install rdkit"
   ]
  },
  {
   "cell_type": "markdown",
   "id": "a06ac437",
   "metadata": {
    "papermill": {
     "duration": 0.00884,
     "end_time": "2024-05-03T05:34:14.732814",
     "exception": false,
     "start_time": "2024-05-03T05:34:14.723974",
     "status": "completed"
    },
    "tags": []
   },
   "source": [
    "### Plotting 2d Image"
   ]
  },
  {
   "cell_type": "code",
   "execution_count": 5,
   "id": "d3beafd9",
   "metadata": {
    "execution": {
     "iopub.execute_input": "2024-05-03T05:34:14.753651Z",
     "iopub.status.busy": "2024-05-03T05:34:14.753309Z",
     "iopub.status.idle": "2024-05-03T05:34:14.757543Z",
     "shell.execute_reply": "2024-05-03T05:34:14.756741Z"
    },
    "papermill": {
     "duration": 0.016554,
     "end_time": "2024-05-03T05:34:14.759441",
     "exception": false,
     "start_time": "2024-05-03T05:34:14.742887",
     "status": "completed"
    },
    "tags": []
   },
   "outputs": [],
   "source": [
    "# import pandas as pd\n",
    "# from rdkit import Chem\n",
    "# from rdkit.Chem import Draw\n",
    "\n",
    "# def plot_2d_molecule(df, molecule_id):\n",
    "#     # Filter the DataFrame for the given id\n",
    "#     row = df[df['id'] == molecule_id]\n",
    "#     # Get the SMILES string for the molecule\n",
    "#     smiles_string = row['molecule_smiles'].values[0]\n",
    "#     # Generate an RDKit molecule object\n",
    "#     mol = Chem.MolFromSmiles(smiles_string)\n",
    "#     # Use RDKit to draw the molecule\n",
    "#     img = Draw.MolToImage(mol)\n",
    "#     # Display the image\n",
    "#     return img\n",
    "\n"
   ]
  },
  {
   "cell_type": "code",
   "execution_count": 6,
   "id": "860a34a1",
   "metadata": {
    "execution": {
     "iopub.execute_input": "2024-05-03T05:34:14.779994Z",
     "iopub.status.busy": "2024-05-03T05:34:14.779004Z",
     "iopub.status.idle": "2024-05-03T05:34:14.783329Z",
     "shell.execute_reply": "2024-05-03T05:34:14.782456Z"
    },
    "papermill": {
     "duration": 0.016691,
     "end_time": "2024-05-03T05:34:14.785399",
     "exception": false,
     "start_time": "2024-05-03T05:34:14.768708",
     "status": "completed"
    },
    "tags": []
   },
   "outputs": [],
   "source": [
    "# #Example usage:\n",
    "# import matplotlib.pyplot as plt\n",
    "# import matplotlib.image as mpimg\n",
    "\n",
    "# img = plot_2d_molecule(df_train, 1)\n",
    "# plt.imshow(img)\n",
    "# plt.show()"
   ]
  },
  {
   "cell_type": "markdown",
   "id": "86dad97b",
   "metadata": {
    "papermill": {
     "duration": 0.008994,
     "end_time": "2024-05-03T05:34:14.803735",
     "exception": false,
     "start_time": "2024-05-03T05:34:14.794741",
     "status": "completed"
    },
    "tags": []
   },
   "source": [
    "## Plotting 3d Image"
   ]
  },
  {
   "cell_type": "code",
   "execution_count": 7,
   "id": "f53312df",
   "metadata": {
    "execution": {
     "iopub.execute_input": "2024-05-03T05:34:14.823503Z",
     "iopub.status.busy": "2024-05-03T05:34:14.823161Z",
     "iopub.status.idle": "2024-05-03T05:34:14.826987Z",
     "shell.execute_reply": "2024-05-03T05:34:14.826146Z"
    },
    "papermill": {
     "duration": 0.015999,
     "end_time": "2024-05-03T05:34:14.828826",
     "exception": false,
     "start_time": "2024-05-03T05:34:14.812827",
     "status": "completed"
    },
    "tags": []
   },
   "outputs": [],
   "source": [
    "# !pip install py3Dmol"
   ]
  },
  {
   "cell_type": "code",
   "execution_count": 8,
   "id": "28210f66",
   "metadata": {
    "execution": {
     "iopub.execute_input": "2024-05-03T05:34:14.848517Z",
     "iopub.status.busy": "2024-05-03T05:34:14.848209Z",
     "iopub.status.idle": "2024-05-03T05:34:14.852917Z",
     "shell.execute_reply": "2024-05-03T05:34:14.852083Z"
    },
    "papermill": {
     "duration": 0.01663,
     "end_time": "2024-05-03T05:34:14.854746",
     "exception": false,
     "start_time": "2024-05-03T05:34:14.838116",
     "status": "completed"
    },
    "tags": []
   },
   "outputs": [],
   "source": [
    "\n",
    "# from rdkit.Chem import AllChem\n",
    "# import py3Dmol\n",
    "\n",
    "# def plot_3d_molecule_by_id(df, molecule_id):\n",
    "#     # Filter the DataFrame for the given id\n",
    "#     row = df[df['id'] == molecule_id]\n",
    "#     if row.empty:\n",
    "#         return \"No entry with the given ID.\"\n",
    "\n",
    "#     # Get the SMILES string for the molecule\n",
    "#     smiles_string = row['molecule_smiles'].values[0]\n",
    "#     if not smiles_string:\n",
    "#         return \"No SMILES string found for the given ID.\"\n",
    "    \n",
    "#     # Create a molecule from a SMILES string\n",
    "#     mol = Chem.MolFromSmiles(smiles_string)\n",
    "#     if mol is None:\n",
    "#         return \"Invalid SMILES string.\"\n",
    "    \n",
    "#     # Generate 3D coordinates\n",
    "#     mol = Chem.AddHs(mol)  # Add hydrogens\n",
    "#     AllChem.EmbedMolecule(mol, AllChem.ETKDG())  # Embed molecule in 3D space using ETKDG methodology\n",
    "#     AllChem.UFFOptimizeMolecule(mol)  # Optimize the geometry\n",
    "\n",
    "#     # Use py3Dmol for visualization\n",
    "#     mb = Chem.MolToMolBlock(mol)\n",
    "#     viewer = py3Dmol.view(width=800, height=400)\n",
    "#     viewer.addModel(mb, \"mol\")\n",
    "#     viewer.setStyle({'stick': {}})\n",
    "#     viewer.zoomTo()\n",
    "#     return viewer.show()\n",
    "\n"
   ]
  },
  {
   "cell_type": "code",
   "execution_count": 9,
   "id": "9ef08f60",
   "metadata": {
    "execution": {
     "iopub.execute_input": "2024-05-03T05:34:14.875197Z",
     "iopub.status.busy": "2024-05-03T05:34:14.874180Z",
     "iopub.status.idle": "2024-05-03T05:34:14.878440Z",
     "shell.execute_reply": "2024-05-03T05:34:14.877565Z"
    },
    "papermill": {
     "duration": 0.016579,
     "end_time": "2024-05-03T05:34:14.880437",
     "exception": false,
     "start_time": "2024-05-03T05:34:14.863858",
     "status": "completed"
    },
    "tags": []
   },
   "outputs": [],
   "source": [
    "# # Example usage:\n",
    "# plot_3d_molecule_by_id(df_train, 1)\n"
   ]
  },
  {
   "cell_type": "code",
   "execution_count": 10,
   "id": "8809c6d4",
   "metadata": {
    "execution": {
     "iopub.execute_input": "2024-05-03T05:34:14.900356Z",
     "iopub.status.busy": "2024-05-03T05:34:14.899582Z",
     "iopub.status.idle": "2024-05-03T05:34:14.903609Z",
     "shell.execute_reply": "2024-05-03T05:34:14.902774Z"
    },
    "papermill": {
     "duration": 0.016065,
     "end_time": "2024-05-03T05:34:14.905518",
     "exception": false,
     "start_time": "2024-05-03T05:34:14.889453",
     "status": "completed"
    },
    "tags": []
   },
   "outputs": [],
   "source": [
    "# !pip install rdkit-pypi networkx matplotlib\n"
   ]
  },
  {
   "cell_type": "code",
   "execution_count": 11,
   "id": "b3c02809",
   "metadata": {
    "execution": {
     "iopub.execute_input": "2024-05-03T05:34:14.925363Z",
     "iopub.status.busy": "2024-05-03T05:34:14.924632Z",
     "iopub.status.idle": "2024-05-03T05:34:14.929578Z",
     "shell.execute_reply": "2024-05-03T05:34:14.928740Z"
    },
    "papermill": {
     "duration": 0.016812,
     "end_time": "2024-05-03T05:34:14.931455",
     "exception": false,
     "start_time": "2024-05-03T05:34:14.914643",
     "status": "completed"
    },
    "tags": []
   },
   "outputs": [],
   "source": [
    "\n",
    "# import pandas as pd\n",
    "# import networkx as nx\n",
    "# import matplotlib.pyplot as plt\n",
    "# from rdkit import Chem\n",
    "# from rdkit.Chem import Draw\n",
    "# from rdkit.Chem.rdmolops import GetAdjacencyMatrix\n",
    "\n",
    "# def plot_molecule_graph(df, molecule_id):\n",
    "#     # Find the molecule by ID\n",
    "#     row = df[df['id'] == molecule_id]\n",
    "#     if row.empty:\n",
    "#         print(\"No entry with the given ID.\")\n",
    "#         return\n",
    "\n",
    "#     # Extract the SMILES string\n",
    "#     smiles = row['molecule_smiles'].values[0]\n",
    "#     mol = Chem.MolFromSmiles(smiles)\n",
    "#     if mol is None:\n",
    "#         print(\"Invalid SMILES string.\")\n",
    "#         return\n",
    "\n",
    "#     # Create a graph from the molecule\n",
    "#     G = nx.Graph(Chem.rdmolops.GetAdjacencyMatrix(mol))\n",
    "#     labels = {}\n",
    "#     for idx, atom in enumerate(mol.GetAtoms()):\n",
    "#         G.nodes[idx]['label'] = atom.GetSymbol()\n",
    "#         labels[idx] = atom.GetSymbol()\n",
    "\n",
    "#     # Draw the graph\n",
    "#     pos = nx.spring_layout(G)  # positions for all nodes\n",
    "#     nx.draw(G, pos, with_labels=True, labels=labels, node_size=700, node_color='skyblue', font_size=16, font_weight='bold', edge_color='gray')\n",
    "#     plt.title(f'Molecular graph of ID {molecule_id}')\n",
    "#     plt.show()\n",
    "\n",
    "\n"
   ]
  },
  {
   "cell_type": "code",
   "execution_count": 12,
   "id": "82e184e0",
   "metadata": {
    "execution": {
     "iopub.execute_input": "2024-05-03T05:34:14.950916Z",
     "iopub.status.busy": "2024-05-03T05:34:14.950334Z",
     "iopub.status.idle": "2024-05-03T05:34:14.954159Z",
     "shell.execute_reply": "2024-05-03T05:34:14.953312Z"
    },
    "papermill": {
     "duration": 0.015509,
     "end_time": "2024-05-03T05:34:14.955935",
     "exception": false,
     "start_time": "2024-05-03T05:34:14.940426",
     "status": "completed"
    },
    "tags": []
   },
   "outputs": [],
   "source": [
    "# # Example usage:\n",
    "# plot_molecule_graph(df_train, 1)"
   ]
  },
  {
   "cell_type": "code",
   "execution_count": null,
   "id": "b4bee7f6",
   "metadata": {
    "papermill": {
     "duration": 0.0087,
     "end_time": "2024-05-03T05:34:14.973522",
     "exception": false,
     "start_time": "2024-05-03T05:34:14.964822",
     "status": "completed"
    },
    "tags": []
   },
   "outputs": [],
   "source": []
  },
  {
   "cell_type": "markdown",
   "id": "392c385e",
   "metadata": {
    "papermill": {
     "duration": 0.00861,
     "end_time": "2024-05-03T05:34:14.991091",
     "exception": false,
     "start_time": "2024-05-03T05:34:14.982481",
     "status": "completed"
    },
    "tags": []
   },
   "source": [
    "# Model 1 - SMILESBerth\n"
   ]
  },
  {
   "cell_type": "code",
   "execution_count": 13,
   "id": "d44ee463",
   "metadata": {
    "execution": {
     "iopub.execute_input": "2024-05-03T05:34:15.010882Z",
     "iopub.status.busy": "2024-05-03T05:34:15.010041Z",
     "iopub.status.idle": "2024-05-03T05:34:18.557167Z",
     "shell.execute_reply": "2024-05-03T05:34:18.555496Z"
    },
    "papermill": {
     "duration": 3.560337,
     "end_time": "2024-05-03T05:34:18.560293",
     "exception": false,
     "start_time": "2024-05-03T05:34:14.999956",
     "status": "completed"
    },
    "tags": []
   },
   "outputs": [],
   "source": [
    "# Path to the Parquet file\n",
    "# Change to full Dataseet  for Massive Training and for testing\n",
    "df = pd.read_csv('/kaggle/input/leash-BELKA/train.csv', nrows=1000000)"
   ]
  },
  {
   "cell_type": "code",
   "execution_count": 14,
   "id": "6e7fceee",
   "metadata": {
    "execution": {
     "iopub.execute_input": "2024-05-03T05:34:18.588487Z",
     "iopub.status.busy": "2024-05-03T05:34:18.587589Z",
     "iopub.status.idle": "2024-05-03T05:34:20.022446Z",
     "shell.execute_reply": "2024-05-03T05:34:20.021403Z"
    },
    "papermill": {
     "duration": 1.45061,
     "end_time": "2024-05-03T05:34:20.024895",
     "exception": false,
     "start_time": "2024-05-03T05:34:18.574285",
     "status": "completed"
    },
    "tags": []
   },
   "outputs": [],
   "source": [
    "from sklearn.model_selection import train_test_split\n",
    "\n",
    "# Split df_train to create a new training set and an evaluation set\n",
    "df_train, df_eval = train_test_split(df, test_size=0.1, random_state=42)\n"
   ]
  },
  {
   "cell_type": "code",
   "execution_count": 15,
   "id": "388e2b85",
   "metadata": {
    "execution": {
     "iopub.execute_input": "2024-05-03T05:34:20.044768Z",
     "iopub.status.busy": "2024-05-03T05:34:20.044406Z",
     "iopub.status.idle": "2024-05-03T05:34:20.061286Z",
     "shell.execute_reply": "2024-05-03T05:34:20.060376Z"
    },
    "papermill": {
     "duration": 0.029027,
     "end_time": "2024-05-03T05:34:20.063296",
     "exception": false,
     "start_time": "2024-05-03T05:34:20.034269",
     "status": "completed"
    },
    "tags": []
   },
   "outputs": [
    {
     "data": {
      "text/html": [
       "<div>\n",
       "<style scoped>\n",
       "    .dataframe tbody tr th:only-of-type {\n",
       "        vertical-align: middle;\n",
       "    }\n",
       "\n",
       "    .dataframe tbody tr th {\n",
       "        vertical-align: top;\n",
       "    }\n",
       "\n",
       "    .dataframe thead th {\n",
       "        text-align: right;\n",
       "    }\n",
       "</style>\n",
       "<table border=\"1\" class=\"dataframe\">\n",
       "  <thead>\n",
       "    <tr style=\"text-align: right;\">\n",
       "      <th></th>\n",
       "      <th>id</th>\n",
       "      <th>buildingblock1_smiles</th>\n",
       "      <th>buildingblock2_smiles</th>\n",
       "      <th>buildingblock3_smiles</th>\n",
       "      <th>molecule_smiles</th>\n",
       "      <th>protein_name</th>\n",
       "      <th>binds</th>\n",
       "    </tr>\n",
       "  </thead>\n",
       "  <tbody>\n",
       "    <tr>\n",
       "      <th>378046</th>\n",
       "      <td>378046</td>\n",
       "      <td>C#CC[C@@H](CC(=O)O)NC(=O)OCC1c2ccccc2-c2ccccc21</td>\n",
       "      <td>Cc1cc(N)ncn1</td>\n",
       "      <td>Cn1c(=O)cc(N)[nH]c1=O</td>\n",
       "      <td>C#CC[C@@H](CC(=O)N[Dy])Nc1nc(Nc2cc(C)ncn2)nc(N...</td>\n",
       "      <td>HSA</td>\n",
       "      <td>0</td>\n",
       "    </tr>\n",
       "    <tr>\n",
       "      <th>510062</th>\n",
       "      <td>510062</td>\n",
       "      <td>C#CC[C@@H](CC(=O)O)NC(=O)OCC1c2ccccc2-c2ccccc21</td>\n",
       "      <td>Cl.Cl.NCc1cncc(F)c1</td>\n",
       "      <td>CN1CCN(Cc2ccccc2N)CC1</td>\n",
       "      <td>C#CC[C@@H](CC(=O)N[Dy])Nc1nc(NCc2cncc(F)c2)nc(...</td>\n",
       "      <td>sEH</td>\n",
       "      <td>0</td>\n",
       "    </tr>\n",
       "    <tr>\n",
       "      <th>534815</th>\n",
       "      <td>534815</td>\n",
       "      <td>C#CC[C@@H](CC(=O)O)NC(=O)OCC1c2ccccc2-c2ccccc21</td>\n",
       "      <td>Cl.Cn1nnc(CN)c1C(F)F</td>\n",
       "      <td>Cc1nc(CN)oc1C.Cl.Cl</td>\n",
       "      <td>C#CC[C@@H](CC(=O)N[Dy])Nc1nc(NCc2nc(C)c(C)o2)n...</td>\n",
       "      <td>sEH</td>\n",
       "      <td>0</td>\n",
       "    </tr>\n",
       "    <tr>\n",
       "      <th>342590</th>\n",
       "      <td>342590</td>\n",
       "      <td>C#CC[C@@H](CC(=O)O)NC(=O)OCC1c2ccccc2-c2ccccc21</td>\n",
       "      <td>Cc1cc(C#N)c(N)s1</td>\n",
       "      <td>NCC1(O)CC1</td>\n",
       "      <td>C#CC[C@@H](CC(=O)N[Dy])Nc1nc(NCC2(O)CC2)nc(Nc2...</td>\n",
       "      <td>sEH</td>\n",
       "      <td>0</td>\n",
       "    </tr>\n",
       "    <tr>\n",
       "      <th>559414</th>\n",
       "      <td>559414</td>\n",
       "      <td>C#CC[C@@H](CC(=O)O)NC(=O)OCC1c2ccccc2-c2ccccc21</td>\n",
       "      <td>Cl.NCC1C=CCC1</td>\n",
       "      <td>Cn1nccc1[C@@H]1OCC[C@H]1CN</td>\n",
       "      <td>C#CC[C@@H](CC(=O)N[Dy])Nc1nc(NCC2C=CCC2)nc(NC[...</td>\n",
       "      <td>HSA</td>\n",
       "      <td>0</td>\n",
       "    </tr>\n",
       "  </tbody>\n",
       "</table>\n",
       "</div>"
      ],
      "text/plain": [
       "            id                            buildingblock1_smiles  \\\n",
       "378046  378046  C#CC[C@@H](CC(=O)O)NC(=O)OCC1c2ccccc2-c2ccccc21   \n",
       "510062  510062  C#CC[C@@H](CC(=O)O)NC(=O)OCC1c2ccccc2-c2ccccc21   \n",
       "534815  534815  C#CC[C@@H](CC(=O)O)NC(=O)OCC1c2ccccc2-c2ccccc21   \n",
       "342590  342590  C#CC[C@@H](CC(=O)O)NC(=O)OCC1c2ccccc2-c2ccccc21   \n",
       "559414  559414  C#CC[C@@H](CC(=O)O)NC(=O)OCC1c2ccccc2-c2ccccc21   \n",
       "\n",
       "       buildingblock2_smiles       buildingblock3_smiles  \\\n",
       "378046          Cc1cc(N)ncn1       Cn1c(=O)cc(N)[nH]c1=O   \n",
       "510062   Cl.Cl.NCc1cncc(F)c1       CN1CCN(Cc2ccccc2N)CC1   \n",
       "534815  Cl.Cn1nnc(CN)c1C(F)F         Cc1nc(CN)oc1C.Cl.Cl   \n",
       "342590      Cc1cc(C#N)c(N)s1                  NCC1(O)CC1   \n",
       "559414         Cl.NCC1C=CCC1  Cn1nccc1[C@@H]1OCC[C@H]1CN   \n",
       "\n",
       "                                          molecule_smiles protein_name  binds  \n",
       "378046  C#CC[C@@H](CC(=O)N[Dy])Nc1nc(Nc2cc(C)ncn2)nc(N...          HSA      0  \n",
       "510062  C#CC[C@@H](CC(=O)N[Dy])Nc1nc(NCc2cncc(F)c2)nc(...          sEH      0  \n",
       "534815  C#CC[C@@H](CC(=O)N[Dy])Nc1nc(NCc2nc(C)c(C)o2)n...          sEH      0  \n",
       "342590  C#CC[C@@H](CC(=O)N[Dy])Nc1nc(NCC2(O)CC2)nc(Nc2...          sEH      0  \n",
       "559414  C#CC[C@@H](CC(=O)N[Dy])Nc1nc(NCC2C=CCC2)nc(NC[...          HSA      0  "
      ]
     },
     "execution_count": 15,
     "metadata": {},
     "output_type": "execute_result"
    }
   ],
   "source": [
    "df_train.head()"
   ]
  },
  {
   "cell_type": "code",
   "execution_count": 16,
   "id": "e214e2f6",
   "metadata": {
    "execution": {
     "iopub.execute_input": "2024-05-03T05:34:20.083196Z",
     "iopub.status.busy": "2024-05-03T05:34:20.082874Z",
     "iopub.status.idle": "2024-05-03T05:34:20.095484Z",
     "shell.execute_reply": "2024-05-03T05:34:20.094619Z"
    },
    "papermill": {
     "duration": 0.024842,
     "end_time": "2024-05-03T05:34:20.097512",
     "exception": false,
     "start_time": "2024-05-03T05:34:20.072670",
     "status": "completed"
    },
    "tags": []
   },
   "outputs": [
    {
     "data": {
      "text/html": [
       "<div>\n",
       "<style scoped>\n",
       "    .dataframe tbody tr th:only-of-type {\n",
       "        vertical-align: middle;\n",
       "    }\n",
       "\n",
       "    .dataframe tbody tr th {\n",
       "        vertical-align: top;\n",
       "    }\n",
       "\n",
       "    .dataframe thead th {\n",
       "        text-align: right;\n",
       "    }\n",
       "</style>\n",
       "<table border=\"1\" class=\"dataframe\">\n",
       "  <thead>\n",
       "    <tr style=\"text-align: right;\">\n",
       "      <th></th>\n",
       "      <th>id</th>\n",
       "      <th>buildingblock1_smiles</th>\n",
       "      <th>buildingblock2_smiles</th>\n",
       "      <th>buildingblock3_smiles</th>\n",
       "      <th>molecule_smiles</th>\n",
       "      <th>protein_name</th>\n",
       "      <th>binds</th>\n",
       "    </tr>\n",
       "  </thead>\n",
       "  <tbody>\n",
       "    <tr>\n",
       "      <th>987231</th>\n",
       "      <td>987231</td>\n",
       "      <td>C#CC[C@@H](CC(=O)O)NC(=O)OCC1c2ccccc2-c2ccccc21</td>\n",
       "      <td>Nc1cccc(OC(F)F)c1</td>\n",
       "      <td>Nc1ccnc(-c2ccccc2)c1</td>\n",
       "      <td>C#CC[C@@H](CC(=O)N[Dy])Nc1nc(Nc2cccc(OC(F)F)c2...</td>\n",
       "      <td>BRD4</td>\n",
       "      <td>0</td>\n",
       "    </tr>\n",
       "    <tr>\n",
       "      <th>79954</th>\n",
       "      <td>79954</td>\n",
       "      <td>C#CC[C@@H](CC(=O)O)NC(=O)OCC1c2ccccc2-c2ccccc21</td>\n",
       "      <td>CC1(F)CCN(CCN)C1.Cl.Cl</td>\n",
       "      <td>Cl.Cl.NCc1cc(Br)cc2cccnc12</td>\n",
       "      <td>C#CC[C@@H](CC(=O)N[Dy])Nc1nc(NCCN2CCC(C)(F)C2)...</td>\n",
       "      <td>HSA</td>\n",
       "      <td>0</td>\n",
       "    </tr>\n",
       "    <tr>\n",
       "      <th>567130</th>\n",
       "      <td>567130</td>\n",
       "      <td>C#CC[C@@H](CC(=O)O)NC(=O)OCC1c2ccccc2-c2ccccc21</td>\n",
       "      <td>Cl.NCC1CC2CC1C1CC21</td>\n",
       "      <td>COc1cc2nc(Cl)nc(N)c2cc1OC</td>\n",
       "      <td>C#CC[C@@H](CC(=O)N[Dy])Nc1nc(NCC2CC3CC2C2CC32)...</td>\n",
       "      <td>HSA</td>\n",
       "      <td>0</td>\n",
       "    </tr>\n",
       "    <tr>\n",
       "      <th>500891</th>\n",
       "      <td>500891</td>\n",
       "      <td>C#CC[C@@H](CC(=O)O)NC(=O)OCC1c2ccccc2-c2ccccc21</td>\n",
       "      <td>Cl.Cl.NCc1ccc[n+]([O-])c1</td>\n",
       "      <td>CC1(C)OB(c2ccc(N)cc2)OC1(C)C</td>\n",
       "      <td>C#CC[C@@H](CC(=O)N[Dy])Nc1nc(NCc2ccc[n+]([O-])...</td>\n",
       "      <td>sEH</td>\n",
       "      <td>0</td>\n",
       "    </tr>\n",
       "    <tr>\n",
       "      <th>55399</th>\n",
       "      <td>55399</td>\n",
       "      <td>C#CC[C@@H](CC(=O)O)NC(=O)OCC1c2ccccc2-c2ccccc21</td>\n",
       "      <td>CC(CN)OC(C)(C)C.Cl</td>\n",
       "      <td>Cl.NCc1cnc(Cl)s1</td>\n",
       "      <td>C#CC[C@@H](CC(=O)N[Dy])Nc1nc(NCc2cnc(Cl)s2)nc(...</td>\n",
       "      <td>HSA</td>\n",
       "      <td>0</td>\n",
       "    </tr>\n",
       "  </tbody>\n",
       "</table>\n",
       "</div>"
      ],
      "text/plain": [
       "            id                            buildingblock1_smiles  \\\n",
       "987231  987231  C#CC[C@@H](CC(=O)O)NC(=O)OCC1c2ccccc2-c2ccccc21   \n",
       "79954    79954  C#CC[C@@H](CC(=O)O)NC(=O)OCC1c2ccccc2-c2ccccc21   \n",
       "567130  567130  C#CC[C@@H](CC(=O)O)NC(=O)OCC1c2ccccc2-c2ccccc21   \n",
       "500891  500891  C#CC[C@@H](CC(=O)O)NC(=O)OCC1c2ccccc2-c2ccccc21   \n",
       "55399    55399  C#CC[C@@H](CC(=O)O)NC(=O)OCC1c2ccccc2-c2ccccc21   \n",
       "\n",
       "            buildingblock2_smiles         buildingblock3_smiles  \\\n",
       "987231          Nc1cccc(OC(F)F)c1          Nc1ccnc(-c2ccccc2)c1   \n",
       "79954      CC1(F)CCN(CCN)C1.Cl.Cl    Cl.Cl.NCc1cc(Br)cc2cccnc12   \n",
       "567130        Cl.NCC1CC2CC1C1CC21     COc1cc2nc(Cl)nc(N)c2cc1OC   \n",
       "500891  Cl.Cl.NCc1ccc[n+]([O-])c1  CC1(C)OB(c2ccc(N)cc2)OC1(C)C   \n",
       "55399          CC(CN)OC(C)(C)C.Cl              Cl.NCc1cnc(Cl)s1   \n",
       "\n",
       "                                          molecule_smiles protein_name  binds  \n",
       "987231  C#CC[C@@H](CC(=O)N[Dy])Nc1nc(Nc2cccc(OC(F)F)c2...         BRD4      0  \n",
       "79954   C#CC[C@@H](CC(=O)N[Dy])Nc1nc(NCCN2CCC(C)(F)C2)...          HSA      0  \n",
       "567130  C#CC[C@@H](CC(=O)N[Dy])Nc1nc(NCC2CC3CC2C2CC32)...          HSA      0  \n",
       "500891  C#CC[C@@H](CC(=O)N[Dy])Nc1nc(NCc2ccc[n+]([O-])...          sEH      0  \n",
       "55399   C#CC[C@@H](CC(=O)N[Dy])Nc1nc(NCc2cnc(Cl)s2)nc(...          HSA      0  "
      ]
     },
     "execution_count": 16,
     "metadata": {},
     "output_type": "execute_result"
    }
   ],
   "source": [
    "df_eval.head()"
   ]
  },
  {
   "cell_type": "code",
   "execution_count": 17,
   "id": "7a9528c7",
   "metadata": {
    "execution": {
     "iopub.execute_input": "2024-05-03T05:34:20.118161Z",
     "iopub.status.busy": "2024-05-03T05:34:20.117824Z",
     "iopub.status.idle": "2024-05-03T05:34:33.543459Z",
     "shell.execute_reply": "2024-05-03T05:34:33.542301Z"
    },
    "papermill": {
     "duration": 13.438504,
     "end_time": "2024-05-03T05:34:33.545929",
     "exception": false,
     "start_time": "2024-05-03T05:34:20.107425",
     "status": "completed"
    },
    "tags": []
   },
   "outputs": [
    {
     "name": "stdout",
     "output_type": "stream",
     "text": [
      "Requirement already satisfied: transformers in /opt/conda/lib/python3.10/site-packages (4.39.3)\r\n",
      "Requirement already satisfied: torch in /opt/conda/lib/python3.10/site-packages (2.1.2)\r\n",
      "Requirement already satisfied: filelock in /opt/conda/lib/python3.10/site-packages (from transformers) (3.13.1)\r\n",
      "Requirement already satisfied: huggingface-hub<1.0,>=0.19.3 in /opt/conda/lib/python3.10/site-packages (from transformers) (0.22.2)\r\n",
      "Requirement already satisfied: numpy>=1.17 in /opt/conda/lib/python3.10/site-packages (from transformers) (1.26.4)\r\n",
      "Requirement already satisfied: packaging>=20.0 in /opt/conda/lib/python3.10/site-packages (from transformers) (21.3)\r\n",
      "Requirement already satisfied: pyyaml>=5.1 in /opt/conda/lib/python3.10/site-packages (from transformers) (6.0.1)\r\n",
      "Requirement already satisfied: regex!=2019.12.17 in /opt/conda/lib/python3.10/site-packages (from transformers) (2023.12.25)\r\n",
      "Requirement already satisfied: requests in /opt/conda/lib/python3.10/site-packages (from transformers) (2.31.0)\r\n",
      "Requirement already satisfied: tokenizers<0.19,>=0.14 in /opt/conda/lib/python3.10/site-packages (from transformers) (0.15.2)\r\n",
      "Requirement already satisfied: safetensors>=0.4.1 in /opt/conda/lib/python3.10/site-packages (from transformers) (0.4.3)\r\n",
      "Requirement already satisfied: tqdm>=4.27 in /opt/conda/lib/python3.10/site-packages (from transformers) (4.66.1)\r\n",
      "Requirement already satisfied: typing-extensions in /opt/conda/lib/python3.10/site-packages (from torch) (4.9.0)\r\n",
      "Requirement already satisfied: sympy in /opt/conda/lib/python3.10/site-packages (from torch) (1.12)\r\n",
      "Requirement already satisfied: networkx in /opt/conda/lib/python3.10/site-packages (from torch) (3.2.1)\r\n",
      "Requirement already satisfied: jinja2 in /opt/conda/lib/python3.10/site-packages (from torch) (3.1.2)\r\n",
      "Requirement already satisfied: fsspec in /opt/conda/lib/python3.10/site-packages (from torch) (2024.2.0)\r\n",
      "Requirement already satisfied: pyparsing!=3.0.5,>=2.0.2 in /opt/conda/lib/python3.10/site-packages (from packaging>=20.0->transformers) (3.1.1)\r\n",
      "Requirement already satisfied: MarkupSafe>=2.0 in /opt/conda/lib/python3.10/site-packages (from jinja2->torch) (2.1.3)\r\n",
      "Requirement already satisfied: charset-normalizer<4,>=2 in /opt/conda/lib/python3.10/site-packages (from requests->transformers) (3.3.2)\r\n",
      "Requirement already satisfied: idna<4,>=2.5 in /opt/conda/lib/python3.10/site-packages (from requests->transformers) (3.6)\r\n",
      "Requirement already satisfied: urllib3<3,>=1.21.1 in /opt/conda/lib/python3.10/site-packages (from requests->transformers) (1.26.18)\r\n",
      "Requirement already satisfied: certifi>=2017.4.17 in /opt/conda/lib/python3.10/site-packages (from requests->transformers) (2024.2.2)\r\n",
      "Requirement already satisfied: mpmath>=0.19 in /opt/conda/lib/python3.10/site-packages (from sympy->torch) (1.3.0)\r\n"
     ]
    }
   ],
   "source": [
    "!pip install transformers torch\n"
   ]
  },
  {
   "cell_type": "code",
   "execution_count": 18,
   "id": "19829eae",
   "metadata": {
    "execution": {
     "iopub.execute_input": "2024-05-03T05:34:33.568869Z",
     "iopub.status.busy": "2024-05-03T05:34:33.567966Z",
     "iopub.status.idle": "2024-05-03T05:34:43.896152Z",
     "shell.execute_reply": "2024-05-03T05:34:43.895318Z"
    },
    "papermill": {
     "duration": 10.342064,
     "end_time": "2024-05-03T05:34:43.898334",
     "exception": false,
     "start_time": "2024-05-03T05:34:33.556270",
     "status": "completed"
    },
    "tags": []
   },
   "outputs": [
    {
     "data": {
      "application/vnd.jupyter.widget-view+json": {
       "model_id": "1125f955cc0b4fd3b63efb99a110ab4e",
       "version_major": 2,
       "version_minor": 0
      },
      "text/plain": [
       "tokenizer_config.json:   0%|          | 0.00/62.0 [00:00<?, ?B/s]"
      ]
     },
     "metadata": {},
     "output_type": "display_data"
    },
    {
     "data": {
      "application/vnd.jupyter.widget-view+json": {
       "model_id": "d37e8507cc4b41c3895ce4f21b2cc07d",
       "version_major": 2,
       "version_minor": 0
      },
      "text/plain": [
       "config.json:   0%|          | 0.00/515 [00:00<?, ?B/s]"
      ]
     },
     "metadata": {},
     "output_type": "display_data"
    },
    {
     "data": {
      "application/vnd.jupyter.widget-view+json": {
       "model_id": "8ba22124d5ee4b9f84157c2f2b5c0cd8",
       "version_major": 2,
       "version_minor": 0
      },
      "text/plain": [
       "vocab.json:   0%|          | 0.00/165k [00:00<?, ?B/s]"
      ]
     },
     "metadata": {},
     "output_type": "display_data"
    },
    {
     "data": {
      "application/vnd.jupyter.widget-view+json": {
       "model_id": "93880bb3805d40d293ef5bdb87e4ac3a",
       "version_major": 2,
       "version_minor": 0
      },
      "text/plain": [
       "merges.txt:   0%|          | 0.00/101k [00:00<?, ?B/s]"
      ]
     },
     "metadata": {},
     "output_type": "display_data"
    },
    {
     "data": {
      "application/vnd.jupyter.widget-view+json": {
       "model_id": "f32be97501674acbb94d25f759ae4390",
       "version_major": 2,
       "version_minor": 0
      },
      "text/plain": [
       "special_tokens_map.json:   0%|          | 0.00/772 [00:00<?, ?B/s]"
      ]
     },
     "metadata": {},
     "output_type": "display_data"
    },
    {
     "data": {
      "application/vnd.jupyter.widget-view+json": {
       "model_id": "9b287aa475394313a18888050a8f5ee1",
       "version_major": 2,
       "version_minor": 0
      },
      "text/plain": [
       "pytorch_model.bin:   0%|          | 0.00/336M [00:00<?, ?B/s]"
      ]
     },
     "metadata": {},
     "output_type": "display_data"
    },
    {
     "name": "stderr",
     "output_type": "stream",
     "text": [
      "/opt/conda/lib/python3.10/site-packages/torch/_utils.py:831: UserWarning: TypedStorage is deprecated. It will be removed in the future and UntypedStorage will be the only storage class. This should only matter to you if you are using storages directly.  To access UntypedStorage directly, use tensor.untyped_storage() instead of tensor.storage()\n",
      "  return self.fget.__get__(instance, owner)()\n",
      "Some weights of RobertaForSequenceClassification were not initialized from the model checkpoint at seyonec/PubChem10M_SMILES_BPE_450k and are newly initialized: ['classifier.dense.bias', 'classifier.dense.weight', 'classifier.out_proj.bias', 'classifier.out_proj.weight']\n",
      "You should probably TRAIN this model on a down-stream task to be able to use it for predictions and inference.\n"
     ]
    }
   ],
   "source": [
    "from transformers import AutoModelForSequenceClassification, AutoTokenizer\n",
    "\n",
    "model_name = \"seyonec/PubChem10M_SMILES_BPE_450k\"\n",
    "tokenizer = AutoTokenizer.from_pretrained(model_name)\n",
    "model = AutoModelForSequenceClassification.from_pretrained(model_name, num_labels=2)  # binary classification: binds or not\n"
   ]
  },
  {
   "cell_type": "code",
   "execution_count": 19,
   "id": "8da9e5ad",
   "metadata": {
    "execution": {
     "iopub.execute_input": "2024-05-03T05:34:43.923108Z",
     "iopub.status.busy": "2024-05-03T05:34:43.922236Z",
     "iopub.status.idle": "2024-05-03T05:36:01.867047Z",
     "shell.execute_reply": "2024-05-03T05:36:01.866205Z"
    },
    "papermill": {
     "duration": 77.959713,
     "end_time": "2024-05-03T05:36:01.869534",
     "exception": false,
     "start_time": "2024-05-03T05:34:43.909821",
     "status": "completed"
    },
    "tags": []
   },
   "outputs": [
    {
     "name": "stderr",
     "output_type": "stream",
     "text": [
      "2024-05-03 05:34:45.727313: E external/local_xla/xla/stream_executor/cuda/cuda_dnn.cc:9261] Unable to register cuDNN factory: Attempting to register factory for plugin cuDNN when one has already been registered\n",
      "2024-05-03 05:34:45.727423: E external/local_xla/xla/stream_executor/cuda/cuda_fft.cc:607] Unable to register cuFFT factory: Attempting to register factory for plugin cuFFT when one has already been registered\n",
      "2024-05-03 05:34:45.865173: E external/local_xla/xla/stream_executor/cuda/cuda_blas.cc:1515] Unable to register cuBLAS factory: Attempting to register factory for plugin cuBLAS when one has already been registered\n"
     ]
    }
   ],
   "source": [
    "from transformers import Trainer, TrainingArguments\n",
    "\n",
    "# Tokenizing the SMILES strings\n",
    "train_encodings = tokenizer(df_train['molecule_smiles'].tolist(), truncation=True, padding=True, max_length=512)\n",
    "\n",
    "# Creating a Dataset object for Hugging Face\n",
    "import torch\n",
    "\n",
    "class SMILESDataset(torch.utils.data.Dataset):\n",
    "    def __init__(self, encodings, labels):\n",
    "        self.encodings = encodings\n",
    "        self.labels = labels\n",
    "\n",
    "    def __getitem__(self, idx):\n",
    "        item = {key: torch.tensor(val[idx]) for key, val in self.encodings.items()}\n",
    "        item['labels'] = torch.tensor(self.labels[idx])\n",
    "        return item\n",
    "\n",
    "    def __len__(self):\n",
    "        return len(self.labels)\n",
    "\n",
    "# Convert labels to a tensor\n",
    "labels = df_train['binds'].tolist()\n",
    "train_dataset = SMILESDataset(train_encodings, labels)\n",
    "\n",
    "# Define training arguments\n",
    "training_args = TrainingArguments(\n",
    "    output_dir='/kaggle/working/',           # output directory\n",
    "    num_train_epochs=3,               # number of training epochs\n",
    "    per_device_train_batch_size=16,   # batch size for training\n",
    "    per_device_eval_batch_size=64,    # batch size for evaluation\n",
    "    warmup_steps=500,                 # number of warmup steps for learning rate scheduler\n",
    "    weight_decay=0.01,                # strength of weight decay\n",
    "    logging_dir='/kaggle/working/logs',             # directory for storing logs\n",
    "    logging_steps=1000,\n",
    "    report_to=\"none\",                   # log metrics every 10 steps\n",
    "    save_steps=10000,                      # save a checkpoint every 10,000 steps\n",
    "    evaluation_strategy='steps',           # evaluate each `eval_steps`\n",
    "    eval_steps=5000,                       # evaluation every 5000 steps\n",
    ")\n",
    "\n",
    "\n"
   ]
  },
  {
   "cell_type": "code",
   "execution_count": 20,
   "id": "0aaae342",
   "metadata": {
    "execution": {
     "iopub.execute_input": "2024-05-03T05:36:01.894913Z",
     "iopub.status.busy": "2024-05-03T05:36:01.893814Z",
     "iopub.status.idle": "2024-05-03T05:36:08.098990Z",
     "shell.execute_reply": "2024-05-03T05:36:08.098150Z"
    },
    "papermill": {
     "duration": 6.220034,
     "end_time": "2024-05-03T05:36:08.101385",
     "exception": false,
     "start_time": "2024-05-03T05:36:01.881351",
     "status": "completed"
    },
    "tags": []
   },
   "outputs": [],
   "source": [
    "# Assuming df_eval is your evaluation DataFrame\n",
    "eval_encodings = tokenizer(df_eval['molecule_smiles'].tolist(), truncation=True, padding=True, max_length=512)\n",
    "eval_labels = df_eval['binds'].tolist()\n",
    "eval_dataset = SMILESDataset(eval_encodings, eval_labels)"
   ]
  },
  {
   "cell_type": "code",
   "execution_count": 21,
   "id": "0415780c",
   "metadata": {
    "execution": {
     "iopub.execute_input": "2024-05-03T05:36:08.126693Z",
     "iopub.status.busy": "2024-05-03T05:36:08.125869Z",
     "iopub.status.idle": "2024-05-03T05:36:10.449795Z",
     "shell.execute_reply": "2024-05-03T05:36:10.448894Z"
    },
    "papermill": {
     "duration": 2.338455,
     "end_time": "2024-05-03T05:36:10.451648",
     "exception": false,
     "start_time": "2024-05-03T05:36:08.113193",
     "status": "completed"
    },
    "tags": []
   },
   "outputs": [
    {
     "data": {
      "text/plain": [
       "0"
      ]
     },
     "execution_count": 21,
     "metadata": {},
     "output_type": "execute_result"
    }
   ],
   "source": [
    "import gc\n",
    "\n",
    "gc.collect()"
   ]
  },
  {
   "cell_type": "code",
   "execution_count": 22,
   "id": "6cab3609",
   "metadata": {
    "execution": {
     "iopub.execute_input": "2024-05-03T05:36:10.476065Z",
     "iopub.status.busy": "2024-05-03T05:36:10.475725Z",
     "iopub.status.idle": "2024-05-03T11:22:48.149113Z",
     "shell.execute_reply": "2024-05-03T11:22:48.148134Z"
    },
    "papermill": {
     "duration": 20797.688469,
     "end_time": "2024-05-03T11:22:48.151633",
     "exception": false,
     "start_time": "2024-05-03T05:36:10.463164",
     "status": "completed"
    },
    "tags": []
   },
   "outputs": [
    {
     "name": "stderr",
     "output_type": "stream",
     "text": [
      "/opt/conda/lib/python3.10/site-packages/accelerate/accelerator.py:436: FutureWarning: Passing the following arguments to `Accelerator` is deprecated and will be removed in version 1.0 of Accelerate: dict_keys(['dispatch_batches', 'split_batches', 'even_batches', 'use_seedable_sampler']). Please pass an `accelerate.DataLoaderConfiguration` instead: \n",
      "dataloader_config = DataLoaderConfiguration(dispatch_batches=None, split_batches=False, even_batches=True, use_seedable_sampler=True)\n",
      "  warnings.warn(\n"
     ]
    },
    {
     "data": {
      "text/html": [
       "\n",
       "    <div>\n",
       "      \n",
       "      <progress value='168750' max='168750' style='width:300px; height:20px; vertical-align: middle;'></progress>\n",
       "      [168750/168750 5:46:34, Epoch 3/3]\n",
       "    </div>\n",
       "    <table border=\"1\" class=\"dataframe\">\n",
       "  <thead>\n",
       " <tr style=\"text-align: left;\">\n",
       "      <th>Step</th>\n",
       "      <th>Training Loss</th>\n",
       "      <th>Validation Loss</th>\n",
       "    </tr>\n",
       "  </thead>\n",
       "  <tbody>\n",
       "    <tr>\n",
       "      <td>5000</td>\n",
       "      <td>0.018600</td>\n",
       "      <td>0.018961</td>\n",
       "    </tr>\n",
       "    <tr>\n",
       "      <td>10000</td>\n",
       "      <td>0.017900</td>\n",
       "      <td>0.019658</td>\n",
       "    </tr>\n",
       "    <tr>\n",
       "      <td>15000</td>\n",
       "      <td>0.019500</td>\n",
       "      <td>0.018809</td>\n",
       "    </tr>\n",
       "    <tr>\n",
       "      <td>20000</td>\n",
       "      <td>0.017500</td>\n",
       "      <td>0.019159</td>\n",
       "    </tr>\n",
       "    <tr>\n",
       "      <td>25000</td>\n",
       "      <td>0.020800</td>\n",
       "      <td>0.019781</td>\n",
       "    </tr>\n",
       "    <tr>\n",
       "      <td>30000</td>\n",
       "      <td>0.020700</td>\n",
       "      <td>0.018930</td>\n",
       "    </tr>\n",
       "    <tr>\n",
       "      <td>35000</td>\n",
       "      <td>0.019000</td>\n",
       "      <td>0.019215</td>\n",
       "    </tr>\n",
       "    <tr>\n",
       "      <td>40000</td>\n",
       "      <td>0.015800</td>\n",
       "      <td>0.019993</td>\n",
       "    </tr>\n",
       "    <tr>\n",
       "      <td>45000</td>\n",
       "      <td>0.023700</td>\n",
       "      <td>0.018648</td>\n",
       "    </tr>\n",
       "    <tr>\n",
       "      <td>50000</td>\n",
       "      <td>0.014500</td>\n",
       "      <td>0.019812</td>\n",
       "    </tr>\n",
       "    <tr>\n",
       "      <td>55000</td>\n",
       "      <td>0.017500</td>\n",
       "      <td>0.018860</td>\n",
       "    </tr>\n",
       "    <tr>\n",
       "      <td>60000</td>\n",
       "      <td>0.018600</td>\n",
       "      <td>0.018979</td>\n",
       "    </tr>\n",
       "    <tr>\n",
       "      <td>65000</td>\n",
       "      <td>0.019800</td>\n",
       "      <td>0.018680</td>\n",
       "    </tr>\n",
       "    <tr>\n",
       "      <td>70000</td>\n",
       "      <td>0.019700</td>\n",
       "      <td>0.019249</td>\n",
       "    </tr>\n",
       "    <tr>\n",
       "      <td>75000</td>\n",
       "      <td>0.018100</td>\n",
       "      <td>0.019046</td>\n",
       "    </tr>\n",
       "    <tr>\n",
       "      <td>80000</td>\n",
       "      <td>0.014200</td>\n",
       "      <td>0.019623</td>\n",
       "    </tr>\n",
       "    <tr>\n",
       "      <td>85000</td>\n",
       "      <td>0.019600</td>\n",
       "      <td>0.018919</td>\n",
       "    </tr>\n",
       "    <tr>\n",
       "      <td>90000</td>\n",
       "      <td>0.018500</td>\n",
       "      <td>0.019341</td>\n",
       "    </tr>\n",
       "    <tr>\n",
       "      <td>95000</td>\n",
       "      <td>0.019000</td>\n",
       "      <td>0.018891</td>\n",
       "    </tr>\n",
       "    <tr>\n",
       "      <td>100000</td>\n",
       "      <td>0.019000</td>\n",
       "      <td>0.019015</td>\n",
       "    </tr>\n",
       "    <tr>\n",
       "      <td>105000</td>\n",
       "      <td>0.023300</td>\n",
       "      <td>0.018454</td>\n",
       "    </tr>\n",
       "    <tr>\n",
       "      <td>110000</td>\n",
       "      <td>0.017900</td>\n",
       "      <td>0.019122</td>\n",
       "    </tr>\n",
       "    <tr>\n",
       "      <td>115000</td>\n",
       "      <td>0.023000</td>\n",
       "      <td>0.018727</td>\n",
       "    </tr>\n",
       "    <tr>\n",
       "      <td>120000</td>\n",
       "      <td>0.017600</td>\n",
       "      <td>0.018647</td>\n",
       "    </tr>\n",
       "    <tr>\n",
       "      <td>125000</td>\n",
       "      <td>0.020100</td>\n",
       "      <td>0.018472</td>\n",
       "    </tr>\n",
       "    <tr>\n",
       "      <td>130000</td>\n",
       "      <td>0.015400</td>\n",
       "      <td>0.019736</td>\n",
       "    </tr>\n",
       "    <tr>\n",
       "      <td>135000</td>\n",
       "      <td>0.019500</td>\n",
       "      <td>0.018976</td>\n",
       "    </tr>\n",
       "    <tr>\n",
       "      <td>140000</td>\n",
       "      <td>0.021800</td>\n",
       "      <td>0.018793</td>\n",
       "    </tr>\n",
       "    <tr>\n",
       "      <td>145000</td>\n",
       "      <td>0.016900</td>\n",
       "      <td>0.018984</td>\n",
       "    </tr>\n",
       "    <tr>\n",
       "      <td>150000</td>\n",
       "      <td>0.019400</td>\n",
       "      <td>0.018979</td>\n",
       "    </tr>\n",
       "    <tr>\n",
       "      <td>155000</td>\n",
       "      <td>0.016500</td>\n",
       "      <td>0.019039</td>\n",
       "    </tr>\n",
       "    <tr>\n",
       "      <td>160000</td>\n",
       "      <td>0.016200</td>\n",
       "      <td>0.018999</td>\n",
       "    </tr>\n",
       "    <tr>\n",
       "      <td>165000</td>\n",
       "      <td>0.022500</td>\n",
       "      <td>0.018826</td>\n",
       "    </tr>\n",
       "  </tbody>\n",
       "</table><p>"
      ],
      "text/plain": [
       "<IPython.core.display.HTML object>"
      ]
     },
     "metadata": {},
     "output_type": "display_data"
    },
    {
     "data": {
      "text/plain": [
       "TrainOutput(global_step=168750, training_loss=0.018689157466182, metrics={'train_runtime': 20795.2747, 'train_samples_per_second': 129.837, 'train_steps_per_second': 8.115, 'total_flos': 7.12529718552e+16, 'train_loss': 0.018689157466182, 'epoch': 3.0})"
      ]
     },
     "execution_count": 22,
     "metadata": {},
     "output_type": "execute_result"
    }
   ],
   "source": [
    "trainer = Trainer(\n",
    "    model=model,\n",
    "    args=training_args,\n",
    "    train_dataset=train_dataset,\n",
    "    eval_dataset=eval_dataset \n",
    ")\n",
    "\n",
    "# Train the model\n",
    "trainer.train()"
   ]
  },
  {
   "cell_type": "markdown",
   "id": "78a57492",
   "metadata": {
    "papermill": {
     "duration": 0.011544,
     "end_time": "2024-05-03T11:22:48.177833",
     "exception": false,
     "start_time": "2024-05-03T11:22:48.166289",
     "status": "completed"
    },
    "tags": []
   },
   "source": [
    "## Testing"
   ]
  },
  {
   "cell_type": "markdown",
   "id": "6374f39a",
   "metadata": {
    "papermill": {
     "duration": 0.011518,
     "end_time": "2024-05-03T11:22:48.201004",
     "exception": false,
     "start_time": "2024-05-03T11:22:48.189486",
     "status": "completed"
    },
    "tags": []
   },
   "source": [
    "LOading and testing data"
   ]
  },
  {
   "cell_type": "code",
   "execution_count": 23,
   "id": "2d43cb81",
   "metadata": {
    "execution": {
     "iopub.execute_input": "2024-05-03T11:22:48.227414Z",
     "iopub.status.busy": "2024-05-03T11:22:48.226496Z",
     "iopub.status.idle": "2024-05-03T11:22:48.231209Z",
     "shell.execute_reply": "2024-05-03T11:22:48.230307Z"
    },
    "papermill": {
     "duration": 0.020083,
     "end_time": "2024-05-03T11:22:48.233180",
     "exception": false,
     "start_time": "2024-05-03T11:22:48.213097",
     "status": "completed"
    },
    "tags": []
   },
   "outputs": [],
   "source": [
    "# df_test = pd.read_csv('/kaggle/input/leash-BELKA/test.csv')"
   ]
  },
  {
   "cell_type": "code",
   "execution_count": 24,
   "id": "477fa35b",
   "metadata": {
    "execution": {
     "iopub.execute_input": "2024-05-03T11:22:48.258158Z",
     "iopub.status.busy": "2024-05-03T11:22:48.257779Z",
     "iopub.status.idle": "2024-05-03T11:22:48.262140Z",
     "shell.execute_reply": "2024-05-03T11:22:48.261237Z"
    },
    "papermill": {
     "duration": 0.019041,
     "end_time": "2024-05-03T11:22:48.264123",
     "exception": false,
     "start_time": "2024-05-03T11:22:48.245082",
     "status": "completed"
    },
    "tags": []
   },
   "outputs": [],
   "source": [
    "# len(df_test)"
   ]
  },
  {
   "cell_type": "code",
   "execution_count": 25,
   "id": "814b5617",
   "metadata": {
    "execution": {
     "iopub.execute_input": "2024-05-03T11:22:48.290528Z",
     "iopub.status.busy": "2024-05-03T11:22:48.289733Z",
     "iopub.status.idle": "2024-05-03T11:22:48.294411Z",
     "shell.execute_reply": "2024-05-03T11:22:48.293505Z"
    },
    "papermill": {
     "duration": 0.019975,
     "end_time": "2024-05-03T11:22:48.296409",
     "exception": false,
     "start_time": "2024-05-03T11:22:48.276434",
     "status": "completed"
    },
    "tags": []
   },
   "outputs": [],
   "source": [
    "# # Assuming df_test is your test DataFrame with similar columns as df_train except 'binds'\n",
    "# test_encodings = tokenizer(df_test['molecule_smiles'].tolist(), truncation=True, padding=True, max_length=512)\n"
   ]
  },
  {
   "cell_type": "code",
   "execution_count": 26,
   "id": "b1d0f1ec",
   "metadata": {
    "execution": {
     "iopub.execute_input": "2024-05-03T11:22:48.323747Z",
     "iopub.status.busy": "2024-05-03T11:22:48.323403Z",
     "iopub.status.idle": "2024-05-03T11:22:48.328140Z",
     "shell.execute_reply": "2024-05-03T11:22:48.326834Z"
    },
    "papermill": {
     "duration": 0.022001,
     "end_time": "2024-05-03T11:22:48.330441",
     "exception": false,
     "start_time": "2024-05-03T11:22:48.308440",
     "status": "completed"
    },
    "tags": []
   },
   "outputs": [],
   "source": [
    "# test_dataset = SMILESTestDataset(test_encodings)"
   ]
  },
  {
   "cell_type": "code",
   "execution_count": 27,
   "id": "2325bf02",
   "metadata": {
    "execution": {
     "iopub.execute_input": "2024-05-03T11:22:48.356306Z",
     "iopub.status.busy": "2024-05-03T11:22:48.355611Z",
     "iopub.status.idle": "2024-05-03T11:22:48.360039Z",
     "shell.execute_reply": "2024-05-03T11:22:48.359083Z"
    },
    "papermill": {
     "duration": 0.019714,
     "end_time": "2024-05-03T11:22:48.362445",
     "exception": false,
     "start_time": "2024-05-03T11:22:48.342731",
     "status": "completed"
    },
    "tags": []
   },
   "outputs": [],
   "source": [
    "# # Predict\n",
    "# predictions = trainer.predict(test_dataset)\n",
    "\n",
    "# # The predictions object includes a predictions array, label_ids array (if available), and metrics (if labels provided during prediction)\n",
    "# pred_labels = predictions.predictions.argmax(-1)  # We use argmax to convert from logits to class labels\n"
   ]
  },
  {
   "cell_type": "code",
   "execution_count": 28,
   "id": "1c04281c",
   "metadata": {
    "execution": {
     "iopub.execute_input": "2024-05-03T11:22:48.388245Z",
     "iopub.status.busy": "2024-05-03T11:22:48.387641Z",
     "iopub.status.idle": "2024-05-03T11:22:48.391871Z",
     "shell.execute_reply": "2024-05-03T11:22:48.391060Z"
    },
    "papermill": {
     "duration": 0.018925,
     "end_time": "2024-05-03T11:22:48.393709",
     "exception": false,
     "start_time": "2024-05-03T11:22:48.374784",
     "status": "completed"
    },
    "tags": []
   },
   "outputs": [],
   "source": [
    "# df_test['predicted_binds'] = pred_labels"
   ]
  },
  {
   "cell_type": "code",
   "execution_count": 29,
   "id": "4ba855f8",
   "metadata": {
    "execution": {
     "iopub.execute_input": "2024-05-03T11:22:48.420253Z",
     "iopub.status.busy": "2024-05-03T11:22:48.419957Z",
     "iopub.status.idle": "2024-05-03T11:22:48.423743Z",
     "shell.execute_reply": "2024-05-03T11:22:48.422879Z"
    },
    "papermill": {
     "duration": 0.020044,
     "end_time": "2024-05-03T11:22:48.425674",
     "exception": false,
     "start_time": "2024-05-03T11:22:48.405630",
     "status": "completed"
    },
    "tags": []
   },
   "outputs": [],
   "source": [
    "# # Saving the DataFrame with predictions to a new CSV file\n",
    "# df_test.to_csv('test_predictions.csv', index=False)"
   ]
  },
  {
   "cell_type": "code",
   "execution_count": null,
   "id": "64632f42",
   "metadata": {
    "papermill": {
     "duration": 0.011643,
     "end_time": "2024-05-03T11:22:48.449321",
     "exception": false,
     "start_time": "2024-05-03T11:22:48.437678",
     "status": "completed"
    },
    "tags": []
   },
   "outputs": [],
   "source": []
  }
 ],
 "metadata": {
  "kaggle": {
   "accelerator": "gpu",
   "dataSources": [
    {
     "databundleVersionId": 8006601,
     "sourceId": 67356,
     "sourceType": "competition"
    }
   ],
   "dockerImageVersionId": 30698,
   "isGpuEnabled": true,
   "isInternetEnabled": true,
   "language": "python",
   "sourceType": "notebook"
  },
  "kernelspec": {
   "display_name": "Python 3",
   "language": "python",
   "name": "python3"
  },
  "language_info": {
   "codemirror_mode": {
    "name": "ipython",
    "version": 3
   },
   "file_extension": ".py",
   "mimetype": "text/x-python",
   "name": "python",
   "nbconvert_exporter": "python",
   "pygments_lexer": "ipython3",
   "version": "3.10.13"
  },
  "papermill": {
   "default_parameters": {},
   "duration": 20920.911143,
   "end_time": "2024-05-03T11:22:51.933380",
   "environment_variables": {},
   "exception": null,
   "input_path": "__notebook__.ipynb",
   "output_path": "__notebook__.ipynb",
   "parameters": {},
   "start_time": "2024-05-03T05:34:11.022237",
   "version": "2.5.0"
  },
  "widgets": {
   "application/vnd.jupyter.widget-state+json": {
    "state": {
     "00f2a435507c46b596c570e93df8315e": {
      "model_module": "@jupyter-widgets/controls",
      "model_module_version": "1.5.0",
      "model_name": "DescriptionStyleModel",
      "state": {
       "_model_module": "@jupyter-widgets/controls",
       "_model_module_version": "1.5.0",
       "_model_name": "DescriptionStyleModel",
       "_view_count": null,
       "_view_module": "@jupyter-widgets/base",
       "_view_module_version": "1.2.0",
       "_view_name": "StyleView",
       "description_width": ""
      }
     },
     "082848887724422180fa67f0e8366fcc": {
      "model_module": "@jupyter-widgets/controls",
      "model_module_version": "1.5.0",
      "model_name": "HTMLModel",
      "state": {
       "_dom_classes": [],
       "_model_module": "@jupyter-widgets/controls",
       "_model_module_version": "1.5.0",
       "_model_name": "HTMLModel",
       "_view_count": null,
       "_view_module": "@jupyter-widgets/controls",
       "_view_module_version": "1.5.0",
       "_view_name": "HTMLView",
       "description": "",
       "description_tooltip": null,
       "layout": "IPY_MODEL_c1d9675e77434c1da6acc7ae4cc3a4a5",
       "placeholder": "​",
       "style": "IPY_MODEL_c826b6f8a64f4752ad6ef135d2d7ae72",
       "value": "special_tokens_map.json: 100%"
      }
     },
     "0baefc5fb5934a67916d00a8c60bdf0c": {
      "model_module": "@jupyter-widgets/base",
      "model_module_version": "1.2.0",
      "model_name": "LayoutModel",
      "state": {
       "_model_module": "@jupyter-widgets/base",
       "_model_module_version": "1.2.0",
       "_model_name": "LayoutModel",
       "_view_count": null,
       "_view_module": "@jupyter-widgets/base",
       "_view_module_version": "1.2.0",
       "_view_name": "LayoutView",
       "align_content": null,
       "align_items": null,
       "align_self": null,
       "border": null,
       "bottom": null,
       "display": null,
       "flex": null,
       "flex_flow": null,
       "grid_area": null,
       "grid_auto_columns": null,
       "grid_auto_flow": null,
       "grid_auto_rows": null,
       "grid_column": null,
       "grid_gap": null,
       "grid_row": null,
       "grid_template_areas": null,
       "grid_template_columns": null,
       "grid_template_rows": null,
       "height": null,
       "justify_content": null,
       "justify_items": null,
       "left": null,
       "margin": null,
       "max_height": null,
       "max_width": null,
       "min_height": null,
       "min_width": null,
       "object_fit": null,
       "object_position": null,
       "order": null,
       "overflow": null,
       "overflow_x": null,
       "overflow_y": null,
       "padding": null,
       "right": null,
       "top": null,
       "visibility": null,
       "width": null
      }
     },
     "109ef08f4b584ad18f68d33787dcdc71": {
      "model_module": "@jupyter-widgets/base",
      "model_module_version": "1.2.0",
      "model_name": "LayoutModel",
      "state": {
       "_model_module": "@jupyter-widgets/base",
       "_model_module_version": "1.2.0",
       "_model_name": "LayoutModel",
       "_view_count": null,
       "_view_module": "@jupyter-widgets/base",
       "_view_module_version": "1.2.0",
       "_view_name": "LayoutView",
       "align_content": null,
       "align_items": null,
       "align_self": null,
       "border": null,
       "bottom": null,
       "display": null,
       "flex": null,
       "flex_flow": null,
       "grid_area": null,
       "grid_auto_columns": null,
       "grid_auto_flow": null,
       "grid_auto_rows": null,
       "grid_column": null,
       "grid_gap": null,
       "grid_row": null,
       "grid_template_areas": null,
       "grid_template_columns": null,
       "grid_template_rows": null,
       "height": null,
       "justify_content": null,
       "justify_items": null,
       "left": null,
       "margin": null,
       "max_height": null,
       "max_width": null,
       "min_height": null,
       "min_width": null,
       "object_fit": null,
       "object_position": null,
       "order": null,
       "overflow": null,
       "overflow_x": null,
       "overflow_y": null,
       "padding": null,
       "right": null,
       "top": null,
       "visibility": null,
       "width": null
      }
     },
     "1125f955cc0b4fd3b63efb99a110ab4e": {
      "model_module": "@jupyter-widgets/controls",
      "model_module_version": "1.5.0",
      "model_name": "HBoxModel",
      "state": {
       "_dom_classes": [],
       "_model_module": "@jupyter-widgets/controls",
       "_model_module_version": "1.5.0",
       "_model_name": "HBoxModel",
       "_view_count": null,
       "_view_module": "@jupyter-widgets/controls",
       "_view_module_version": "1.5.0",
       "_view_name": "HBoxView",
       "box_style": "",
       "children": [
        "IPY_MODEL_ddfa086e5d524354a072c803d4812ff9",
        "IPY_MODEL_74e79f9731124dccbd92f183e9940d8f",
        "IPY_MODEL_2ea5c6cc0a134db793b2ba3fcfcd2c7b"
       ],
       "layout": "IPY_MODEL_109ef08f4b584ad18f68d33787dcdc71"
      }
     },
     "14381fcd167643e2a4e2351fa778ae64": {
      "model_module": "@jupyter-widgets/controls",
      "model_module_version": "1.5.0",
      "model_name": "FloatProgressModel",
      "state": {
       "_dom_classes": [],
       "_model_module": "@jupyter-widgets/controls",
       "_model_module_version": "1.5.0",
       "_model_name": "FloatProgressModel",
       "_view_count": null,
       "_view_module": "@jupyter-widgets/controls",
       "_view_module_version": "1.5.0",
       "_view_name": "ProgressView",
       "bar_style": "success",
       "description": "",
       "description_tooltip": null,
       "layout": "IPY_MODEL_5424fa2bb7804e76bb9c7867c2f501f5",
       "max": 101307.0,
       "min": 0.0,
       "orientation": "horizontal",
       "style": "IPY_MODEL_e5308db1e724474d92d866646331f18e",
       "value": 101307.0
      }
     },
     "20b66a236c8541bbafffcfc7444df69e": {
      "model_module": "@jupyter-widgets/controls",
      "model_module_version": "1.5.0",
      "model_name": "FloatProgressModel",
      "state": {
       "_dom_classes": [],
       "_model_module": "@jupyter-widgets/controls",
       "_model_module_version": "1.5.0",
       "_model_name": "FloatProgressModel",
       "_view_count": null,
       "_view_module": "@jupyter-widgets/controls",
       "_view_module_version": "1.5.0",
       "_view_name": "ProgressView",
       "bar_style": "success",
       "description": "",
       "description_tooltip": null,
       "layout": "IPY_MODEL_b2d896c60a7e4c5ba44e44fabcbc6fbf",
       "max": 772.0,
       "min": 0.0,
       "orientation": "horizontal",
       "style": "IPY_MODEL_77f79887ed6c41e0a678143ac273ce07",
       "value": 772.0
      }
     },
     "235cf1b4de3440e4852268aef6f10316": {
      "model_module": "@jupyter-widgets/base",
      "model_module_version": "1.2.0",
      "model_name": "LayoutModel",
      "state": {
       "_model_module": "@jupyter-widgets/base",
       "_model_module_version": "1.2.0",
       "_model_name": "LayoutModel",
       "_view_count": null,
       "_view_module": "@jupyter-widgets/base",
       "_view_module_version": "1.2.0",
       "_view_name": "LayoutView",
       "align_content": null,
       "align_items": null,
       "align_self": null,
       "border": null,
       "bottom": null,
       "display": null,
       "flex": null,
       "flex_flow": null,
       "grid_area": null,
       "grid_auto_columns": null,
       "grid_auto_flow": null,
       "grid_auto_rows": null,
       "grid_column": null,
       "grid_gap": null,
       "grid_row": null,
       "grid_template_areas": null,
       "grid_template_columns": null,
       "grid_template_rows": null,
       "height": null,
       "justify_content": null,
       "justify_items": null,
       "left": null,
       "margin": null,
       "max_height": null,
       "max_width": null,
       "min_height": null,
       "min_width": null,
       "object_fit": null,
       "object_position": null,
       "order": null,
       "overflow": null,
       "overflow_x": null,
       "overflow_y": null,
       "padding": null,
       "right": null,
       "top": null,
       "visibility": null,
       "width": null
      }
     },
     "27b16f523d59478c9d4babcd28340629": {
      "model_module": "@jupyter-widgets/controls",
      "model_module_version": "1.5.0",
      "model_name": "HTMLModel",
      "state": {
       "_dom_classes": [],
       "_model_module": "@jupyter-widgets/controls",
       "_model_module_version": "1.5.0",
       "_model_name": "HTMLModel",
       "_view_count": null,
       "_view_module": "@jupyter-widgets/controls",
       "_view_module_version": "1.5.0",
       "_view_name": "HTMLView",
       "description": "",
       "description_tooltip": null,
       "layout": "IPY_MODEL_4d763466399d41e2b7e16482639838d2",
       "placeholder": "​",
       "style": "IPY_MODEL_a8c80c56ee084e06ac2c8daada9711db",
       "value": " 515/515 [00:00&lt;00:00, 45.4kB/s]"
      }
     },
     "28533c3edc8c42838ddefaed91962b88": {
      "model_module": "@jupyter-widgets/controls",
      "model_module_version": "1.5.0",
      "model_name": "DescriptionStyleModel",
      "state": {
       "_model_module": "@jupyter-widgets/controls",
       "_model_module_version": "1.5.0",
       "_model_name": "DescriptionStyleModel",
       "_view_count": null,
       "_view_module": "@jupyter-widgets/base",
       "_view_module_version": "1.2.0",
       "_view_name": "StyleView",
       "description_width": ""
      }
     },
     "2a2ab0afc36348d7992f57344691a63b": {
      "model_module": "@jupyter-widgets/controls",
      "model_module_version": "1.5.0",
      "model_name": "HTMLModel",
      "state": {
       "_dom_classes": [],
       "_model_module": "@jupyter-widgets/controls",
       "_model_module_version": "1.5.0",
       "_model_name": "HTMLModel",
       "_view_count": null,
       "_view_module": "@jupyter-widgets/controls",
       "_view_module_version": "1.5.0",
       "_view_name": "HTMLView",
       "description": "",
       "description_tooltip": null,
       "layout": "IPY_MODEL_f5b86b2607404038949f62664551315d",
       "placeholder": "​",
       "style": "IPY_MODEL_436f4be7a48542cbadedc98c4c0fc363",
       "value": " 772/772 [00:00&lt;00:00, 69.2kB/s]"
      }
     },
     "2ea5c6cc0a134db793b2ba3fcfcd2c7b": {
      "model_module": "@jupyter-widgets/controls",
      "model_module_version": "1.5.0",
      "model_name": "HTMLModel",
      "state": {
       "_dom_classes": [],
       "_model_module": "@jupyter-widgets/controls",
       "_model_module_version": "1.5.0",
       "_model_name": "HTMLModel",
       "_view_count": null,
       "_view_module": "@jupyter-widgets/controls",
       "_view_module_version": "1.5.0",
       "_view_name": "HTMLView",
       "description": "",
       "description_tooltip": null,
       "layout": "IPY_MODEL_5fe87b50156440f8abdf0c3ef2d1ea94",
       "placeholder": "​",
       "style": "IPY_MODEL_b6d792dbadea4a43b67ae63c45d36d18",
       "value": " 62.0/62.0 [00:00&lt;00:00, 5.12kB/s]"
      }
     },
     "3754108da4284d40aa750b11e4dfd188": {
      "model_module": "@jupyter-widgets/base",
      "model_module_version": "1.2.0",
      "model_name": "LayoutModel",
      "state": {
       "_model_module": "@jupyter-widgets/base",
       "_model_module_version": "1.2.0",
       "_model_name": "LayoutModel",
       "_view_count": null,
       "_view_module": "@jupyter-widgets/base",
       "_view_module_version": "1.2.0",
       "_view_name": "LayoutView",
       "align_content": null,
       "align_items": null,
       "align_self": null,
       "border": null,
       "bottom": null,
       "display": null,
       "flex": null,
       "flex_flow": null,
       "grid_area": null,
       "grid_auto_columns": null,
       "grid_auto_flow": null,
       "grid_auto_rows": null,
       "grid_column": null,
       "grid_gap": null,
       "grid_row": null,
       "grid_template_areas": null,
       "grid_template_columns": null,
       "grid_template_rows": null,
       "height": null,
       "justify_content": null,
       "justify_items": null,
       "left": null,
       "margin": null,
       "max_height": null,
       "max_width": null,
       "min_height": null,
       "min_width": null,
       "object_fit": null,
       "object_position": null,
       "order": null,
       "overflow": null,
       "overflow_x": null,
       "overflow_y": null,
       "padding": null,
       "right": null,
       "top": null,
       "visibility": null,
       "width": null
      }
     },
     "38768b71be8342dbb33c28015b5966db": {
      "model_module": "@jupyter-widgets/base",
      "model_module_version": "1.2.0",
      "model_name": "LayoutModel",
      "state": {
       "_model_module": "@jupyter-widgets/base",
       "_model_module_version": "1.2.0",
       "_model_name": "LayoutModel",
       "_view_count": null,
       "_view_module": "@jupyter-widgets/base",
       "_view_module_version": "1.2.0",
       "_view_name": "LayoutView",
       "align_content": null,
       "align_items": null,
       "align_self": null,
       "border": null,
       "bottom": null,
       "display": null,
       "flex": null,
       "flex_flow": null,
       "grid_area": null,
       "grid_auto_columns": null,
       "grid_auto_flow": null,
       "grid_auto_rows": null,
       "grid_column": null,
       "grid_gap": null,
       "grid_row": null,
       "grid_template_areas": null,
       "grid_template_columns": null,
       "grid_template_rows": null,
       "height": null,
       "justify_content": null,
       "justify_items": null,
       "left": null,
       "margin": null,
       "max_height": null,
       "max_width": null,
       "min_height": null,
       "min_width": null,
       "object_fit": null,
       "object_position": null,
       "order": null,
       "overflow": null,
       "overflow_x": null,
       "overflow_y": null,
       "padding": null,
       "right": null,
       "top": null,
       "visibility": null,
       "width": null
      }
     },
     "3ab33497657e4b72864983b432c65cd1": {
      "model_module": "@jupyter-widgets/base",
      "model_module_version": "1.2.0",
      "model_name": "LayoutModel",
      "state": {
       "_model_module": "@jupyter-widgets/base",
       "_model_module_version": "1.2.0",
       "_model_name": "LayoutModel",
       "_view_count": null,
       "_view_module": "@jupyter-widgets/base",
       "_view_module_version": "1.2.0",
       "_view_name": "LayoutView",
       "align_content": null,
       "align_items": null,
       "align_self": null,
       "border": null,
       "bottom": null,
       "display": null,
       "flex": null,
       "flex_flow": null,
       "grid_area": null,
       "grid_auto_columns": null,
       "grid_auto_flow": null,
       "grid_auto_rows": null,
       "grid_column": null,
       "grid_gap": null,
       "grid_row": null,
       "grid_template_areas": null,
       "grid_template_columns": null,
       "grid_template_rows": null,
       "height": null,
       "justify_content": null,
       "justify_items": null,
       "left": null,
       "margin": null,
       "max_height": null,
       "max_width": null,
       "min_height": null,
       "min_width": null,
       "object_fit": null,
       "object_position": null,
       "order": null,
       "overflow": null,
       "overflow_x": null,
       "overflow_y": null,
       "padding": null,
       "right": null,
       "top": null,
       "visibility": null,
       "width": null
      }
     },
     "436f4be7a48542cbadedc98c4c0fc363": {
      "model_module": "@jupyter-widgets/controls",
      "model_module_version": "1.5.0",
      "model_name": "DescriptionStyleModel",
      "state": {
       "_model_module": "@jupyter-widgets/controls",
       "_model_module_version": "1.5.0",
       "_model_name": "DescriptionStyleModel",
       "_view_count": null,
       "_view_module": "@jupyter-widgets/base",
       "_view_module_version": "1.2.0",
       "_view_name": "StyleView",
       "description_width": ""
      }
     },
     "449a6c6571ea4aae87cd96d05bd13672": {
      "model_module": "@jupyter-widgets/controls",
      "model_module_version": "1.5.0",
      "model_name": "ProgressStyleModel",
      "state": {
       "_model_module": "@jupyter-widgets/controls",
       "_model_module_version": "1.5.0",
       "_model_name": "ProgressStyleModel",
       "_view_count": null,
       "_view_module": "@jupyter-widgets/base",
       "_view_module_version": "1.2.0",
       "_view_name": "StyleView",
       "bar_color": null,
       "description_width": ""
      }
     },
     "4aa586ce759248dfa6aa1cc594541d1b": {
      "model_module": "@jupyter-widgets/base",
      "model_module_version": "1.2.0",
      "model_name": "LayoutModel",
      "state": {
       "_model_module": "@jupyter-widgets/base",
       "_model_module_version": "1.2.0",
       "_model_name": "LayoutModel",
       "_view_count": null,
       "_view_module": "@jupyter-widgets/base",
       "_view_module_version": "1.2.0",
       "_view_name": "LayoutView",
       "align_content": null,
       "align_items": null,
       "align_self": null,
       "border": null,
       "bottom": null,
       "display": null,
       "flex": null,
       "flex_flow": null,
       "grid_area": null,
       "grid_auto_columns": null,
       "grid_auto_flow": null,
       "grid_auto_rows": null,
       "grid_column": null,
       "grid_gap": null,
       "grid_row": null,
       "grid_template_areas": null,
       "grid_template_columns": null,
       "grid_template_rows": null,
       "height": null,
       "justify_content": null,
       "justify_items": null,
       "left": null,
       "margin": null,
       "max_height": null,
       "max_width": null,
       "min_height": null,
       "min_width": null,
       "object_fit": null,
       "object_position": null,
       "order": null,
       "overflow": null,
       "overflow_x": null,
       "overflow_y": null,
       "padding": null,
       "right": null,
       "top": null,
       "visibility": null,
       "width": null
      }
     },
     "4cdb5b41e9584c1995307336a64ed6d0": {
      "model_module": "@jupyter-widgets/controls",
      "model_module_version": "1.5.0",
      "model_name": "HTMLModel",
      "state": {
       "_dom_classes": [],
       "_model_module": "@jupyter-widgets/controls",
       "_model_module_version": "1.5.0",
       "_model_name": "HTMLModel",
       "_view_count": null,
       "_view_module": "@jupyter-widgets/controls",
       "_view_module_version": "1.5.0",
       "_view_name": "HTMLView",
       "description": "",
       "description_tooltip": null,
       "layout": "IPY_MODEL_dd80c691f58946e5bb593553196639e9",
       "placeholder": "​",
       "style": "IPY_MODEL_5d284870b3cd4ef4a49773252d8a4490",
       "value": "config.json: 100%"
      }
     },
     "4cfc23b6387843b99913b9aafbd66af2": {
      "model_module": "@jupyter-widgets/controls",
      "model_module_version": "1.5.0",
      "model_name": "HTMLModel",
      "state": {
       "_dom_classes": [],
       "_model_module": "@jupyter-widgets/controls",
       "_model_module_version": "1.5.0",
       "_model_name": "HTMLModel",
       "_view_count": null,
       "_view_module": "@jupyter-widgets/controls",
       "_view_module_version": "1.5.0",
       "_view_name": "HTMLView",
       "description": "",
       "description_tooltip": null,
       "layout": "IPY_MODEL_f924b912d9494e3380a5af9c474fb30f",
       "placeholder": "​",
       "style": "IPY_MODEL_b9e22345cfe04976abff358545535a95",
       "value": " 165k/165k [00:00&lt;00:00, 5.94MB/s]"
      }
     },
     "4d1a79f8d202425f93ab6daba17343b2": {
      "model_module": "@jupyter-widgets/controls",
      "model_module_version": "1.5.0",
      "model_name": "HTMLModel",
      "state": {
       "_dom_classes": [],
       "_model_module": "@jupyter-widgets/controls",
       "_model_module_version": "1.5.0",
       "_model_name": "HTMLModel",
       "_view_count": null,
       "_view_module": "@jupyter-widgets/controls",
       "_view_module_version": "1.5.0",
       "_view_name": "HTMLView",
       "description": "",
       "description_tooltip": null,
       "layout": "IPY_MODEL_3ab33497657e4b72864983b432c65cd1",
       "placeholder": "​",
       "style": "IPY_MODEL_b174c259141648f498e5c4b1a53cb7d3",
       "value": "vocab.json: 100%"
      }
     },
     "4d763466399d41e2b7e16482639838d2": {
      "model_module": "@jupyter-widgets/base",
      "model_module_version": "1.2.0",
      "model_name": "LayoutModel",
      "state": {
       "_model_module": "@jupyter-widgets/base",
       "_model_module_version": "1.2.0",
       "_model_name": "LayoutModel",
       "_view_count": null,
       "_view_module": "@jupyter-widgets/base",
       "_view_module_version": "1.2.0",
       "_view_name": "LayoutView",
       "align_content": null,
       "align_items": null,
       "align_self": null,
       "border": null,
       "bottom": null,
       "display": null,
       "flex": null,
       "flex_flow": null,
       "grid_area": null,
       "grid_auto_columns": null,
       "grid_auto_flow": null,
       "grid_auto_rows": null,
       "grid_column": null,
       "grid_gap": null,
       "grid_row": null,
       "grid_template_areas": null,
       "grid_template_columns": null,
       "grid_template_rows": null,
       "height": null,
       "justify_content": null,
       "justify_items": null,
       "left": null,
       "margin": null,
       "max_height": null,
       "max_width": null,
       "min_height": null,
       "min_width": null,
       "object_fit": null,
       "object_position": null,
       "order": null,
       "overflow": null,
       "overflow_x": null,
       "overflow_y": null,
       "padding": null,
       "right": null,
       "top": null,
       "visibility": null,
       "width": null
      }
     },
     "5424fa2bb7804e76bb9c7867c2f501f5": {
      "model_module": "@jupyter-widgets/base",
      "model_module_version": "1.2.0",
      "model_name": "LayoutModel",
      "state": {
       "_model_module": "@jupyter-widgets/base",
       "_model_module_version": "1.2.0",
       "_model_name": "LayoutModel",
       "_view_count": null,
       "_view_module": "@jupyter-widgets/base",
       "_view_module_version": "1.2.0",
       "_view_name": "LayoutView",
       "align_content": null,
       "align_items": null,
       "align_self": null,
       "border": null,
       "bottom": null,
       "display": null,
       "flex": null,
       "flex_flow": null,
       "grid_area": null,
       "grid_auto_columns": null,
       "grid_auto_flow": null,
       "grid_auto_rows": null,
       "grid_column": null,
       "grid_gap": null,
       "grid_row": null,
       "grid_template_areas": null,
       "grid_template_columns": null,
       "grid_template_rows": null,
       "height": null,
       "justify_content": null,
       "justify_items": null,
       "left": null,
       "margin": null,
       "max_height": null,
       "max_width": null,
       "min_height": null,
       "min_width": null,
       "object_fit": null,
       "object_position": null,
       "order": null,
       "overflow": null,
       "overflow_x": null,
       "overflow_y": null,
       "padding": null,
       "right": null,
       "top": null,
       "visibility": null,
       "width": null
      }
     },
     "587f1dfd74ae40ea9c78984abcfe1867": {
      "model_module": "@jupyter-widgets/controls",
      "model_module_version": "1.5.0",
      "model_name": "HTMLModel",
      "state": {
       "_dom_classes": [],
       "_model_module": "@jupyter-widgets/controls",
       "_model_module_version": "1.5.0",
       "_model_name": "HTMLModel",
       "_view_count": null,
       "_view_module": "@jupyter-widgets/controls",
       "_view_module_version": "1.5.0",
       "_view_name": "HTMLView",
       "description": "",
       "description_tooltip": null,
       "layout": "IPY_MODEL_3754108da4284d40aa750b11e4dfd188",
       "placeholder": "​",
       "style": "IPY_MODEL_fc40f92647a74e18895f561384f8e880",
       "value": "merges.txt: 100%"
      }
     },
     "5ad02b1de62e4cd5890488f60e240ac1": {
      "model_module": "@jupyter-widgets/controls",
      "model_module_version": "1.5.0",
      "model_name": "FloatProgressModel",
      "state": {
       "_dom_classes": [],
       "_model_module": "@jupyter-widgets/controls",
       "_model_module_version": "1.5.0",
       "_model_name": "FloatProgressModel",
       "_view_count": null,
       "_view_module": "@jupyter-widgets/controls",
       "_view_module_version": "1.5.0",
       "_view_name": "ProgressView",
       "bar_style": "success",
       "description": "",
       "description_tooltip": null,
       "layout": "IPY_MODEL_c9b5d4bd15bd4462843544f1a283b3a3",
       "max": 515.0,
       "min": 0.0,
       "orientation": "horizontal",
       "style": "IPY_MODEL_e2357cb6d7f64a45a48c34e1485b2a9d",
       "value": 515.0
      }
     },
     "5c7a8c237c344db584ed9ef9fe1fb22f": {
      "model_module": "@jupyter-widgets/base",
      "model_module_version": "1.2.0",
      "model_name": "LayoutModel",
      "state": {
       "_model_module": "@jupyter-widgets/base",
       "_model_module_version": "1.2.0",
       "_model_name": "LayoutModel",
       "_view_count": null,
       "_view_module": "@jupyter-widgets/base",
       "_view_module_version": "1.2.0",
       "_view_name": "LayoutView",
       "align_content": null,
       "align_items": null,
       "align_self": null,
       "border": null,
       "bottom": null,
       "display": null,
       "flex": null,
       "flex_flow": null,
       "grid_area": null,
       "grid_auto_columns": null,
       "grid_auto_flow": null,
       "grid_auto_rows": null,
       "grid_column": null,
       "grid_gap": null,
       "grid_row": null,
       "grid_template_areas": null,
       "grid_template_columns": null,
       "grid_template_rows": null,
       "height": null,
       "justify_content": null,
       "justify_items": null,
       "left": null,
       "margin": null,
       "max_height": null,
       "max_width": null,
       "min_height": null,
       "min_width": null,
       "object_fit": null,
       "object_position": null,
       "order": null,
       "overflow": null,
       "overflow_x": null,
       "overflow_y": null,
       "padding": null,
       "right": null,
       "top": null,
       "visibility": null,
       "width": null
      }
     },
     "5d284870b3cd4ef4a49773252d8a4490": {
      "model_module": "@jupyter-widgets/controls",
      "model_module_version": "1.5.0",
      "model_name": "DescriptionStyleModel",
      "state": {
       "_model_module": "@jupyter-widgets/controls",
       "_model_module_version": "1.5.0",
       "_model_name": "DescriptionStyleModel",
       "_view_count": null,
       "_view_module": "@jupyter-widgets/base",
       "_view_module_version": "1.2.0",
       "_view_name": "StyleView",
       "description_width": ""
      }
     },
     "5f29a673654042b98e5cf85aa4679706": {
      "model_module": "@jupyter-widgets/controls",
      "model_module_version": "1.5.0",
      "model_name": "DescriptionStyleModel",
      "state": {
       "_model_module": "@jupyter-widgets/controls",
       "_model_module_version": "1.5.0",
       "_model_name": "DescriptionStyleModel",
       "_view_count": null,
       "_view_module": "@jupyter-widgets/base",
       "_view_module_version": "1.2.0",
       "_view_name": "StyleView",
       "description_width": ""
      }
     },
     "5fe87b50156440f8abdf0c3ef2d1ea94": {
      "model_module": "@jupyter-widgets/base",
      "model_module_version": "1.2.0",
      "model_name": "LayoutModel",
      "state": {
       "_model_module": "@jupyter-widgets/base",
       "_model_module_version": "1.2.0",
       "_model_name": "LayoutModel",
       "_view_count": null,
       "_view_module": "@jupyter-widgets/base",
       "_view_module_version": "1.2.0",
       "_view_name": "LayoutView",
       "align_content": null,
       "align_items": null,
       "align_self": null,
       "border": null,
       "bottom": null,
       "display": null,
       "flex": null,
       "flex_flow": null,
       "grid_area": null,
       "grid_auto_columns": null,
       "grid_auto_flow": null,
       "grid_auto_rows": null,
       "grid_column": null,
       "grid_gap": null,
       "grid_row": null,
       "grid_template_areas": null,
       "grid_template_columns": null,
       "grid_template_rows": null,
       "height": null,
       "justify_content": null,
       "justify_items": null,
       "left": null,
       "margin": null,
       "max_height": null,
       "max_width": null,
       "min_height": null,
       "min_width": null,
       "object_fit": null,
       "object_position": null,
       "order": null,
       "overflow": null,
       "overflow_x": null,
       "overflow_y": null,
       "padding": null,
       "right": null,
       "top": null,
       "visibility": null,
       "width": null
      }
     },
     "675daf2ec8d046819728347c0f27d981": {
      "model_module": "@jupyter-widgets/controls",
      "model_module_version": "1.5.0",
      "model_name": "HTMLModel",
      "state": {
       "_dom_classes": [],
       "_model_module": "@jupyter-widgets/controls",
       "_model_module_version": "1.5.0",
       "_model_name": "HTMLModel",
       "_view_count": null,
       "_view_module": "@jupyter-widgets/controls",
       "_view_module_version": "1.5.0",
       "_view_name": "HTMLView",
       "description": "",
       "description_tooltip": null,
       "layout": "IPY_MODEL_235cf1b4de3440e4852268aef6f10316",
       "placeholder": "​",
       "style": "IPY_MODEL_8e0af95912e94bcdadb765e1b5446bf4",
       "value": " 336M/336M [00:01&lt;00:00, 288MB/s]"
      }
     },
     "70850f722deb484b9114f70519afb594": {
      "model_module": "@jupyter-widgets/controls",
      "model_module_version": "1.5.0",
      "model_name": "ProgressStyleModel",
      "state": {
       "_model_module": "@jupyter-widgets/controls",
       "_model_module_version": "1.5.0",
       "_model_name": "ProgressStyleModel",
       "_view_count": null,
       "_view_module": "@jupyter-widgets/base",
       "_view_module_version": "1.2.0",
       "_view_name": "StyleView",
       "bar_color": null,
       "description_width": ""
      }
     },
     "74e79f9731124dccbd92f183e9940d8f": {
      "model_module": "@jupyter-widgets/controls",
      "model_module_version": "1.5.0",
      "model_name": "FloatProgressModel",
      "state": {
       "_dom_classes": [],
       "_model_module": "@jupyter-widgets/controls",
       "_model_module_version": "1.5.0",
       "_model_name": "FloatProgressModel",
       "_view_count": null,
       "_view_module": "@jupyter-widgets/controls",
       "_view_module_version": "1.5.0",
       "_view_name": "ProgressView",
       "bar_style": "success",
       "description": "",
       "description_tooltip": null,
       "layout": "IPY_MODEL_4aa586ce759248dfa6aa1cc594541d1b",
       "max": 62.0,
       "min": 0.0,
       "orientation": "horizontal",
       "style": "IPY_MODEL_449a6c6571ea4aae87cd96d05bd13672",
       "value": 62.0
      }
     },
     "7779d5796184487bbd317c4235c91286": {
      "model_module": "@jupyter-widgets/base",
      "model_module_version": "1.2.0",
      "model_name": "LayoutModel",
      "state": {
       "_model_module": "@jupyter-widgets/base",
       "_model_module_version": "1.2.0",
       "_model_name": "LayoutModel",
       "_view_count": null,
       "_view_module": "@jupyter-widgets/base",
       "_view_module_version": "1.2.0",
       "_view_name": "LayoutView",
       "align_content": null,
       "align_items": null,
       "align_self": null,
       "border": null,
       "bottom": null,
       "display": null,
       "flex": null,
       "flex_flow": null,
       "grid_area": null,
       "grid_auto_columns": null,
       "grid_auto_flow": null,
       "grid_auto_rows": null,
       "grid_column": null,
       "grid_gap": null,
       "grid_row": null,
       "grid_template_areas": null,
       "grid_template_columns": null,
       "grid_template_rows": null,
       "height": null,
       "justify_content": null,
       "justify_items": null,
       "left": null,
       "margin": null,
       "max_height": null,
       "max_width": null,
       "min_height": null,
       "min_width": null,
       "object_fit": null,
       "object_position": null,
       "order": null,
       "overflow": null,
       "overflow_x": null,
       "overflow_y": null,
       "padding": null,
       "right": null,
       "top": null,
       "visibility": null,
       "width": null
      }
     },
     "77f79887ed6c41e0a678143ac273ce07": {
      "model_module": "@jupyter-widgets/controls",
      "model_module_version": "1.5.0",
      "model_name": "ProgressStyleModel",
      "state": {
       "_model_module": "@jupyter-widgets/controls",
       "_model_module_version": "1.5.0",
       "_model_name": "ProgressStyleModel",
       "_view_count": null,
       "_view_module": "@jupyter-widgets/base",
       "_view_module_version": "1.2.0",
       "_view_name": "StyleView",
       "bar_color": null,
       "description_width": ""
      }
     },
     "843a590ca5064fdda5dec190871d62de": {
      "model_module": "@jupyter-widgets/base",
      "model_module_version": "1.2.0",
      "model_name": "LayoutModel",
      "state": {
       "_model_module": "@jupyter-widgets/base",
       "_model_module_version": "1.2.0",
       "_model_name": "LayoutModel",
       "_view_count": null,
       "_view_module": "@jupyter-widgets/base",
       "_view_module_version": "1.2.0",
       "_view_name": "LayoutView",
       "align_content": null,
       "align_items": null,
       "align_self": null,
       "border": null,
       "bottom": null,
       "display": null,
       "flex": null,
       "flex_flow": null,
       "grid_area": null,
       "grid_auto_columns": null,
       "grid_auto_flow": null,
       "grid_auto_rows": null,
       "grid_column": null,
       "grid_gap": null,
       "grid_row": null,
       "grid_template_areas": null,
       "grid_template_columns": null,
       "grid_template_rows": null,
       "height": null,
       "justify_content": null,
       "justify_items": null,
       "left": null,
       "margin": null,
       "max_height": null,
       "max_width": null,
       "min_height": null,
       "min_width": null,
       "object_fit": null,
       "object_position": null,
       "order": null,
       "overflow": null,
       "overflow_x": null,
       "overflow_y": null,
       "padding": null,
       "right": null,
       "top": null,
       "visibility": null,
       "width": null
      }
     },
     "892fbcdc18e7480ba4e925c349353221": {
      "model_module": "@jupyter-widgets/controls",
      "model_module_version": "1.5.0",
      "model_name": "FloatProgressModel",
      "state": {
       "_dom_classes": [],
       "_model_module": "@jupyter-widgets/controls",
       "_model_module_version": "1.5.0",
       "_model_name": "FloatProgressModel",
       "_view_count": null,
       "_view_module": "@jupyter-widgets/controls",
       "_view_module_version": "1.5.0",
       "_view_name": "ProgressView",
       "bar_style": "success",
       "description": "",
       "description_tooltip": null,
       "layout": "IPY_MODEL_b7ed8071448b432792ecc260d2ebb662",
       "max": 336422980.0,
       "min": 0.0,
       "orientation": "horizontal",
       "style": "IPY_MODEL_70850f722deb484b9114f70519afb594",
       "value": 336422980.0
      }
     },
     "8ba22124d5ee4b9f84157c2f2b5c0cd8": {
      "model_module": "@jupyter-widgets/controls",
      "model_module_version": "1.5.0",
      "model_name": "HBoxModel",
      "state": {
       "_dom_classes": [],
       "_model_module": "@jupyter-widgets/controls",
       "_model_module_version": "1.5.0",
       "_model_name": "HBoxModel",
       "_view_count": null,
       "_view_module": "@jupyter-widgets/controls",
       "_view_module_version": "1.5.0",
       "_view_name": "HBoxView",
       "box_style": "",
       "children": [
        "IPY_MODEL_4d1a79f8d202425f93ab6daba17343b2",
        "IPY_MODEL_b3f21ba83103462e865fc79fc13459b5",
        "IPY_MODEL_4cfc23b6387843b99913b9aafbd66af2"
       ],
       "layout": "IPY_MODEL_d8d9e4e168a548848a7157f0b5678365"
      }
     },
     "8e0af95912e94bcdadb765e1b5446bf4": {
      "model_module": "@jupyter-widgets/controls",
      "model_module_version": "1.5.0",
      "model_name": "DescriptionStyleModel",
      "state": {
       "_model_module": "@jupyter-widgets/controls",
       "_model_module_version": "1.5.0",
       "_model_name": "DescriptionStyleModel",
       "_view_count": null,
       "_view_module": "@jupyter-widgets/base",
       "_view_module_version": "1.2.0",
       "_view_name": "StyleView",
       "description_width": ""
      }
     },
     "90a63a1fc63f4d6696ff86b590e74408": {
      "model_module": "@jupyter-widgets/controls",
      "model_module_version": "1.5.0",
      "model_name": "ProgressStyleModel",
      "state": {
       "_model_module": "@jupyter-widgets/controls",
       "_model_module_version": "1.5.0",
       "_model_name": "ProgressStyleModel",
       "_view_count": null,
       "_view_module": "@jupyter-widgets/base",
       "_view_module_version": "1.2.0",
       "_view_name": "StyleView",
       "bar_color": null,
       "description_width": ""
      }
     },
     "93880bb3805d40d293ef5bdb87e4ac3a": {
      "model_module": "@jupyter-widgets/controls",
      "model_module_version": "1.5.0",
      "model_name": "HBoxModel",
      "state": {
       "_dom_classes": [],
       "_model_module": "@jupyter-widgets/controls",
       "_model_module_version": "1.5.0",
       "_model_name": "HBoxModel",
       "_view_count": null,
       "_view_module": "@jupyter-widgets/controls",
       "_view_module_version": "1.5.0",
       "_view_name": "HBoxView",
       "box_style": "",
       "children": [
        "IPY_MODEL_587f1dfd74ae40ea9c78984abcfe1867",
        "IPY_MODEL_14381fcd167643e2a4e2351fa778ae64",
        "IPY_MODEL_c466b31c00b34b1d8f5c8b3ea5f3f139"
       ],
       "layout": "IPY_MODEL_843a590ca5064fdda5dec190871d62de"
      }
     },
     "9b287aa475394313a18888050a8f5ee1": {
      "model_module": "@jupyter-widgets/controls",
      "model_module_version": "1.5.0",
      "model_name": "HBoxModel",
      "state": {
       "_dom_classes": [],
       "_model_module": "@jupyter-widgets/controls",
       "_model_module_version": "1.5.0",
       "_model_name": "HBoxModel",
       "_view_count": null,
       "_view_module": "@jupyter-widgets/controls",
       "_view_module_version": "1.5.0",
       "_view_name": "HBoxView",
       "box_style": "",
       "children": [
        "IPY_MODEL_d728893e7c694ad6956d85206a110ec6",
        "IPY_MODEL_892fbcdc18e7480ba4e925c349353221",
        "IPY_MODEL_675daf2ec8d046819728347c0f27d981"
       ],
       "layout": "IPY_MODEL_da49d774282540e6b1bc43fe4a457148"
      }
     },
     "a8c80c56ee084e06ac2c8daada9711db": {
      "model_module": "@jupyter-widgets/controls",
      "model_module_version": "1.5.0",
      "model_name": "DescriptionStyleModel",
      "state": {
       "_model_module": "@jupyter-widgets/controls",
       "_model_module_version": "1.5.0",
       "_model_name": "DescriptionStyleModel",
       "_view_count": null,
       "_view_module": "@jupyter-widgets/base",
       "_view_module_version": "1.2.0",
       "_view_name": "StyleView",
       "description_width": ""
      }
     },
     "b174c259141648f498e5c4b1a53cb7d3": {
      "model_module": "@jupyter-widgets/controls",
      "model_module_version": "1.5.0",
      "model_name": "DescriptionStyleModel",
      "state": {
       "_model_module": "@jupyter-widgets/controls",
       "_model_module_version": "1.5.0",
       "_model_name": "DescriptionStyleModel",
       "_view_count": null,
       "_view_module": "@jupyter-widgets/base",
       "_view_module_version": "1.2.0",
       "_view_name": "StyleView",
       "description_width": ""
      }
     },
     "b2d896c60a7e4c5ba44e44fabcbc6fbf": {
      "model_module": "@jupyter-widgets/base",
      "model_module_version": "1.2.0",
      "model_name": "LayoutModel",
      "state": {
       "_model_module": "@jupyter-widgets/base",
       "_model_module_version": "1.2.0",
       "_model_name": "LayoutModel",
       "_view_count": null,
       "_view_module": "@jupyter-widgets/base",
       "_view_module_version": "1.2.0",
       "_view_name": "LayoutView",
       "align_content": null,
       "align_items": null,
       "align_self": null,
       "border": null,
       "bottom": null,
       "display": null,
       "flex": null,
       "flex_flow": null,
       "grid_area": null,
       "grid_auto_columns": null,
       "grid_auto_flow": null,
       "grid_auto_rows": null,
       "grid_column": null,
       "grid_gap": null,
       "grid_row": null,
       "grid_template_areas": null,
       "grid_template_columns": null,
       "grid_template_rows": null,
       "height": null,
       "justify_content": null,
       "justify_items": null,
       "left": null,
       "margin": null,
       "max_height": null,
       "max_width": null,
       "min_height": null,
       "min_width": null,
       "object_fit": null,
       "object_position": null,
       "order": null,
       "overflow": null,
       "overflow_x": null,
       "overflow_y": null,
       "padding": null,
       "right": null,
       "top": null,
       "visibility": null,
       "width": null
      }
     },
     "b3f21ba83103462e865fc79fc13459b5": {
      "model_module": "@jupyter-widgets/controls",
      "model_module_version": "1.5.0",
      "model_name": "FloatProgressModel",
      "state": {
       "_dom_classes": [],
       "_model_module": "@jupyter-widgets/controls",
       "_model_module_version": "1.5.0",
       "_model_name": "FloatProgressModel",
       "_view_count": null,
       "_view_module": "@jupyter-widgets/controls",
       "_view_module_version": "1.5.0",
       "_view_name": "ProgressView",
       "bar_style": "success",
       "description": "",
       "description_tooltip": null,
       "layout": "IPY_MODEL_38768b71be8342dbb33c28015b5966db",
       "max": 164540.0,
       "min": 0.0,
       "orientation": "horizontal",
       "style": "IPY_MODEL_90a63a1fc63f4d6696ff86b590e74408",
       "value": 164540.0
      }
     },
     "b6d792dbadea4a43b67ae63c45d36d18": {
      "model_module": "@jupyter-widgets/controls",
      "model_module_version": "1.5.0",
      "model_name": "DescriptionStyleModel",
      "state": {
       "_model_module": "@jupyter-widgets/controls",
       "_model_module_version": "1.5.0",
       "_model_name": "DescriptionStyleModel",
       "_view_count": null,
       "_view_module": "@jupyter-widgets/base",
       "_view_module_version": "1.2.0",
       "_view_name": "StyleView",
       "description_width": ""
      }
     },
     "b7ed8071448b432792ecc260d2ebb662": {
      "model_module": "@jupyter-widgets/base",
      "model_module_version": "1.2.0",
      "model_name": "LayoutModel",
      "state": {
       "_model_module": "@jupyter-widgets/base",
       "_model_module_version": "1.2.0",
       "_model_name": "LayoutModel",
       "_view_count": null,
       "_view_module": "@jupyter-widgets/base",
       "_view_module_version": "1.2.0",
       "_view_name": "LayoutView",
       "align_content": null,
       "align_items": null,
       "align_self": null,
       "border": null,
       "bottom": null,
       "display": null,
       "flex": null,
       "flex_flow": null,
       "grid_area": null,
       "grid_auto_columns": null,
       "grid_auto_flow": null,
       "grid_auto_rows": null,
       "grid_column": null,
       "grid_gap": null,
       "grid_row": null,
       "grid_template_areas": null,
       "grid_template_columns": null,
       "grid_template_rows": null,
       "height": null,
       "justify_content": null,
       "justify_items": null,
       "left": null,
       "margin": null,
       "max_height": null,
       "max_width": null,
       "min_height": null,
       "min_width": null,
       "object_fit": null,
       "object_position": null,
       "order": null,
       "overflow": null,
       "overflow_x": null,
       "overflow_y": null,
       "padding": null,
       "right": null,
       "top": null,
       "visibility": null,
       "width": null
      }
     },
     "b9e22345cfe04976abff358545535a95": {
      "model_module": "@jupyter-widgets/controls",
      "model_module_version": "1.5.0",
      "model_name": "DescriptionStyleModel",
      "state": {
       "_model_module": "@jupyter-widgets/controls",
       "_model_module_version": "1.5.0",
       "_model_name": "DescriptionStyleModel",
       "_view_count": null,
       "_view_module": "@jupyter-widgets/base",
       "_view_module_version": "1.2.0",
       "_view_name": "StyleView",
       "description_width": ""
      }
     },
     "c1d9675e77434c1da6acc7ae4cc3a4a5": {
      "model_module": "@jupyter-widgets/base",
      "model_module_version": "1.2.0",
      "model_name": "LayoutModel",
      "state": {
       "_model_module": "@jupyter-widgets/base",
       "_model_module_version": "1.2.0",
       "_model_name": "LayoutModel",
       "_view_count": null,
       "_view_module": "@jupyter-widgets/base",
       "_view_module_version": "1.2.0",
       "_view_name": "LayoutView",
       "align_content": null,
       "align_items": null,
       "align_self": null,
       "border": null,
       "bottom": null,
       "display": null,
       "flex": null,
       "flex_flow": null,
       "grid_area": null,
       "grid_auto_columns": null,
       "grid_auto_flow": null,
       "grid_auto_rows": null,
       "grid_column": null,
       "grid_gap": null,
       "grid_row": null,
       "grid_template_areas": null,
       "grid_template_columns": null,
       "grid_template_rows": null,
       "height": null,
       "justify_content": null,
       "justify_items": null,
       "left": null,
       "margin": null,
       "max_height": null,
       "max_width": null,
       "min_height": null,
       "min_width": null,
       "object_fit": null,
       "object_position": null,
       "order": null,
       "overflow": null,
       "overflow_x": null,
       "overflow_y": null,
       "padding": null,
       "right": null,
       "top": null,
       "visibility": null,
       "width": null
      }
     },
     "c466b31c00b34b1d8f5c8b3ea5f3f139": {
      "model_module": "@jupyter-widgets/controls",
      "model_module_version": "1.5.0",
      "model_name": "HTMLModel",
      "state": {
       "_dom_classes": [],
       "_model_module": "@jupyter-widgets/controls",
       "_model_module_version": "1.5.0",
       "_model_name": "HTMLModel",
       "_view_count": null,
       "_view_module": "@jupyter-widgets/controls",
       "_view_module_version": "1.5.0",
       "_view_name": "HTMLView",
       "description": "",
       "description_tooltip": null,
       "layout": "IPY_MODEL_e167b8c93a22441aa9271c17bf294b88",
       "placeholder": "​",
       "style": "IPY_MODEL_5f29a673654042b98e5cf85aa4679706",
       "value": " 101k/101k [00:00&lt;00:00, 7.97MB/s]"
      }
     },
     "c826b6f8a64f4752ad6ef135d2d7ae72": {
      "model_module": "@jupyter-widgets/controls",
      "model_module_version": "1.5.0",
      "model_name": "DescriptionStyleModel",
      "state": {
       "_model_module": "@jupyter-widgets/controls",
       "_model_module_version": "1.5.0",
       "_model_name": "DescriptionStyleModel",
       "_view_count": null,
       "_view_module": "@jupyter-widgets/base",
       "_view_module_version": "1.2.0",
       "_view_name": "StyleView",
       "description_width": ""
      }
     },
     "c9b5d4bd15bd4462843544f1a283b3a3": {
      "model_module": "@jupyter-widgets/base",
      "model_module_version": "1.2.0",
      "model_name": "LayoutModel",
      "state": {
       "_model_module": "@jupyter-widgets/base",
       "_model_module_version": "1.2.0",
       "_model_name": "LayoutModel",
       "_view_count": null,
       "_view_module": "@jupyter-widgets/base",
       "_view_module_version": "1.2.0",
       "_view_name": "LayoutView",
       "align_content": null,
       "align_items": null,
       "align_self": null,
       "border": null,
       "bottom": null,
       "display": null,
       "flex": null,
       "flex_flow": null,
       "grid_area": null,
       "grid_auto_columns": null,
       "grid_auto_flow": null,
       "grid_auto_rows": null,
       "grid_column": null,
       "grid_gap": null,
       "grid_row": null,
       "grid_template_areas": null,
       "grid_template_columns": null,
       "grid_template_rows": null,
       "height": null,
       "justify_content": null,
       "justify_items": null,
       "left": null,
       "margin": null,
       "max_height": null,
       "max_width": null,
       "min_height": null,
       "min_width": null,
       "object_fit": null,
       "object_position": null,
       "order": null,
       "overflow": null,
       "overflow_x": null,
       "overflow_y": null,
       "padding": null,
       "right": null,
       "top": null,
       "visibility": null,
       "width": null
      }
     },
     "cc919b2d8b31431399bb08e6d3a0492f": {
      "model_module": "@jupyter-widgets/base",
      "model_module_version": "1.2.0",
      "model_name": "LayoutModel",
      "state": {
       "_model_module": "@jupyter-widgets/base",
       "_model_module_version": "1.2.0",
       "_model_name": "LayoutModel",
       "_view_count": null,
       "_view_module": "@jupyter-widgets/base",
       "_view_module_version": "1.2.0",
       "_view_name": "LayoutView",
       "align_content": null,
       "align_items": null,
       "align_self": null,
       "border": null,
       "bottom": null,
       "display": null,
       "flex": null,
       "flex_flow": null,
       "grid_area": null,
       "grid_auto_columns": null,
       "grid_auto_flow": null,
       "grid_auto_rows": null,
       "grid_column": null,
       "grid_gap": null,
       "grid_row": null,
       "grid_template_areas": null,
       "grid_template_columns": null,
       "grid_template_rows": null,
       "height": null,
       "justify_content": null,
       "justify_items": null,
       "left": null,
       "margin": null,
       "max_height": null,
       "max_width": null,
       "min_height": null,
       "min_width": null,
       "object_fit": null,
       "object_position": null,
       "order": null,
       "overflow": null,
       "overflow_x": null,
       "overflow_y": null,
       "padding": null,
       "right": null,
       "top": null,
       "visibility": null,
       "width": null
      }
     },
     "d37e8507cc4b41c3895ce4f21b2cc07d": {
      "model_module": "@jupyter-widgets/controls",
      "model_module_version": "1.5.0",
      "model_name": "HBoxModel",
      "state": {
       "_dom_classes": [],
       "_model_module": "@jupyter-widgets/controls",
       "_model_module_version": "1.5.0",
       "_model_name": "HBoxModel",
       "_view_count": null,
       "_view_module": "@jupyter-widgets/controls",
       "_view_module_version": "1.5.0",
       "_view_name": "HBoxView",
       "box_style": "",
       "children": [
        "IPY_MODEL_4cdb5b41e9584c1995307336a64ed6d0",
        "IPY_MODEL_5ad02b1de62e4cd5890488f60e240ac1",
        "IPY_MODEL_27b16f523d59478c9d4babcd28340629"
       ],
       "layout": "IPY_MODEL_5c7a8c237c344db584ed9ef9fe1fb22f"
      }
     },
     "d728893e7c694ad6956d85206a110ec6": {
      "model_module": "@jupyter-widgets/controls",
      "model_module_version": "1.5.0",
      "model_name": "HTMLModel",
      "state": {
       "_dom_classes": [],
       "_model_module": "@jupyter-widgets/controls",
       "_model_module_version": "1.5.0",
       "_model_name": "HTMLModel",
       "_view_count": null,
       "_view_module": "@jupyter-widgets/controls",
       "_view_module_version": "1.5.0",
       "_view_name": "HTMLView",
       "description": "",
       "description_tooltip": null,
       "layout": "IPY_MODEL_0baefc5fb5934a67916d00a8c60bdf0c",
       "placeholder": "​",
       "style": "IPY_MODEL_00f2a435507c46b596c570e93df8315e",
       "value": "pytorch_model.bin: 100%"
      }
     },
     "d8d9e4e168a548848a7157f0b5678365": {
      "model_module": "@jupyter-widgets/base",
      "model_module_version": "1.2.0",
      "model_name": "LayoutModel",
      "state": {
       "_model_module": "@jupyter-widgets/base",
       "_model_module_version": "1.2.0",
       "_model_name": "LayoutModel",
       "_view_count": null,
       "_view_module": "@jupyter-widgets/base",
       "_view_module_version": "1.2.0",
       "_view_name": "LayoutView",
       "align_content": null,
       "align_items": null,
       "align_self": null,
       "border": null,
       "bottom": null,
       "display": null,
       "flex": null,
       "flex_flow": null,
       "grid_area": null,
       "grid_auto_columns": null,
       "grid_auto_flow": null,
       "grid_auto_rows": null,
       "grid_column": null,
       "grid_gap": null,
       "grid_row": null,
       "grid_template_areas": null,
       "grid_template_columns": null,
       "grid_template_rows": null,
       "height": null,
       "justify_content": null,
       "justify_items": null,
       "left": null,
       "margin": null,
       "max_height": null,
       "max_width": null,
       "min_height": null,
       "min_width": null,
       "object_fit": null,
       "object_position": null,
       "order": null,
       "overflow": null,
       "overflow_x": null,
       "overflow_y": null,
       "padding": null,
       "right": null,
       "top": null,
       "visibility": null,
       "width": null
      }
     },
     "da49d774282540e6b1bc43fe4a457148": {
      "model_module": "@jupyter-widgets/base",
      "model_module_version": "1.2.0",
      "model_name": "LayoutModel",
      "state": {
       "_model_module": "@jupyter-widgets/base",
       "_model_module_version": "1.2.0",
       "_model_name": "LayoutModel",
       "_view_count": null,
       "_view_module": "@jupyter-widgets/base",
       "_view_module_version": "1.2.0",
       "_view_name": "LayoutView",
       "align_content": null,
       "align_items": null,
       "align_self": null,
       "border": null,
       "bottom": null,
       "display": null,
       "flex": null,
       "flex_flow": null,
       "grid_area": null,
       "grid_auto_columns": null,
       "grid_auto_flow": null,
       "grid_auto_rows": null,
       "grid_column": null,
       "grid_gap": null,
       "grid_row": null,
       "grid_template_areas": null,
       "grid_template_columns": null,
       "grid_template_rows": null,
       "height": null,
       "justify_content": null,
       "justify_items": null,
       "left": null,
       "margin": null,
       "max_height": null,
       "max_width": null,
       "min_height": null,
       "min_width": null,
       "object_fit": null,
       "object_position": null,
       "order": null,
       "overflow": null,
       "overflow_x": null,
       "overflow_y": null,
       "padding": null,
       "right": null,
       "top": null,
       "visibility": null,
       "width": null
      }
     },
     "dd80c691f58946e5bb593553196639e9": {
      "model_module": "@jupyter-widgets/base",
      "model_module_version": "1.2.0",
      "model_name": "LayoutModel",
      "state": {
       "_model_module": "@jupyter-widgets/base",
       "_model_module_version": "1.2.0",
       "_model_name": "LayoutModel",
       "_view_count": null,
       "_view_module": "@jupyter-widgets/base",
       "_view_module_version": "1.2.0",
       "_view_name": "LayoutView",
       "align_content": null,
       "align_items": null,
       "align_self": null,
       "border": null,
       "bottom": null,
       "display": null,
       "flex": null,
       "flex_flow": null,
       "grid_area": null,
       "grid_auto_columns": null,
       "grid_auto_flow": null,
       "grid_auto_rows": null,
       "grid_column": null,
       "grid_gap": null,
       "grid_row": null,
       "grid_template_areas": null,
       "grid_template_columns": null,
       "grid_template_rows": null,
       "height": null,
       "justify_content": null,
       "justify_items": null,
       "left": null,
       "margin": null,
       "max_height": null,
       "max_width": null,
       "min_height": null,
       "min_width": null,
       "object_fit": null,
       "object_position": null,
       "order": null,
       "overflow": null,
       "overflow_x": null,
       "overflow_y": null,
       "padding": null,
       "right": null,
       "top": null,
       "visibility": null,
       "width": null
      }
     },
     "ddfa086e5d524354a072c803d4812ff9": {
      "model_module": "@jupyter-widgets/controls",
      "model_module_version": "1.5.0",
      "model_name": "HTMLModel",
      "state": {
       "_dom_classes": [],
       "_model_module": "@jupyter-widgets/controls",
       "_model_module_version": "1.5.0",
       "_model_name": "HTMLModel",
       "_view_count": null,
       "_view_module": "@jupyter-widgets/controls",
       "_view_module_version": "1.5.0",
       "_view_name": "HTMLView",
       "description": "",
       "description_tooltip": null,
       "layout": "IPY_MODEL_cc919b2d8b31431399bb08e6d3a0492f",
       "placeholder": "​",
       "style": "IPY_MODEL_28533c3edc8c42838ddefaed91962b88",
       "value": "tokenizer_config.json: 100%"
      }
     },
     "e167b8c93a22441aa9271c17bf294b88": {
      "model_module": "@jupyter-widgets/base",
      "model_module_version": "1.2.0",
      "model_name": "LayoutModel",
      "state": {
       "_model_module": "@jupyter-widgets/base",
       "_model_module_version": "1.2.0",
       "_model_name": "LayoutModel",
       "_view_count": null,
       "_view_module": "@jupyter-widgets/base",
       "_view_module_version": "1.2.0",
       "_view_name": "LayoutView",
       "align_content": null,
       "align_items": null,
       "align_self": null,
       "border": null,
       "bottom": null,
       "display": null,
       "flex": null,
       "flex_flow": null,
       "grid_area": null,
       "grid_auto_columns": null,
       "grid_auto_flow": null,
       "grid_auto_rows": null,
       "grid_column": null,
       "grid_gap": null,
       "grid_row": null,
       "grid_template_areas": null,
       "grid_template_columns": null,
       "grid_template_rows": null,
       "height": null,
       "justify_content": null,
       "justify_items": null,
       "left": null,
       "margin": null,
       "max_height": null,
       "max_width": null,
       "min_height": null,
       "min_width": null,
       "object_fit": null,
       "object_position": null,
       "order": null,
       "overflow": null,
       "overflow_x": null,
       "overflow_y": null,
       "padding": null,
       "right": null,
       "top": null,
       "visibility": null,
       "width": null
      }
     },
     "e2357cb6d7f64a45a48c34e1485b2a9d": {
      "model_module": "@jupyter-widgets/controls",
      "model_module_version": "1.5.0",
      "model_name": "ProgressStyleModel",
      "state": {
       "_model_module": "@jupyter-widgets/controls",
       "_model_module_version": "1.5.0",
       "_model_name": "ProgressStyleModel",
       "_view_count": null,
       "_view_module": "@jupyter-widgets/base",
       "_view_module_version": "1.2.0",
       "_view_name": "StyleView",
       "bar_color": null,
       "description_width": ""
      }
     },
     "e5308db1e724474d92d866646331f18e": {
      "model_module": "@jupyter-widgets/controls",
      "model_module_version": "1.5.0",
      "model_name": "ProgressStyleModel",
      "state": {
       "_model_module": "@jupyter-widgets/controls",
       "_model_module_version": "1.5.0",
       "_model_name": "ProgressStyleModel",
       "_view_count": null,
       "_view_module": "@jupyter-widgets/base",
       "_view_module_version": "1.2.0",
       "_view_name": "StyleView",
       "bar_color": null,
       "description_width": ""
      }
     },
     "f32be97501674acbb94d25f759ae4390": {
      "model_module": "@jupyter-widgets/controls",
      "model_module_version": "1.5.0",
      "model_name": "HBoxModel",
      "state": {
       "_dom_classes": [],
       "_model_module": "@jupyter-widgets/controls",
       "_model_module_version": "1.5.0",
       "_model_name": "HBoxModel",
       "_view_count": null,
       "_view_module": "@jupyter-widgets/controls",
       "_view_module_version": "1.5.0",
       "_view_name": "HBoxView",
       "box_style": "",
       "children": [
        "IPY_MODEL_082848887724422180fa67f0e8366fcc",
        "IPY_MODEL_20b66a236c8541bbafffcfc7444df69e",
        "IPY_MODEL_2a2ab0afc36348d7992f57344691a63b"
       ],
       "layout": "IPY_MODEL_7779d5796184487bbd317c4235c91286"
      }
     },
     "f5b86b2607404038949f62664551315d": {
      "model_module": "@jupyter-widgets/base",
      "model_module_version": "1.2.0",
      "model_name": "LayoutModel",
      "state": {
       "_model_module": "@jupyter-widgets/base",
       "_model_module_version": "1.2.0",
       "_model_name": "LayoutModel",
       "_view_count": null,
       "_view_module": "@jupyter-widgets/base",
       "_view_module_version": "1.2.0",
       "_view_name": "LayoutView",
       "align_content": null,
       "align_items": null,
       "align_self": null,
       "border": null,
       "bottom": null,
       "display": null,
       "flex": null,
       "flex_flow": null,
       "grid_area": null,
       "grid_auto_columns": null,
       "grid_auto_flow": null,
       "grid_auto_rows": null,
       "grid_column": null,
       "grid_gap": null,
       "grid_row": null,
       "grid_template_areas": null,
       "grid_template_columns": null,
       "grid_template_rows": null,
       "height": null,
       "justify_content": null,
       "justify_items": null,
       "left": null,
       "margin": null,
       "max_height": null,
       "max_width": null,
       "min_height": null,
       "min_width": null,
       "object_fit": null,
       "object_position": null,
       "order": null,
       "overflow": null,
       "overflow_x": null,
       "overflow_y": null,
       "padding": null,
       "right": null,
       "top": null,
       "visibility": null,
       "width": null
      }
     },
     "f924b912d9494e3380a5af9c474fb30f": {
      "model_module": "@jupyter-widgets/base",
      "model_module_version": "1.2.0",
      "model_name": "LayoutModel",
      "state": {
       "_model_module": "@jupyter-widgets/base",
       "_model_module_version": "1.2.0",
       "_model_name": "LayoutModel",
       "_view_count": null,
       "_view_module": "@jupyter-widgets/base",
       "_view_module_version": "1.2.0",
       "_view_name": "LayoutView",
       "align_content": null,
       "align_items": null,
       "align_self": null,
       "border": null,
       "bottom": null,
       "display": null,
       "flex": null,
       "flex_flow": null,
       "grid_area": null,
       "grid_auto_columns": null,
       "grid_auto_flow": null,
       "grid_auto_rows": null,
       "grid_column": null,
       "grid_gap": null,
       "grid_row": null,
       "grid_template_areas": null,
       "grid_template_columns": null,
       "grid_template_rows": null,
       "height": null,
       "justify_content": null,
       "justify_items": null,
       "left": null,
       "margin": null,
       "max_height": null,
       "max_width": null,
       "min_height": null,
       "min_width": null,
       "object_fit": null,
       "object_position": null,
       "order": null,
       "overflow": null,
       "overflow_x": null,
       "overflow_y": null,
       "padding": null,
       "right": null,
       "top": null,
       "visibility": null,
       "width": null
      }
     },
     "fc40f92647a74e18895f561384f8e880": {
      "model_module": "@jupyter-widgets/controls",
      "model_module_version": "1.5.0",
      "model_name": "DescriptionStyleModel",
      "state": {
       "_model_module": "@jupyter-widgets/controls",
       "_model_module_version": "1.5.0",
       "_model_name": "DescriptionStyleModel",
       "_view_count": null,
       "_view_module": "@jupyter-widgets/base",
       "_view_module_version": "1.2.0",
       "_view_name": "StyleView",
       "description_width": ""
      }
     }
    },
    "version_major": 2,
    "version_minor": 0
   }
  }
 },
 "nbformat": 4,
 "nbformat_minor": 5
}
