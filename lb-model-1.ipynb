{
 "cells": [
  {
   "cell_type": "code",
   "execution_count": 1,
   "id": "a9afa4b5",
   "metadata": {
    "_cell_guid": "b1076dfc-b9ad-4769-8c92-a6c4dae69d19",
    "_uuid": "8f2839f25d086af736a60e9eeb907d3b93b6e0e5",
    "execution": {
     "iopub.execute_input": "2024-05-07T05:49:21.379305Z",
     "iopub.status.busy": "2024-05-07T05:49:21.378938Z",
     "iopub.status.idle": "2024-05-07T05:49:22.109752Z",
     "shell.execute_reply": "2024-05-07T05:49:22.108512Z"
    },
    "papermill": {
     "duration": 0.748298,
     "end_time": "2024-05-07T05:49:22.111985",
     "exception": false,
     "start_time": "2024-05-07T05:49:21.363687",
     "status": "completed"
    },
    "tags": []
   },
   "outputs": [
    {
     "name": "stdout",
     "output_type": "stream",
     "text": [
      "/kaggle/input/leash-BELKA/sample_submission.csv\n",
      "/kaggle/input/leash-BELKA/train.parquet\n",
      "/kaggle/input/leash-BELKA/test.parquet\n",
      "/kaggle/input/leash-BELKA/train.csv\n",
      "/kaggle/input/leash-BELKA/test.csv\n"
     ]
    }
   ],
   "source": [
    "# This Python 3 environment comes with many helpful analytics libraries installed\n",
    "# It is defined by the kaggle/python Docker image: https://github.com/kaggle/docker-python\n",
    "# For example, here's several helpful packages to load\n",
    "\n",
    "import numpy as np # linear algebra\n",
    "import pandas as pd # data processing, CSV file I/O (e.g. pd.read_csv)\n",
    "\n",
    "# Input data files are available in the read-only \"../input/\" directory\n",
    "# For example, running this (by clicking run or pressing Shift+Enter) will list all files under theinput directory\n",
    "\n",
    "import os\n",
    "for dirname, _, filenames in os.walk('/kaggle/input'):\n",
    "    for filename in filenames:\n",
    "        print(os.path.join(dirname, filename))\n",
    "\n",
    "# You can write up to 20GB to the current directory (/kaggle/working/) that gets preserved as output when you create a version using \"Save & Run All\" \n",
    "# You can also write temporary files to /kaggle/temp/, but they won't be saved outside of the current session"
   ]
  },
  {
   "cell_type": "markdown",
   "id": "e6f3d4a8",
   "metadata": {
    "papermill": {
     "duration": 0.013173,
     "end_time": "2024-05-07T05:49:22.139039",
     "exception": false,
     "start_time": "2024-05-07T05:49:22.125866",
     "status": "completed"
    },
    "tags": []
   },
   "source": [
    "# LB Competition:\n",
    "\n",
    "## 1. EDA"
   ]
  },
  {
   "cell_type": "code",
   "execution_count": 2,
   "id": "524d65ac",
   "metadata": {
    "execution": {
     "iopub.execute_input": "2024-05-07T05:49:22.167577Z",
     "iopub.status.busy": "2024-05-07T05:49:22.167209Z",
     "iopub.status.idle": "2024-05-07T05:49:22.171169Z",
     "shell.execute_reply": "2024-05-07T05:49:22.170329Z"
    },
    "papermill": {
     "duration": 0.020183,
     "end_time": "2024-05-07T05:49:22.173034",
     "exception": false,
     "start_time": "2024-05-07T05:49:22.152851",
     "status": "completed"
    },
    "tags": []
   },
   "outputs": [],
   "source": [
    "# ## Loading The Data\n",
    "\n",
    "# # Change to full Dataseet  for Massive Training and for testing\n",
    "# df_train = pd.read_csv('/kaggle/input/leash-BELKA/train.csv', nrows=1000)\n",
    "# df_test = pd.read_csv('/kaggle/input/leash-BELKA/test.csv', nrows=1000)\n"
   ]
  },
  {
   "cell_type": "code",
   "execution_count": 3,
   "id": "a0299be2",
   "metadata": {
    "execution": {
     "iopub.execute_input": "2024-05-07T05:49:22.201728Z",
     "iopub.status.busy": "2024-05-07T05:49:22.201436Z",
     "iopub.status.idle": "2024-05-07T05:49:22.205082Z",
     "shell.execute_reply": "2024-05-07T05:49:22.204240Z"
    },
    "papermill": {
     "duration": 0.020458,
     "end_time": "2024-05-07T05:49:22.206955",
     "exception": false,
     "start_time": "2024-05-07T05:49:22.186497",
     "status": "completed"
    },
    "tags": []
   },
   "outputs": [],
   "source": [
    "# df_train.head()"
   ]
  },
  {
   "cell_type": "code",
   "execution_count": 4,
   "id": "69f27235",
   "metadata": {
    "execution": {
     "iopub.execute_input": "2024-05-07T05:49:22.239414Z",
     "iopub.status.busy": "2024-05-07T05:49:22.239173Z",
     "iopub.status.idle": "2024-05-07T05:49:22.243107Z",
     "shell.execute_reply": "2024-05-07T05:49:22.242296Z"
    },
    "papermill": {
     "duration": 0.019799,
     "end_time": "2024-05-07T05:49:22.244937",
     "exception": false,
     "start_time": "2024-05-07T05:49:22.225138",
     "status": "completed"
    },
    "tags": []
   },
   "outputs": [],
   "source": [
    "# !pip install rdkit"
   ]
  },
  {
   "cell_type": "markdown",
   "id": "c7497084",
   "metadata": {
    "papermill": {
     "duration": 0.013191,
     "end_time": "2024-05-07T05:49:22.271527",
     "exception": false,
     "start_time": "2024-05-07T05:49:22.258336",
     "status": "completed"
    },
    "tags": []
   },
   "source": [
    "### Plotting 2d Image"
   ]
  },
  {
   "cell_type": "code",
   "execution_count": 5,
   "id": "40158ac7",
   "metadata": {
    "execution": {
     "iopub.execute_input": "2024-05-07T05:49:22.299993Z",
     "iopub.status.busy": "2024-05-07T05:49:22.299175Z",
     "iopub.status.idle": "2024-05-07T05:49:22.303182Z",
     "shell.execute_reply": "2024-05-07T05:49:22.302487Z"
    },
    "papermill": {
     "duration": 0.020111,
     "end_time": "2024-05-07T05:49:22.305082",
     "exception": false,
     "start_time": "2024-05-07T05:49:22.284971",
     "status": "completed"
    },
    "tags": []
   },
   "outputs": [],
   "source": [
    "# import pandas as pd\n",
    "# from rdkit import Chem\n",
    "# from rdkit.Chem import Draw\n",
    "\n",
    "# def plot_2d_molecule(df, molecule_id):\n",
    "#     # Filter the DataFrame for the given id\n",
    "#     row = df[df['id'] == molecule_id]\n",
    "#     # Get the SMILES string for the molecule\n",
    "#     smiles_string = row['molecule_smiles'].values[0]\n",
    "#     # Generate an RDKit molecule object\n",
    "#     mol = Chem.MolFromSmiles(smiles_string)\n",
    "#     # Use RDKit to draw the molecule\n",
    "#     img = Draw.MolToImage(mol)\n",
    "#     # Display the image\n",
    "#     return img\n",
    "\n"
   ]
  },
  {
   "cell_type": "code",
   "execution_count": 6,
   "id": "0ee0a826",
   "metadata": {
    "execution": {
     "iopub.execute_input": "2024-05-07T05:49:22.333264Z",
     "iopub.status.busy": "2024-05-07T05:49:22.333013Z",
     "iopub.status.idle": "2024-05-07T05:49:22.336623Z",
     "shell.execute_reply": "2024-05-07T05:49:22.335852Z"
    },
    "papermill": {
     "duration": 0.019998,
     "end_time": "2024-05-07T05:49:22.338558",
     "exception": false,
     "start_time": "2024-05-07T05:49:22.318560",
     "status": "completed"
    },
    "tags": []
   },
   "outputs": [],
   "source": [
    "# #Example usage:\n",
    "# import matplotlib.pyplot as plt\n",
    "# import matplotlib.image as mpimg\n",
    "\n",
    "# img = plot_2d_molecule(df_train, 1)\n",
    "# plt.imshow(img)\n",
    "# plt.show()"
   ]
  },
  {
   "cell_type": "markdown",
   "id": "369d5537",
   "metadata": {
    "papermill": {
     "duration": 0.01334,
     "end_time": "2024-05-07T05:49:22.365198",
     "exception": false,
     "start_time": "2024-05-07T05:49:22.351858",
     "status": "completed"
    },
    "tags": []
   },
   "source": [
    "## Plotting 3d Image"
   ]
  },
  {
   "cell_type": "code",
   "execution_count": 7,
   "id": "38a3ba9c",
   "metadata": {
    "execution": {
     "iopub.execute_input": "2024-05-07T05:49:22.392990Z",
     "iopub.status.busy": "2024-05-07T05:49:22.392732Z",
     "iopub.status.idle": "2024-05-07T05:49:22.396193Z",
     "shell.execute_reply": "2024-05-07T05:49:22.395364Z"
    },
    "papermill": {
     "duration": 0.019513,
     "end_time": "2024-05-07T05:49:22.398137",
     "exception": false,
     "start_time": "2024-05-07T05:49:22.378624",
     "status": "completed"
    },
    "tags": []
   },
   "outputs": [],
   "source": [
    "# !pip install py3Dmol"
   ]
  },
  {
   "cell_type": "code",
   "execution_count": 8,
   "id": "b2dfebcc",
   "metadata": {
    "execution": {
     "iopub.execute_input": "2024-05-07T05:49:22.429077Z",
     "iopub.status.busy": "2024-05-07T05:49:22.428792Z",
     "iopub.status.idle": "2024-05-07T05:49:22.433710Z",
     "shell.execute_reply": "2024-05-07T05:49:22.432806Z"
    },
    "papermill": {
     "duration": 0.022403,
     "end_time": "2024-05-07T05:49:22.435605",
     "exception": false,
     "start_time": "2024-05-07T05:49:22.413202",
     "status": "completed"
    },
    "tags": []
   },
   "outputs": [],
   "source": [
    "\n",
    "# from rdkit.Chem import AllChem\n",
    "# import py3Dmol\n",
    "\n",
    "# def plot_3d_molecule_by_id(df, molecule_id):\n",
    "#     # Filter the DataFrame for the given id\n",
    "#     row = df[df['id'] == molecule_id]\n",
    "#     if row.empty:\n",
    "#         return \"No entry with the given ID.\"\n",
    "\n",
    "#     # Get the SMILES string for the molecule\n",
    "#     smiles_string = row['molecule_smiles'].values[0]\n",
    "#     if not smiles_string:\n",
    "#         return \"No SMILES string found for the given ID.\"\n",
    "    \n",
    "#     # Create a molecule from a SMILES string\n",
    "#     mol = Chem.MolFromSmiles(smiles_string)\n",
    "#     if mol is None:\n",
    "#         return \"Invalid SMILES string.\"\n",
    "    \n",
    "#     # Generate 3D coordinates\n",
    "#     mol = Chem.AddHs(mol)  # Add hydrogens\n",
    "#     AllChem.EmbedMolecule(mol, AllChem.ETKDG())  # Embed molecule in 3D space using ETKDG methodology\n",
    "#     AllChem.UFFOptimizeMolecule(mol)  # Optimize the geometry\n",
    "\n",
    "#     # Use py3Dmol for visualization\n",
    "#     mb = Chem.MolToMolBlock(mol)\n",
    "#     viewer = py3Dmol.view(width=800, height=400)\n",
    "#     viewer.addModel(mb, \"mol\")\n",
    "#     viewer.setStyle({'stick': {}})\n",
    "#     viewer.zoomTo()\n",
    "#     return viewer.show()\n",
    "\n"
   ]
  },
  {
   "cell_type": "code",
   "execution_count": 9,
   "id": "4a1a29aa",
   "metadata": {
    "execution": {
     "iopub.execute_input": "2024-05-07T05:49:22.465516Z",
     "iopub.status.busy": "2024-05-07T05:49:22.465257Z",
     "iopub.status.idle": "2024-05-07T05:49:22.469228Z",
     "shell.execute_reply": "2024-05-07T05:49:22.468299Z"
    },
    "papermill": {
     "duration": 0.021117,
     "end_time": "2024-05-07T05:49:22.471337",
     "exception": false,
     "start_time": "2024-05-07T05:49:22.450220",
     "status": "completed"
    },
    "tags": []
   },
   "outputs": [],
   "source": [
    "# # Example usage:\n",
    "# plot_3d_molecule_by_id(df_train, 1)\n"
   ]
  },
  {
   "cell_type": "code",
   "execution_count": 10,
   "id": "4871a7e0",
   "metadata": {
    "execution": {
     "iopub.execute_input": "2024-05-07T05:49:22.500780Z",
     "iopub.status.busy": "2024-05-07T05:49:22.500240Z",
     "iopub.status.idle": "2024-05-07T05:49:22.503897Z",
     "shell.execute_reply": "2024-05-07T05:49:22.503065Z"
    },
    "papermill": {
     "duration": 0.020266,
     "end_time": "2024-05-07T05:49:22.505834",
     "exception": false,
     "start_time": "2024-05-07T05:49:22.485568",
     "status": "completed"
    },
    "tags": []
   },
   "outputs": [],
   "source": [
    "# !pip install rdkit-pypi networkx matplotlib\n"
   ]
  },
  {
   "cell_type": "code",
   "execution_count": 11,
   "id": "d796096d",
   "metadata": {
    "execution": {
     "iopub.execute_input": "2024-05-07T05:49:22.534609Z",
     "iopub.status.busy": "2024-05-07T05:49:22.533994Z",
     "iopub.status.idle": "2024-05-07T05:49:22.538854Z",
     "shell.execute_reply": "2024-05-07T05:49:22.538025Z"
    },
    "papermill": {
     "duration": 0.020903,
     "end_time": "2024-05-07T05:49:22.540622",
     "exception": false,
     "start_time": "2024-05-07T05:49:22.519719",
     "status": "completed"
    },
    "tags": []
   },
   "outputs": [],
   "source": [
    "\n",
    "# import pandas as pd\n",
    "# import networkx as nx\n",
    "# import matplotlib.pyplot as plt\n",
    "# from rdkit import Chem\n",
    "# from rdkit.Chem import Draw\n",
    "# from rdkit.Chem.rdmolops import GetAdjacencyMatrix\n",
    "\n",
    "# def plot_molecule_graph(df, molecule_id):\n",
    "#     # Find the molecule by ID\n",
    "#     row = df[df['id'] == molecule_id]\n",
    "#     if row.empty:\n",
    "#         print(\"No entry with the given ID.\")\n",
    "#         return\n",
    "\n",
    "#     # Extract the SMILES string\n",
    "#     smiles = row['molecule_smiles'].values[0]\n",
    "#     mol = Chem.MolFromSmiles(smiles)\n",
    "#     if mol is None:\n",
    "#         print(\"Invalid SMILES string.\")\n",
    "#         return\n",
    "\n",
    "#     # Create a graph from the molecule\n",
    "#     G = nx.Graph(Chem.rdmolops.GetAdjacencyMatrix(mol))\n",
    "#     labels = {}\n",
    "#     for idx, atom in enumerate(mol.GetAtoms()):\n",
    "#         G.nodes[idx]['label'] = atom.GetSymbol()\n",
    "#         labels[idx] = atom.GetSymbol()\n",
    "\n",
    "#     # Draw the graph\n",
    "#     pos = nx.spring_layout(G)  # positions for all nodes\n",
    "#     nx.draw(G, pos, with_labels=True, labels=labels, node_size=700, node_color='skyblue', font_size=16, font_weight='bold', edge_color='gray')\n",
    "#     plt.title(f'Molecular graph of ID {molecule_id}')\n",
    "#     plt.show()\n",
    "\n",
    "\n"
   ]
  },
  {
   "cell_type": "code",
   "execution_count": 12,
   "id": "56dfe919",
   "metadata": {
    "execution": {
     "iopub.execute_input": "2024-05-07T05:49:22.570330Z",
     "iopub.status.busy": "2024-05-07T05:49:22.570060Z",
     "iopub.status.idle": "2024-05-07T05:49:22.573827Z",
     "shell.execute_reply": "2024-05-07T05:49:22.572970Z"
    },
    "papermill": {
     "duration": 0.020281,
     "end_time": "2024-05-07T05:49:22.575885",
     "exception": false,
     "start_time": "2024-05-07T05:49:22.555604",
     "status": "completed"
    },
    "tags": []
   },
   "outputs": [],
   "source": [
    "# # Example usage:\n",
    "# plot_molecule_graph(df_train, 1)"
   ]
  },
  {
   "cell_type": "code",
   "execution_count": null,
   "id": "f68aefda",
   "metadata": {
    "papermill": {
     "duration": 0.014575,
     "end_time": "2024-05-07T05:49:22.604598",
     "exception": false,
     "start_time": "2024-05-07T05:49:22.590023",
     "status": "completed"
    },
    "tags": []
   },
   "outputs": [],
   "source": []
  },
  {
   "cell_type": "markdown",
   "id": "a8cf1e09",
   "metadata": {
    "papermill": {
     "duration": 0.01482,
     "end_time": "2024-05-07T05:49:22.633831",
     "exception": false,
     "start_time": "2024-05-07T05:49:22.619011",
     "status": "completed"
    },
    "tags": []
   },
   "source": [
    "# Model 1 - SMILESBerth\n"
   ]
  },
  {
   "cell_type": "code",
   "execution_count": 13,
   "id": "6207e9d3",
   "metadata": {
    "execution": {
     "iopub.execute_input": "2024-05-07T05:49:22.665980Z",
     "iopub.status.busy": "2024-05-07T05:49:22.665555Z",
     "iopub.status.idle": "2024-05-07T05:50:08.850520Z",
     "shell.execute_reply": "2024-05-07T05:50:08.849538Z"
    },
    "papermill": {
     "duration": 46.21612,
     "end_time": "2024-05-07T05:50:08.865133",
     "exception": false,
     "start_time": "2024-05-07T05:49:22.649013",
     "status": "completed"
    },
    "tags": []
   },
   "outputs": [
    {
     "name": "stdout",
     "output_type": "stream",
     "text": [
      "Training and evaluation datasets prepared.\n"
     ]
    }
   ],
   "source": [
    "import pandas as pd\n",
    "\n",
    "# Define file path\n",
    "csv_file = '/kaggle/input/leash-BELKA/train.csv'\n",
    "\n",
    "# Load first 10M rows\n",
    "train_data = pd.read_csv(csv_file, nrows=10000000)\n",
    "\n",
    "# Filter for ones and zeros\n",
    "df_ones = train_data[train_data['binds'] == 1]\n",
    "df_zeros = train_data[train_data['binds'] == 0]\n",
    "\n",
    "df_zeros_balanced = df_zeros.sample(n=len(df_ones))\n",
    "df_train = pd.concat([df_ones, df_zeros_balanced]).sample(frac=1, random_state=42)\n",
    "\n",
    "# Load the next 100K rows for evaluation\n",
    "df_eval = pd.read_csv(csv_file, skiprows=range(1, 10000001), nrows=100000)\n",
    "\n",
    "# Now you have your train and eval datasets ready\n",
    "print(\"Training and evaluation datasets prepared.\")\n"
   ]
  },
  {
   "cell_type": "code",
   "execution_count": 14,
   "id": "84edab3e",
   "metadata": {
    "execution": {
     "iopub.execute_input": "2024-05-07T05:50:08.893049Z",
     "iopub.status.busy": "2024-05-07T05:50:08.892746Z",
     "iopub.status.idle": "2024-05-07T05:50:17.313367Z",
     "shell.execute_reply": "2024-05-07T05:50:17.312535Z"
    },
    "papermill": {
     "duration": 8.437439,
     "end_time": "2024-05-07T05:50:17.315870",
     "exception": false,
     "start_time": "2024-05-07T05:50:08.878431",
     "status": "completed"
    },
    "tags": []
   },
   "outputs": [],
   "source": [
    "df_eval = pd.read_csv(csv_file, skiprows=range(1, 10000001), nrows=100000)"
   ]
  },
  {
   "cell_type": "code",
   "execution_count": 15,
   "id": "e510a0b3",
   "metadata": {
    "execution": {
     "iopub.execute_input": "2024-05-07T05:50:17.344803Z",
     "iopub.status.busy": "2024-05-07T05:50:17.344490Z",
     "iopub.status.idle": "2024-05-07T05:50:17.526135Z",
     "shell.execute_reply": "2024-05-07T05:50:17.525138Z"
    },
    "papermill": {
     "duration": 0.198064,
     "end_time": "2024-05-07T05:50:17.528052",
     "exception": false,
     "start_time": "2024-05-07T05:50:17.329988",
     "status": "completed"
    },
    "tags": []
   },
   "outputs": [],
   "source": [
    "del train_data"
   ]
  },
  {
   "cell_type": "code",
   "execution_count": 16,
   "id": "48c98520",
   "metadata": {
    "execution": {
     "iopub.execute_input": "2024-05-07T05:50:17.556684Z",
     "iopub.status.busy": "2024-05-07T05:50:17.556380Z",
     "iopub.status.idle": "2024-05-07T05:50:17.607123Z",
     "shell.execute_reply": "2024-05-07T05:50:17.606299Z"
    },
    "papermill": {
     "duration": 0.067276,
     "end_time": "2024-05-07T05:50:17.608981",
     "exception": false,
     "start_time": "2024-05-07T05:50:17.541705",
     "status": "completed"
    },
    "tags": []
   },
   "outputs": [
    {
     "data": {
      "text/plain": [
       "13"
      ]
     },
     "execution_count": 16,
     "metadata": {},
     "output_type": "execute_result"
    }
   ],
   "source": [
    "import gc\n",
    "gc.collect()"
   ]
  },
  {
   "cell_type": "code",
   "execution_count": 17,
   "id": "d442d407",
   "metadata": {
    "execution": {
     "iopub.execute_input": "2024-05-07T05:50:17.678355Z",
     "iopub.status.busy": "2024-05-07T05:50:17.677533Z",
     "iopub.status.idle": "2024-05-07T05:50:17.681834Z",
     "shell.execute_reply": "2024-05-07T05:50:17.680868Z"
    },
    "papermill": {
     "duration": 0.060864,
     "end_time": "2024-05-07T05:50:17.683708",
     "exception": false,
     "start_time": "2024-05-07T05:50:17.622844",
     "status": "completed"
    },
    "tags": []
   },
   "outputs": [],
   "source": [
    "# # Save datasets if necessary\n",
    "# df_train_balanced.to_csv('/path/to/save/train_balanced.csv', index=False)\n",
    "# df_eval.to_csv('/path/to/save/eval.csv', index=False)\n",
    "\n",
    "# # Or proceed with further data processing, feature engineering, etc.\n"
   ]
  },
  {
   "cell_type": "code",
   "execution_count": 18,
   "id": "587d6681",
   "metadata": {
    "execution": {
     "iopub.execute_input": "2024-05-07T05:50:17.711715Z",
     "iopub.status.busy": "2024-05-07T05:50:17.711381Z",
     "iopub.status.idle": "2024-05-07T05:50:17.715155Z",
     "shell.execute_reply": "2024-05-07T05:50:17.714392Z"
    },
    "papermill": {
     "duration": 0.019839,
     "end_time": "2024-05-07T05:50:17.717009",
     "exception": false,
     "start_time": "2024-05-07T05:50:17.697170",
     "status": "completed"
    },
    "tags": []
   },
   "outputs": [],
   "source": [
    "# from sklearn.model_selection import train_test_split\n",
    "\n",
    "# # Split df_train to create a new training set and an evaluation set\n",
    "# df_train, df_eval = train_test_split(df, test_size=0.1, random_state=42)\n"
   ]
  },
  {
   "cell_type": "code",
   "execution_count": 19,
   "id": "93eb7b20",
   "metadata": {
    "execution": {
     "iopub.execute_input": "2024-05-07T05:50:17.745326Z",
     "iopub.status.busy": "2024-05-07T05:50:17.744782Z",
     "iopub.status.idle": "2024-05-07T05:50:17.750135Z",
     "shell.execute_reply": "2024-05-07T05:50:17.749314Z"
    },
    "papermill": {
     "duration": 0.021388,
     "end_time": "2024-05-07T05:50:17.751928",
     "exception": false,
     "start_time": "2024-05-07T05:50:17.730540",
     "status": "completed"
    },
    "tags": []
   },
   "outputs": [
    {
     "data": {
      "text/plain": [
       "42712"
      ]
     },
     "execution_count": 19,
     "metadata": {},
     "output_type": "execute_result"
    }
   ],
   "source": [
    "len(df_train)"
   ]
  },
  {
   "cell_type": "code",
   "execution_count": 20,
   "id": "15c9e54f",
   "metadata": {
    "execution": {
     "iopub.execute_input": "2024-05-07T05:50:17.780667Z",
     "iopub.status.busy": "2024-05-07T05:50:17.780185Z",
     "iopub.status.idle": "2024-05-07T05:50:17.794905Z",
     "shell.execute_reply": "2024-05-07T05:50:17.793971Z"
    },
    "papermill": {
     "duration": 0.031123,
     "end_time": "2024-05-07T05:50:17.796830",
     "exception": false,
     "start_time": "2024-05-07T05:50:17.765707",
     "status": "completed"
    },
    "tags": []
   },
   "outputs": [
    {
     "data": {
      "text/html": [
       "<div>\n",
       "<style scoped>\n",
       "    .dataframe tbody tr th:only-of-type {\n",
       "        vertical-align: middle;\n",
       "    }\n",
       "\n",
       "    .dataframe tbody tr th {\n",
       "        vertical-align: top;\n",
       "    }\n",
       "\n",
       "    .dataframe thead th {\n",
       "        text-align: right;\n",
       "    }\n",
       "</style>\n",
       "<table border=\"1\" class=\"dataframe\">\n",
       "  <thead>\n",
       "    <tr style=\"text-align: right;\">\n",
       "      <th></th>\n",
       "      <th>id</th>\n",
       "      <th>buildingblock1_smiles</th>\n",
       "      <th>buildingblock2_smiles</th>\n",
       "      <th>buildingblock3_smiles</th>\n",
       "      <th>molecule_smiles</th>\n",
       "      <th>protein_name</th>\n",
       "      <th>binds</th>\n",
       "    </tr>\n",
       "  </thead>\n",
       "  <tbody>\n",
       "    <tr>\n",
       "      <th>0</th>\n",
       "      <td>10000000</td>\n",
       "      <td>C=CC[C@H](NC(=O)OCC1c2ccccc2-c2ccccc21)C(=O)O</td>\n",
       "      <td>COC(=O)c1cscc1N.Cl</td>\n",
       "      <td>Cc1cccc2sc(N)nc12</td>\n",
       "      <td>C=CC[C@H](Nc1nc(Nc2nc3c(C)cccc3s2)nc(Nc2cscc2C...</td>\n",
       "      <td>HSA</td>\n",
       "      <td>0</td>\n",
       "    </tr>\n",
       "    <tr>\n",
       "      <th>1</th>\n",
       "      <td>10000001</td>\n",
       "      <td>C=CC[C@H](NC(=O)OCC1c2ccccc2-c2ccccc21)C(=O)O</td>\n",
       "      <td>COC(=O)c1cscc1N.Cl</td>\n",
       "      <td>Cc1cccc2sc(N)nc12</td>\n",
       "      <td>C=CC[C@H](Nc1nc(Nc2nc3c(C)cccc3s2)nc(Nc2cscc2C...</td>\n",
       "      <td>sEH</td>\n",
       "      <td>0</td>\n",
       "    </tr>\n",
       "    <tr>\n",
       "      <th>2</th>\n",
       "      <td>10000002</td>\n",
       "      <td>C=CC[C@H](NC(=O)OCC1c2ccccc2-c2ccccc21)C(=O)O</td>\n",
       "      <td>COC(=O)c1cscc1N.Cl</td>\n",
       "      <td>Cc1ccnc(N)c1</td>\n",
       "      <td>C=CC[C@H](Nc1nc(Nc2cc(C)ccn2)nc(Nc2cscc2C(=O)O...</td>\n",
       "      <td>BRD4</td>\n",
       "      <td>0</td>\n",
       "    </tr>\n",
       "    <tr>\n",
       "      <th>3</th>\n",
       "      <td>10000003</td>\n",
       "      <td>C=CC[C@H](NC(=O)OCC1c2ccccc2-c2ccccc21)C(=O)O</td>\n",
       "      <td>COC(=O)c1cscc1N.Cl</td>\n",
       "      <td>Cc1ccnc(N)c1</td>\n",
       "      <td>C=CC[C@H](Nc1nc(Nc2cc(C)ccn2)nc(Nc2cscc2C(=O)O...</td>\n",
       "      <td>HSA</td>\n",
       "      <td>0</td>\n",
       "    </tr>\n",
       "    <tr>\n",
       "      <th>4</th>\n",
       "      <td>10000004</td>\n",
       "      <td>C=CC[C@H](NC(=O)OCC1c2ccccc2-c2ccccc21)C(=O)O</td>\n",
       "      <td>COC(=O)c1cscc1N.Cl</td>\n",
       "      <td>Cc1ccnc(N)c1</td>\n",
       "      <td>C=CC[C@H](Nc1nc(Nc2cc(C)ccn2)nc(Nc2cscc2C(=O)O...</td>\n",
       "      <td>sEH</td>\n",
       "      <td>0</td>\n",
       "    </tr>\n",
       "  </tbody>\n",
       "</table>\n",
       "</div>"
      ],
      "text/plain": [
       "         id                          buildingblock1_smiles  \\\n",
       "0  10000000  C=CC[C@H](NC(=O)OCC1c2ccccc2-c2ccccc21)C(=O)O   \n",
       "1  10000001  C=CC[C@H](NC(=O)OCC1c2ccccc2-c2ccccc21)C(=O)O   \n",
       "2  10000002  C=CC[C@H](NC(=O)OCC1c2ccccc2-c2ccccc21)C(=O)O   \n",
       "3  10000003  C=CC[C@H](NC(=O)OCC1c2ccccc2-c2ccccc21)C(=O)O   \n",
       "4  10000004  C=CC[C@H](NC(=O)OCC1c2ccccc2-c2ccccc21)C(=O)O   \n",
       "\n",
       "  buildingblock2_smiles buildingblock3_smiles  \\\n",
       "0    COC(=O)c1cscc1N.Cl     Cc1cccc2sc(N)nc12   \n",
       "1    COC(=O)c1cscc1N.Cl     Cc1cccc2sc(N)nc12   \n",
       "2    COC(=O)c1cscc1N.Cl          Cc1ccnc(N)c1   \n",
       "3    COC(=O)c1cscc1N.Cl          Cc1ccnc(N)c1   \n",
       "4    COC(=O)c1cscc1N.Cl          Cc1ccnc(N)c1   \n",
       "\n",
       "                                     molecule_smiles protein_name  binds  \n",
       "0  C=CC[C@H](Nc1nc(Nc2nc3c(C)cccc3s2)nc(Nc2cscc2C...          HSA      0  \n",
       "1  C=CC[C@H](Nc1nc(Nc2nc3c(C)cccc3s2)nc(Nc2cscc2C...          sEH      0  \n",
       "2  C=CC[C@H](Nc1nc(Nc2cc(C)ccn2)nc(Nc2cscc2C(=O)O...         BRD4      0  \n",
       "3  C=CC[C@H](Nc1nc(Nc2cc(C)ccn2)nc(Nc2cscc2C(=O)O...          HSA      0  \n",
       "4  C=CC[C@H](Nc1nc(Nc2cc(C)ccn2)nc(Nc2cscc2C(=O)O...          sEH      0  "
      ]
     },
     "execution_count": 20,
     "metadata": {},
     "output_type": "execute_result"
    }
   ],
   "source": [
    "df_eval.head()"
   ]
  },
  {
   "cell_type": "code",
   "execution_count": 21,
   "id": "308993a3",
   "metadata": {
    "execution": {
     "iopub.execute_input": "2024-05-07T05:50:17.825931Z",
     "iopub.status.busy": "2024-05-07T05:50:17.825656Z",
     "iopub.status.idle": "2024-05-07T05:50:31.139106Z",
     "shell.execute_reply": "2024-05-07T05:50:31.137938Z"
    },
    "papermill": {
     "duration": 13.330947,
     "end_time": "2024-05-07T05:50:31.141714",
     "exception": false,
     "start_time": "2024-05-07T05:50:17.810767",
     "status": "completed"
    },
    "tags": []
   },
   "outputs": [
    {
     "name": "stdout",
     "output_type": "stream",
     "text": [
      "Requirement already satisfied: transformers in /opt/conda/lib/python3.10/site-packages (4.39.3)\r\n",
      "Requirement already satisfied: torch in /opt/conda/lib/python3.10/site-packages (2.1.2)\r\n",
      "Requirement already satisfied: filelock in /opt/conda/lib/python3.10/site-packages (from transformers) (3.13.1)\r\n",
      "Requirement already satisfied: huggingface-hub<1.0,>=0.19.3 in /opt/conda/lib/python3.10/site-packages (from transformers) (0.22.2)\r\n",
      "Requirement already satisfied: numpy>=1.17 in /opt/conda/lib/python3.10/site-packages (from transformers) (1.26.4)\r\n",
      "Requirement already satisfied: packaging>=20.0 in /opt/conda/lib/python3.10/site-packages (from transformers) (21.3)\r\n",
      "Requirement already satisfied: pyyaml>=5.1 in /opt/conda/lib/python3.10/site-packages (from transformers) (6.0.1)\r\n",
      "Requirement already satisfied: regex!=2019.12.17 in /opt/conda/lib/python3.10/site-packages (from transformers) (2023.12.25)\r\n",
      "Requirement already satisfied: requests in /opt/conda/lib/python3.10/site-packages (from transformers) (2.31.0)\r\n",
      "Requirement already satisfied: tokenizers<0.19,>=0.14 in /opt/conda/lib/python3.10/site-packages (from transformers) (0.15.2)\r\n",
      "Requirement already satisfied: safetensors>=0.4.1 in /opt/conda/lib/python3.10/site-packages (from transformers) (0.4.3)\r\n",
      "Requirement already satisfied: tqdm>=4.27 in /opt/conda/lib/python3.10/site-packages (from transformers) (4.66.1)\r\n",
      "Requirement already satisfied: typing-extensions in /opt/conda/lib/python3.10/site-packages (from torch) (4.9.0)\r\n",
      "Requirement already satisfied: sympy in /opt/conda/lib/python3.10/site-packages (from torch) (1.12)\r\n",
      "Requirement already satisfied: networkx in /opt/conda/lib/python3.10/site-packages (from torch) (3.2.1)\r\n",
      "Requirement already satisfied: jinja2 in /opt/conda/lib/python3.10/site-packages (from torch) (3.1.2)\r\n",
      "Requirement already satisfied: fsspec in /opt/conda/lib/python3.10/site-packages (from torch) (2024.2.0)\r\n",
      "Requirement already satisfied: pyparsing!=3.0.5,>=2.0.2 in /opt/conda/lib/python3.10/site-packages (from packaging>=20.0->transformers) (3.1.1)\r\n",
      "Requirement already satisfied: MarkupSafe>=2.0 in /opt/conda/lib/python3.10/site-packages (from jinja2->torch) (2.1.3)\r\n",
      "Requirement already satisfied: charset-normalizer<4,>=2 in /opt/conda/lib/python3.10/site-packages (from requests->transformers) (3.3.2)\r\n",
      "Requirement already satisfied: idna<4,>=2.5 in /opt/conda/lib/python3.10/site-packages (from requests->transformers) (3.6)\r\n",
      "Requirement already satisfied: urllib3<3,>=1.21.1 in /opt/conda/lib/python3.10/site-packages (from requests->transformers) (1.26.18)\r\n",
      "Requirement already satisfied: certifi>=2017.4.17 in /opt/conda/lib/python3.10/site-packages (from requests->transformers) (2024.2.2)\r\n",
      "Requirement already satisfied: mpmath>=0.19 in /opt/conda/lib/python3.10/site-packages (from sympy->torch) (1.3.0)\r\n"
     ]
    }
   ],
   "source": [
    "!pip install transformers torch\n"
   ]
  },
  {
   "cell_type": "code",
   "execution_count": 22,
   "id": "d3bf80e3",
   "metadata": {
    "execution": {
     "iopub.execute_input": "2024-05-07T05:50:31.174825Z",
     "iopub.status.busy": "2024-05-07T05:50:31.173895Z",
     "iopub.status.idle": "2024-05-07T05:50:38.551743Z",
     "shell.execute_reply": "2024-05-07T05:50:38.550977Z"
    },
    "papermill": {
     "duration": 7.395917,
     "end_time": "2024-05-07T05:50:38.553775",
     "exception": false,
     "start_time": "2024-05-07T05:50:31.157858",
     "status": "completed"
    },
    "tags": []
   },
   "outputs": [
    {
     "data": {
      "application/vnd.jupyter.widget-view+json": {
       "model_id": "fb7c9017c5f34c2faf2da15530a20c2f",
       "version_major": 2,
       "version_minor": 0
      },
      "text/plain": [
       "tokenizer_config.json:   0%|          | 0.00/62.0 [00:00<?, ?B/s]"
      ]
     },
     "metadata": {},
     "output_type": "display_data"
    },
    {
     "data": {
      "application/vnd.jupyter.widget-view+json": {
       "model_id": "6b9d2ae7459b4bebbe3d4439b69ca9bd",
       "version_major": 2,
       "version_minor": 0
      },
      "text/plain": [
       "config.json:   0%|          | 0.00/515 [00:00<?, ?B/s]"
      ]
     },
     "metadata": {},
     "output_type": "display_data"
    },
    {
     "data": {
      "application/vnd.jupyter.widget-view+json": {
       "model_id": "ea4ab4c27caa45d58f9d8dc1aa75e54a",
       "version_major": 2,
       "version_minor": 0
      },
      "text/plain": [
       "vocab.json:   0%|          | 0.00/165k [00:00<?, ?B/s]"
      ]
     },
     "metadata": {},
     "output_type": "display_data"
    },
    {
     "data": {
      "application/vnd.jupyter.widget-view+json": {
       "model_id": "a5268058ff67496da00330f1cb88e130",
       "version_major": 2,
       "version_minor": 0
      },
      "text/plain": [
       "merges.txt:   0%|          | 0.00/101k [00:00<?, ?B/s]"
      ]
     },
     "metadata": {},
     "output_type": "display_data"
    },
    {
     "data": {
      "application/vnd.jupyter.widget-view+json": {
       "model_id": "2defc737823a4bfdbd04bf84a95f54c2",
       "version_major": 2,
       "version_minor": 0
      },
      "text/plain": [
       "special_tokens_map.json:   0%|          | 0.00/772 [00:00<?, ?B/s]"
      ]
     },
     "metadata": {},
     "output_type": "display_data"
    }
   ],
   "source": [
    "from transformers import AutoModelForSequenceClassification, AutoTokenizer\n",
    "\n",
    "model_name = \"seyonec/PubChem10M_SMILES_BPE_450k\"\n",
    "tokenizer = AutoTokenizer.from_pretrained(model_name)\n"
   ]
  },
  {
   "cell_type": "code",
   "execution_count": 23,
   "id": "cdcb1d41",
   "metadata": {
    "execution": {
     "iopub.execute_input": "2024-05-07T05:50:38.586419Z",
     "iopub.status.busy": "2024-05-07T05:50:38.586000Z",
     "iopub.status.idle": "2024-05-07T05:51:01.797007Z",
     "shell.execute_reply": "2024-05-07T05:51:01.796119Z"
    },
    "papermill": {
     "duration": 23.230055,
     "end_time": "2024-05-07T05:51:01.799404",
     "exception": false,
     "start_time": "2024-05-07T05:50:38.569349",
     "status": "completed"
    },
    "tags": []
   },
   "outputs": [
    {
     "name": "stderr",
     "output_type": "stream",
     "text": [
      "2024-05-07 05:50:42.493677: E external/local_xla/xla/stream_executor/cuda/cuda_dnn.cc:9261] Unable to register cuDNN factory: Attempting to register factory for plugin cuDNN when one has already been registered\n",
      "2024-05-07 05:50:42.493776: E external/local_xla/xla/stream_executor/cuda/cuda_fft.cc:607] Unable to register cuFFT factory: Attempting to register factory for plugin cuFFT when one has already been registered\n",
      "2024-05-07 05:50:42.629392: E external/local_xla/xla/stream_executor/cuda/cuda_blas.cc:1515] Unable to register cuBLAS factory: Attempting to register factory for plugin cuBLAS when one has already been registered\n"
     ]
    }
   ],
   "source": [
    "from transformers import Trainer, TrainingArguments\n",
    "from sklearn.preprocessing import OneHotEncoder\n",
    "\n",
    "\n",
    "# Tokenizing the SMILES strings\n",
    "\n",
    "train_encodings = tokenizer(df_train['molecule_smiles'].tolist(), truncation=True, padding=True, max_length=512)\n",
    "eval_encodings = tokenizer(df_eval['molecule_smiles'].tolist(), truncation=True, padding=True, max_length=512)\n",
    "\n"
   ]
  },
  {
   "cell_type": "code",
   "execution_count": 24,
   "id": "08edc0ba",
   "metadata": {
    "execution": {
     "iopub.execute_input": "2024-05-07T05:51:01.832145Z",
     "iopub.status.busy": "2024-05-07T05:51:01.831525Z",
     "iopub.status.idle": "2024-05-07T05:51:01.884371Z",
     "shell.execute_reply": "2024-05-07T05:51:01.883462Z"
    },
    "papermill": {
     "duration": 0.071176,
     "end_time": "2024-05-07T05:51:01.886445",
     "exception": false,
     "start_time": "2024-05-07T05:51:01.815269",
     "status": "completed"
    },
    "tags": []
   },
   "outputs": [
    {
     "name": "stderr",
     "output_type": "stream",
     "text": [
      "/opt/conda/lib/python3.10/site-packages/sklearn/preprocessing/_encoders.py:868: FutureWarning: `sparse` was renamed to `sparse_output` in version 1.2 and will be removed in 1.4. `sparse_output` is ignored unless you leave `sparse` to its default value.\n",
      "  warnings.warn(\n"
     ]
    }
   ],
   "source": [
    "\n",
    "# Encode protein names\n",
    "encoder = OneHotEncoder(sparse=False)\n",
    "train_proteins = encoder.fit_transform(df_train['protein_name'].values.reshape(-1, 1))\n",
    "eval_proteins = encoder.transform(df_eval['protein_name'].values.reshape(-1, 1))\n"
   ]
  },
  {
   "cell_type": "code",
   "execution_count": 25,
   "id": "4e6dfc7a",
   "metadata": {
    "execution": {
     "iopub.execute_input": "2024-05-07T05:51:01.918445Z",
     "iopub.status.busy": "2024-05-07T05:51:01.918154Z",
     "iopub.status.idle": "2024-05-07T05:51:01.925008Z",
     "shell.execute_reply": "2024-05-07T05:51:01.924118Z"
    },
    "papermill": {
     "duration": 0.025071,
     "end_time": "2024-05-07T05:51:01.926913",
     "exception": false,
     "start_time": "2024-05-07T05:51:01.901842",
     "status": "completed"
    },
    "tags": []
   },
   "outputs": [],
   "source": [
    "\n",
    "# Creating a Dataset object for Hugging Face\n",
    "import torch\n",
    "\n",
    "class SMILESDataset(torch.utils.data.Dataset):\n",
    "    def __init__(self, encodings, labels, protein_encodings):\n",
    "        self.encodings = encodings\n",
    "        self.labels = labels\n",
    "        self.protein_encodings = protein_encodings\n",
    "\n",
    "    def __getitem__(self, idx):\n",
    "        item = {key: torch.tensor(val[idx]) for key, val in self.encodings.items()}\n",
    "        item['labels'] = torch.tensor(self.labels[idx])\n",
    "        item['protein_encodings'] = torch.tensor(self.protein_encodings[idx], dtype=torch.float32)\n",
    "        return item\n",
    "\n",
    "    def __len__(self):\n",
    "        return len(self.labels)\n",
    "\n",
    "\n",
    "\n"
   ]
  },
  {
   "cell_type": "code",
   "execution_count": 26,
   "id": "c7eb01cd",
   "metadata": {
    "execution": {
     "iopub.execute_input": "2024-05-07T05:51:01.958944Z",
     "iopub.status.busy": "2024-05-07T05:51:01.958688Z",
     "iopub.status.idle": "2024-05-07T05:51:01.966791Z",
     "shell.execute_reply": "2024-05-07T05:51:01.966071Z"
    },
    "papermill": {
     "duration": 0.026476,
     "end_time": "2024-05-07T05:51:01.968663",
     "exception": false,
     "start_time": "2024-05-07T05:51:01.942187",
     "status": "completed"
    },
    "tags": []
   },
   "outputs": [],
   "source": [
    "import torch.nn as nn\n",
    "\n",
    "class ProteinBindingModel(nn.Module):\n",
    "    def __init__(self, transformer_model, num_protein_features):\n",
    "        super(ProteinBindingModel, self).__init__()\n",
    "        self.transformer = transformer_model\n",
    "        self.protein_features = nn.Linear(num_protein_features, 256)\n",
    "        self.classifier = nn.Linear(768 + 256, 2)  # Adjust sizes accordingly if using a different model\n",
    "\n",
    "    def forward(self, input_ids, attention_mask, protein_features):\n",
    "        # Obtain the outputs from the transformer model\n",
    "        outputs = self.transformer(input_ids=input_ids, attention_mask=attention_mask)\n",
    "        \n",
    "        # Use the last hidden state\n",
    "        last_hidden_state = outputs.last_hidden_state  # This is generally [batch size, sequence length, hidden size]\n",
    "        pooled_output = last_hidden_state[:, 0, :]  # Take the first token's embeddings across all batches\n",
    "        \n",
    "        # Process protein features\n",
    "        protein_features = self.protein_features(protein_features)\n",
    "        \n",
    "        # Concatenate pooled output and protein features\n",
    "        combined_features = torch.cat((pooled_output, protein_features), dim=1)\n",
    "        output = self.classifier(combined_features)\n",
    "        return output\n",
    "\n"
   ]
  },
  {
   "cell_type": "code",
   "execution_count": 27,
   "id": "875a2c0d",
   "metadata": {
    "execution": {
     "iopub.execute_input": "2024-05-07T05:51:02.000908Z",
     "iopub.status.busy": "2024-05-07T05:51:02.000655Z",
     "iopub.status.idle": "2024-05-07T05:51:02.007779Z",
     "shell.execute_reply": "2024-05-07T05:51:02.006943Z"
    },
    "papermill": {
     "duration": 0.02544,
     "end_time": "2024-05-07T05:51:02.009605",
     "exception": false,
     "start_time": "2024-05-07T05:51:01.984165",
     "status": "completed"
    },
    "tags": []
   },
   "outputs": [],
   "source": [
    "#create Dataset\n",
    "train_dataset = SMILESDataset(train_encodings, df_train['binds'].tolist(), train_proteins)\n",
    "eval_dataset = SMILESDataset(eval_encodings, df_eval['binds'].tolist(), eval_proteins)"
   ]
  },
  {
   "cell_type": "code",
   "execution_count": 28,
   "id": "685da134",
   "metadata": {
    "execution": {
     "iopub.execute_input": "2024-05-07T05:51:02.041783Z",
     "iopub.status.busy": "2024-05-07T05:51:02.041449Z",
     "iopub.status.idle": "2024-05-07T05:51:04.533678Z",
     "shell.execute_reply": "2024-05-07T05:51:04.532694Z"
    },
    "papermill": {
     "duration": 2.510686,
     "end_time": "2024-05-07T05:51:04.535767",
     "exception": false,
     "start_time": "2024-05-07T05:51:02.025081",
     "status": "completed"
    },
    "tags": []
   },
   "outputs": [
    {
     "data": {
      "application/vnd.jupyter.widget-view+json": {
       "model_id": "0ab9c4e70e744225a911e165e0d83640",
       "version_major": 2,
       "version_minor": 0
      },
      "text/plain": [
       "pytorch_model.bin:   0%|          | 0.00/336M [00:00<?, ?B/s]"
      ]
     },
     "metadata": {},
     "output_type": "display_data"
    },
    {
     "name": "stderr",
     "output_type": "stream",
     "text": [
      "/opt/conda/lib/python3.10/site-packages/torch/_utils.py:831: UserWarning: TypedStorage is deprecated. It will be removed in the future and UntypedStorage will be the only storage class. This should only matter to you if you are using storages directly.  To access UntypedStorage directly, use tensor.untyped_storage() instead of tensor.storage()\n",
      "  return self.fget.__get__(instance, owner)()\n",
      "Some weights of RobertaForSequenceClassification were not initialized from the model checkpoint at seyonec/PubChem10M_SMILES_BPE_450k and are newly initialized: ['classifier.dense.bias', 'classifier.dense.weight', 'classifier.out_proj.bias', 'classifier.out_proj.weight']\n",
      "You should probably TRAIN this model on a down-stream task to be able to use it for predictions and inference.\n"
     ]
    }
   ],
   "source": [
    "# Load the base transformer model without the classification head\n",
    "base_model = AutoModelForSequenceClassification.from_pretrained(model_name, num_labels=2).base_model\n",
    "model = ProteinBindingModel(base_model, train_proteins.shape[1])"
   ]
  },
  {
   "cell_type": "code",
   "execution_count": 29,
   "id": "8c9427af",
   "metadata": {
    "execution": {
     "iopub.execute_input": "2024-05-07T05:51:04.569807Z",
     "iopub.status.busy": "2024-05-07T05:51:04.568990Z",
     "iopub.status.idle": "2024-05-07T05:51:04.675665Z",
     "shell.execute_reply": "2024-05-07T05:51:04.674794Z"
    },
    "papermill": {
     "duration": 0.125958,
     "end_time": "2024-05-07T05:51:04.677879",
     "exception": false,
     "start_time": "2024-05-07T05:51:04.551921",
     "status": "completed"
    },
    "tags": []
   },
   "outputs": [],
   "source": [
    "# Define training arguments\n",
    "training_args = TrainingArguments(\n",
    "    output_dir='/kaggle/working/',           # output directory\n",
    "    num_train_epochs=3,                      # number of training epochs\n",
    "    per_device_train_batch_size=16,          # batch size for training\n",
    "    per_device_eval_batch_size=64,           # batch size for evaluation\n",
    "    warmup_steps=500,                        # number of warmup steps for learning rate scheduler\n",
    "    weight_decay=0.01,                       # strength of weight decay\n",
    "    logging_dir='/kaggle/working/logs',      # directory for storing logs\n",
    "    logging_steps=1000,\n",
    "    report_to=\"none\",                        # suppress logging to WANDB\n",
    "    save_steps=10000,                        # save model every 10000 steps\n",
    "    evaluation_strategy='steps',             # evaluate each `eval_steps`\n",
    "    eval_steps=5000,                         # evaluation every 5000 steps\n",
    ")\n"
   ]
  },
  {
   "cell_type": "code",
   "execution_count": 30,
   "id": "7d996358",
   "metadata": {
    "execution": {
     "iopub.execute_input": "2024-05-07T05:51:04.711753Z",
     "iopub.status.busy": "2024-05-07T05:51:04.710858Z",
     "iopub.status.idle": "2024-05-07T05:51:05.216255Z",
     "shell.execute_reply": "2024-05-07T05:51:05.215318Z"
    },
    "papermill": {
     "duration": 0.524026,
     "end_time": "2024-05-07T05:51:05.218174",
     "exception": false,
     "start_time": "2024-05-07T05:51:04.694148",
     "status": "completed"
    },
    "tags": []
   },
   "outputs": [
    {
     "data": {
      "text/plain": [
       "46"
      ]
     },
     "execution_count": 30,
     "metadata": {},
     "output_type": "execute_result"
    }
   ],
   "source": [
    "\n",
    "gc.collect()"
   ]
  },
  {
   "cell_type": "code",
   "execution_count": 31,
   "id": "82dfca7c",
   "metadata": {
    "execution": {
     "iopub.execute_input": "2024-05-07T05:51:05.251923Z",
     "iopub.status.busy": "2024-05-07T05:51:05.251180Z",
     "iopub.status.idle": "2024-05-07T05:51:05.258612Z",
     "shell.execute_reply": "2024-05-07T05:51:05.257815Z"
    },
    "papermill": {
     "duration": 0.026152,
     "end_time": "2024-05-07T05:51:05.260404",
     "exception": false,
     "start_time": "2024-05-07T05:51:05.234252",
     "status": "completed"
    },
    "tags": []
   },
   "outputs": [],
   "source": [
    "class ProteinBindingTrainer(Trainer):\n",
    "    def _prepare_inputs(self, inputs):\n",
    "        # Instead of modifying inputs, just pass them through.\n",
    "        return inputs\n",
    "\n",
    "    def training_step(self, model, batch):\n",
    "        # Move batch to device\n",
    "        batch = {k: v.to(self.args.device) for k, v in batch.items() if hasattr(v, 'to')}\n",
    "\n",
    "        # Extract inputs from batch\n",
    "        input_ids = batch['input_ids']\n",
    "        attention_mask = batch['attention_mask']\n",
    "        labels = batch['labels']\n",
    "        protein_features = batch['protein_encodings']\n",
    "\n",
    "        # Forward pass\n",
    "        outputs = model(input_ids=input_ids, attention_mask=attention_mask, protein_features=protein_features)\n",
    "        logits = outputs.logits if hasattr(outputs, 'logits') else outputs[0]\n",
    "        \n",
    "        # Compute loss\n",
    "        loss = self.compute_loss(logits, labels)\n",
    "\n",
    "        return loss\n"
   ]
  },
  {
   "cell_type": "code",
   "execution_count": 32,
   "id": "33ae6a3c",
   "metadata": {
    "execution": {
     "iopub.execute_input": "2024-05-07T05:51:05.293223Z",
     "iopub.status.busy": "2024-05-07T05:51:05.292952Z",
     "iopub.status.idle": "2024-05-07T05:51:05.321037Z",
     "shell.execute_reply": "2024-05-07T05:51:05.320124Z"
    },
    "papermill": {
     "duration": 0.046665,
     "end_time": "2024-05-07T05:51:05.322972",
     "exception": false,
     "start_time": "2024-05-07T05:51:05.276307",
     "status": "completed"
    },
    "tags": []
   },
   "outputs": [
    {
     "name": "stdout",
     "output_type": "stream",
     "text": [
      "dict_keys(['input_ids', 'attention_mask', 'labels', 'protein_encodings'])\n"
     ]
    }
   ],
   "source": [
    "test_loader = torch.utils.data.DataLoader(train_dataset, batch_size=10, shuffle=True)\n",
    "test_batch = next(iter(test_loader))\n",
    "print(test_batch.keys())  # This should include 'labels' and 'protein_encodings'\n"
   ]
  },
  {
   "cell_type": "code",
   "execution_count": 33,
   "id": "284ff340",
   "metadata": {
    "execution": {
     "iopub.execute_input": "2024-05-07T05:51:05.357232Z",
     "iopub.status.busy": "2024-05-07T05:51:05.356962Z",
     "iopub.status.idle": "2024-05-07T05:51:05.361019Z",
     "shell.execute_reply": "2024-05-07T05:51:05.360165Z"
    },
    "papermill": {
     "duration": 0.022473,
     "end_time": "2024-05-07T05:51:05.362831",
     "exception": false,
     "start_time": "2024-05-07T05:51:05.340358",
     "status": "completed"
    },
    "tags": []
   },
   "outputs": [],
   "source": [
    "# # Ensure the model is on the correct device\n",
    "# model.to(device)\n",
    "\n",
    "#THIS TRAINER IS NOT WORKING... SOMEHOW THE FUNCTION IS NOT GETTNG THE KEYS PROPERLY\n",
    "\n",
    "# # Initialize the trainer with all settings\n",
    "# trainer = ProteinBindingTrainer(\n",
    "#     model=model,\n",
    "#     args=training_args,\n",
    "#     train_dataset=train_dataset,  # Ensure this is your dataset, not DataLoader\n",
    "#     eval_dataset=eval_dataset     # Ensure this is your dataset, not DataLoader\n",
    "# )\n",
    "\n",
    "# # Start training\n",
    "# trainer.train()\n",
    "\n"
   ]
  },
  {
   "cell_type": "code",
   "execution_count": 34,
   "id": "2dafb181",
   "metadata": {
    "execution": {
     "iopub.execute_input": "2024-05-07T05:51:05.395726Z",
     "iopub.status.busy": "2024-05-07T05:51:05.395424Z",
     "iopub.status.idle": "2024-05-07T05:51:05.400201Z",
     "shell.execute_reply": "2024-05-07T05:51:05.399349Z"
    },
    "papermill": {
     "duration": 0.023799,
     "end_time": "2024-05-07T05:51:05.402338",
     "exception": false,
     "start_time": "2024-05-07T05:51:05.378539",
     "status": "completed"
    },
    "tags": []
   },
   "outputs": [
    {
     "name": "stdout",
     "output_type": "stream",
     "text": [
      "Using device: cuda\n"
     ]
    }
   ],
   "source": [
    "# Set the device to GPU if available, otherwise use CPU\n",
    "device = torch.device(\"cuda\" if torch.cuda.is_available() else \"cpu\")\n",
    "print(\"Using device:\", device)\n",
    "\n"
   ]
  },
  {
   "cell_type": "code",
   "execution_count": 35,
   "id": "4d8fc93f",
   "metadata": {
    "execution": {
     "iopub.execute_input": "2024-05-07T05:51:05.435365Z",
     "iopub.status.busy": "2024-05-07T05:51:05.435112Z",
     "iopub.status.idle": "2024-05-07T05:51:05.573395Z",
     "shell.execute_reply": "2024-05-07T05:51:05.572554Z"
    },
    "papermill": {
     "duration": 0.15734,
     "end_time": "2024-05-07T05:51:05.575731",
     "exception": false,
     "start_time": "2024-05-07T05:51:05.418391",
     "status": "completed"
    },
    "tags": []
   },
   "outputs": [],
   "source": [
    "import torch\n",
    "\n",
    "# Real-world frequencies\n",
    "real_world_freq_0 = 0.9946  # 99.46% are class 0\n",
    "real_world_freq_1 = 0.0054  # 0.54% are class 1\n",
    "\n",
    "# Calculate class weights\n",
    "weights = torch.tensor([1 / real_world_freq_0, 1 / real_world_freq_1], dtype=torch.float32)\n",
    "weights = weights / weights.sum() * 2  # Normalize so that weights sum to the number of classes (2 for binary classification)\n",
    "weights = weights.to(device)  # Move weights to the correct device\n",
    "\n",
    "# Initialize the loss function with these weights\n",
    "criterion = torch.nn.CrossEntropyLoss(weight=weights)\n"
   ]
  },
  {
   "cell_type": "code",
   "execution_count": 36,
   "id": "bda8f0c0",
   "metadata": {
    "execution": {
     "iopub.execute_input": "2024-05-07T05:51:05.609766Z",
     "iopub.status.busy": "2024-05-07T05:51:05.609432Z",
     "iopub.status.idle": "2024-05-07T06:08:22.035766Z",
     "shell.execute_reply": "2024-05-07T06:08:22.034811Z"
    },
    "papermill": {
     "duration": 1036.467572,
     "end_time": "2024-05-07T06:08:22.059610",
     "exception": false,
     "start_time": "2024-05-07T05:51:05.592038",
     "status": "completed"
    },
    "tags": []
   },
   "outputs": [
    {
     "name": "stdout",
     "output_type": "stream",
     "text": [
      "Data Loaders Defined\n",
      "Epoch 0, Batch 100, Loss: 0.02321484312415123\n",
      "Epoch 0, Batch 200, Loss: 0.012172527611255646\n",
      "Epoch 0, Batch 300, Loss: 0.03947877138853073\n",
      "Epoch 0, Batch 400, Loss: 0.025498859584331512\n",
      "Epoch 0, Batch 500, Loss: 0.011284422129392624\n",
      "Epoch 0, Batch 600, Loss: 0.017065968364477158\n",
      "Epoch 0, Batch 700, Loss: 0.028466016054153442\n",
      "Epoch 0, Batch 800, Loss: 0.02374793402850628\n",
      "Epoch 0, Batch 900, Loss: 0.044309280812740326\n",
      "Epoch 0, Batch 1000, Loss: 0.034686729311943054\n",
      "Epoch 0, Batch 1100, Loss: 0.037330444902181625\n",
      "Epoch 0, Batch 1200, Loss: 0.048196956515312195\n",
      "Epoch 0, Batch 1300, Loss: 0.019628196954727173\n",
      "Epoch 0, Batch 1400, Loss: 0.04338216781616211\n",
      "Epoch 0, Batch 1500, Loss: 0.017107727006077766\n",
      "Epoch 0, Batch 1600, Loss: 0.030472632497549057\n",
      "Epoch 0, Batch 1700, Loss: 0.028407033532857895\n",
      "Epoch 0, Batch 1800, Loss: 0.01288165058940649\n",
      "Epoch 0, Batch 1900, Loss: 0.03913148492574692\n",
      "Epoch 0, Batch 2000, Loss: 0.013516925275325775\n",
      "Epoch 0, Batch 2100, Loss: 0.010259515605866909\n",
      "Epoch 0, Batch 2200, Loss: 0.027514899149537086\n",
      "Epoch 0, Batch 2300, Loss: 0.03695695847272873\n",
      "Epoch 0, Batch 2400, Loss: 0.021398447453975677\n",
      "Epoch 0, Batch 2500, Loss: 0.02185632847249508\n",
      "Epoch 0, Batch 2600, Loss: 0.03284650668501854\n",
      "Validation Loss: 3.8313570396983625\n",
      "Epoch 1, Batch 100, Loss: 0.01915372721850872\n",
      "Epoch 1, Batch 200, Loss: 0.0328623428940773\n",
      "Epoch 1, Batch 300, Loss: 0.03143932670354843\n",
      "Epoch 1, Batch 400, Loss: 0.05042058601975441\n",
      "Epoch 1, Batch 500, Loss: 0.021609477698802948\n",
      "Epoch 1, Batch 600, Loss: 0.010005798190832138\n",
      "Epoch 1, Batch 700, Loss: 0.030051926150918007\n",
      "Epoch 1, Batch 800, Loss: 0.02863244339823723\n",
      "Epoch 1, Batch 900, Loss: 0.009905315935611725\n",
      "Epoch 1, Batch 1000, Loss: 0.02905155159533024\n",
      "Epoch 1, Batch 1100, Loss: 0.013847227208316326\n",
      "Epoch 1, Batch 1200, Loss: 0.01968156360089779\n",
      "Epoch 1, Batch 1300, Loss: 0.0380881242454052\n",
      "Epoch 1, Batch 1400, Loss: 0.0741545781493187\n",
      "Epoch 1, Batch 1500, Loss: 0.020994102582335472\n",
      "Epoch 1, Batch 1600, Loss: 0.01672135293483734\n",
      "Epoch 1, Batch 1700, Loss: 0.03419896960258484\n",
      "Epoch 1, Batch 1800, Loss: 0.025941746309399605\n",
      "Epoch 1, Batch 1900, Loss: 0.014817297458648682\n",
      "Epoch 1, Batch 2000, Loss: 0.012030708603560925\n",
      "Epoch 1, Batch 2100, Loss: 0.012068372219800949\n",
      "Epoch 1, Batch 2200, Loss: 0.0214548259973526\n",
      "Epoch 1, Batch 2300, Loss: 0.02138146199285984\n",
      "Epoch 1, Batch 2400, Loss: 0.006657698657363653\n",
      "Epoch 1, Batch 2500, Loss: 0.044984396547079086\n",
      "Epoch 1, Batch 2600, Loss: 0.0319642536342144\n",
      "Validation Loss: 3.3325543427693844\n",
      "Epoch 2, Batch 100, Loss: 0.01604955457150936\n",
      "Epoch 2, Batch 200, Loss: 0.004374457057565451\n",
      "Epoch 2, Batch 300, Loss: 0.012116475962102413\n",
      "Epoch 2, Batch 400, Loss: 0.03720473498106003\n",
      "Epoch 2, Batch 500, Loss: 0.010289529338479042\n",
      "Epoch 2, Batch 600, Loss: 0.013498281128704548\n",
      "Epoch 2, Batch 700, Loss: 0.02338295243680477\n",
      "Epoch 2, Batch 800, Loss: 0.015454978682100773\n",
      "Epoch 2, Batch 900, Loss: 0.016014914959669113\n",
      "Epoch 2, Batch 1000, Loss: 0.013762774877250195\n",
      "Epoch 2, Batch 1100, Loss: 0.014145412482321262\n",
      "Epoch 2, Batch 1200, Loss: 0.01244642585515976\n",
      "Epoch 2, Batch 1300, Loss: 0.07082346826791763\n",
      "Epoch 2, Batch 1400, Loss: 0.005026110913604498\n",
      "Epoch 2, Batch 1500, Loss: 0.012337712571024895\n",
      "Epoch 2, Batch 1600, Loss: 0.013836336322128773\n",
      "Epoch 2, Batch 1700, Loss: 0.04018653184175491\n",
      "Epoch 2, Batch 1800, Loss: 0.020832642912864685\n",
      "Epoch 2, Batch 1900, Loss: 0.049588579684495926\n",
      "Epoch 2, Batch 2000, Loss: 0.01221331674605608\n",
      "Epoch 2, Batch 2100, Loss: 0.009848824702203274\n",
      "Epoch 2, Batch 2200, Loss: 0.012486894614994526\n",
      "Epoch 2, Batch 2300, Loss: 0.01879112608730793\n",
      "Epoch 2, Batch 2400, Loss: 0.01980999857187271\n",
      "Epoch 2, Batch 2500, Loss: 0.03985407575964928\n",
      "Epoch 2, Batch 2600, Loss: 0.03500329703092575\n",
      "Validation Loss: 2.777161121350527\n"
     ]
    }
   ],
   "source": [
    "from torch.optim import Adam\n",
    "from torch.utils.data import DataLoader\n",
    "\n",
    "# Assuming the model is already defined and moved to the correct device\n",
    "model = model.to(device)  # Ensure model is on the correct device\n",
    "optimizer = Adam(model.parameters(), lr=5e-5)  # Define optimizer\n",
    "\n",
    "# Define DataLoader for both training and validation datasets\n",
    "train_loader = DataLoader(train_dataset, batch_size=16, shuffle=True)\n",
    "eval_loader = DataLoader(eval_dataset, batch_size=16)\n",
    "\n",
    "print('Data Loaders Defined')\n",
    "\n",
    "# Training loop\n",
    "num_epochs = 3  # Define the number of epochs\n",
    "for epoch in range(num_epochs):\n",
    "    model.train()\n",
    "    for i, batch in enumerate(train_loader):\n",
    "        batch = {k: v.to(device) for k, v in batch.items()}  # Move batch data to the correct device\n",
    "\n",
    "        # Forward pass\n",
    "        outputs = model(input_ids=batch['input_ids'],\n",
    "                        attention_mask=batch['attention_mask'],\n",
    "                        protein_features=batch['protein_encodings'])\n",
    "\n",
    "        # Compute loss using the criterion with class weights\n",
    "        loss = criterion(outputs, batch['labels'])\n",
    "\n",
    "        # Backward pass and optimize\n",
    "        optimizer.zero_grad()\n",
    "        loss.backward()\n",
    "        optimizer.step()\n",
    "\n",
    "        # Print loss every 100 batches\n",
    "        if (i + 1) % 100 == 0:\n",
    "            print(f\"Epoch {epoch}, Batch {i + 1}, Loss: {loss.item()}\")\n",
    "\n",
    "    # Validation loop\n",
    "    model.eval()\n",
    "    total_loss = 0\n",
    "    for batch in eval_loader:\n",
    "        batch = {k: v.to(device) for k, v in batch.items()}\n",
    "        outputs = model(input_ids=batch['input_ids'],\n",
    "                        attention_mask=batch['attention_mask'],\n",
    "                        protein_features=batch['protein_encodings'])\n",
    "        loss = criterion(outputs, batch['labels'])\n",
    "        total_loss += loss.item()\n",
    "\n",
    "    avg_loss = total_loss / len(eval_loader)\n",
    "    print(f\"Validation Loss: {avg_loss}\")\n"
   ]
  },
  {
   "cell_type": "code",
   "execution_count": 37,
   "id": "42494e44",
   "metadata": {
    "execution": {
     "iopub.execute_input": "2024-05-07T06:08:22.105554Z",
     "iopub.status.busy": "2024-05-07T06:08:22.105232Z",
     "iopub.status.idle": "2024-05-07T06:08:22.110745Z",
     "shell.execute_reply": "2024-05-07T06:08:22.109890Z"
    },
    "papermill": {
     "duration": 0.03083,
     "end_time": "2024-05-07T06:08:22.112656",
     "exception": false,
     "start_time": "2024-05-07T06:08:22.081826",
     "status": "completed"
    },
    "tags": []
   },
   "outputs": [],
   "source": [
    "\n",
    "# from torch.utils.data import DataLoader\n",
    "# from torch.optim import Adam\n",
    "# import torch.nn.functional as F\n",
    "\n",
    "# # Assuming the model, dataset, and device setup\n",
    "# model = model.to(device)  # Ensure model is on the correct device\n",
    "# optimizer = Adam(model.parameters(), lr=5e-5)  # Define optimizer\n",
    "\n",
    "# # Define DataLoader for both training and validation datasets\n",
    "# train_loader = DataLoader(train_dataset, batch_size=16, shuffle=True)\n",
    "# eval_loader = DataLoader(eval_dataset, batch_size=16)\n",
    "\n",
    "# # Training loop\n",
    "# num_epochs = 3  # Define the number of epochs\n",
    "# for epoch in range(num_epochs):\n",
    "#     model.train()\n",
    "#     for i, batch in enumerate(train_loader):\n",
    "#         # Ensure all data in the batch is moved to the correct device\n",
    "#         batch = {k: v.to(device) for k, v in batch.items()}\n",
    "\n",
    "#         # Forward pass\n",
    "#         outputs = model(input_ids=batch['input_ids'],\n",
    "#                         attention_mask=batch['attention_mask'],\n",
    "#                         protein_features=batch['protein_encodings'])\n",
    "        \n",
    "#         # Compute loss\n",
    "#         loss = F.cross_entropy(outputs, batch['labels'])  # Assuming your model outputs raw logits\n",
    "\n",
    "#         # Backward pass\n",
    "#         optimizer.zero_grad()\n",
    "#         loss.backward()\n",
    "#         optimizer.step()\n",
    "\n",
    "#         # Print loss every 50 batches\n",
    "#         if (i + 1) % 50 == 0:\n",
    "#             print(f\"Epoch {epoch}, Batch {i + 1}, Loss: {loss.item()}\")  # Output the loss\n",
    "\n",
    "#     # Validation loop (optional, for model evaluation during training)\n",
    "#     model.eval()\n",
    "#     with torch.no_grad():\n",
    "#         for batch in eval_loader:\n",
    "#             batch = {k: v.to(device) for k, v in batch.items()}\n",
    "#             outputs = model(input_ids=batch['input_ids'],\n",
    "#                             attention_mask=batch['attention_mask'],\n",
    "#                             protein_features=batch['protein_encodings'])\n",
    "#             loss = F.cross_entropy(outputs, batch['labels'])\n",
    "#             # Add additional code to track validation loss, accuracy, etc.\n"
   ]
  },
  {
   "cell_type": "code",
   "execution_count": 38,
   "id": "7f5f20cf",
   "metadata": {
    "execution": {
     "iopub.execute_input": "2024-05-07T06:08:22.158031Z",
     "iopub.status.busy": "2024-05-07T06:08:22.157617Z",
     "iopub.status.idle": "2024-05-07T06:08:22.749356Z",
     "shell.execute_reply": "2024-05-07T06:08:22.748470Z"
    },
    "papermill": {
     "duration": 0.616858,
     "end_time": "2024-05-07T06:08:22.751706",
     "exception": false,
     "start_time": "2024-05-07T06:08:22.134848",
     "status": "completed"
    },
    "tags": []
   },
   "outputs": [],
   "source": [
    "# Save only the state dict\n",
    "torch.save(model.state_dict(), 'model_state_dict.pth')\n"
   ]
  },
  {
   "cell_type": "code",
   "execution_count": 39,
   "id": "7cc4145a",
   "metadata": {
    "execution": {
     "iopub.execute_input": "2024-05-07T06:08:22.797658Z",
     "iopub.status.busy": "2024-05-07T06:08:22.797343Z",
     "iopub.status.idle": "2024-05-07T06:08:23.386691Z",
     "shell.execute_reply": "2024-05-07T06:08:23.385796Z"
    },
    "papermill": {
     "duration": 0.614581,
     "end_time": "2024-05-07T06:08:23.388921",
     "exception": false,
     "start_time": "2024-05-07T06:08:22.774340",
     "status": "completed"
    },
    "tags": []
   },
   "outputs": [],
   "source": [
    "\n",
    "# Save the entire model\n",
    "torch.save(model, 'entire_model.pth')"
   ]
  },
  {
   "cell_type": "code",
   "execution_count": null,
   "id": "68afb99f",
   "metadata": {
    "execution": {
     "iopub.execute_input": "2024-05-05T18:59:35.122901Z",
     "iopub.status.busy": "2024-05-05T18:59:35.122561Z",
     "iopub.status.idle": "2024-05-05T18:59:35.257471Z",
     "shell.execute_reply": "2024-05-05T18:59:35.256563Z",
     "shell.execute_reply.started": "2024-05-05T18:59:35.122877Z"
    },
    "papermill": {
     "duration": 0.021741,
     "end_time": "2024-05-07T06:08:23.433455",
     "exception": false,
     "start_time": "2024-05-07T06:08:23.411714",
     "status": "completed"
    },
    "tags": []
   },
   "outputs": [],
   "source": [
    "\n"
   ]
  },
  {
   "cell_type": "code",
   "execution_count": null,
   "id": "79835fc2",
   "metadata": {
    "execution": {
     "iopub.execute_input": "2024-05-05T19:01:24.693101Z",
     "iopub.status.busy": "2024-05-05T19:01:24.692167Z",
     "iopub.status.idle": "2024-05-05T19:01:24.700407Z",
     "shell.execute_reply": "2024-05-05T19:01:24.699470Z",
     "shell.execute_reply.started": "2024-05-05T19:01:24.693069Z"
    },
    "papermill": {
     "duration": 0.021679,
     "end_time": "2024-05-07T06:08:23.476906",
     "exception": false,
     "start_time": "2024-05-07T06:08:23.455227",
     "status": "completed"
    },
    "tags": []
   },
   "outputs": [],
   "source": []
  },
  {
   "cell_type": "markdown",
   "id": "4b663e3c",
   "metadata": {
    "papermill": {
     "duration": 0.021787,
     "end_time": "2024-05-07T06:08:23.521169",
     "exception": false,
     "start_time": "2024-05-07T06:08:23.499382",
     "status": "completed"
    },
    "tags": []
   },
   "source": [
    "## Testing"
   ]
  },
  {
   "cell_type": "markdown",
   "id": "8d0788a9",
   "metadata": {
    "papermill": {
     "duration": 0.022948,
     "end_time": "2024-05-07T06:08:23.566137",
     "exception": false,
     "start_time": "2024-05-07T06:08:23.543189",
     "status": "completed"
    },
    "tags": []
   },
   "source": [
    "LOading and testing data"
   ]
  },
  {
   "cell_type": "code",
   "execution_count": 40,
   "id": "e27ea8e2",
   "metadata": {
    "execution": {
     "iopub.execute_input": "2024-05-07T06:08:23.612465Z",
     "iopub.status.busy": "2024-05-07T06:08:23.612108Z",
     "iopub.status.idle": "2024-05-07T06:08:23.616101Z",
     "shell.execute_reply": "2024-05-07T06:08:23.615264Z"
    },
    "papermill": {
     "duration": 0.029253,
     "end_time": "2024-05-07T06:08:23.618150",
     "exception": false,
     "start_time": "2024-05-07T06:08:23.588897",
     "status": "completed"
    },
    "tags": []
   },
   "outputs": [],
   "source": [
    "# df_test = pd.read_csv('/kaggle/input/leash-BELKA/test.csv')"
   ]
  },
  {
   "cell_type": "code",
   "execution_count": 41,
   "id": "de31ec7b",
   "metadata": {
    "execution": {
     "iopub.execute_input": "2024-05-07T06:08:23.663646Z",
     "iopub.status.busy": "2024-05-07T06:08:23.663376Z",
     "iopub.status.idle": "2024-05-07T06:08:23.667315Z",
     "shell.execute_reply": "2024-05-07T06:08:23.666646Z"
    },
    "papermill": {
     "duration": 0.028799,
     "end_time": "2024-05-07T06:08:23.669140",
     "exception": false,
     "start_time": "2024-05-07T06:08:23.640341",
     "status": "completed"
    },
    "tags": []
   },
   "outputs": [],
   "source": [
    "# len(df_test)"
   ]
  },
  {
   "cell_type": "code",
   "execution_count": 42,
   "id": "3af90dbd",
   "metadata": {
    "execution": {
     "iopub.execute_input": "2024-05-07T06:08:23.714496Z",
     "iopub.status.busy": "2024-05-07T06:08:23.714228Z",
     "iopub.status.idle": "2024-05-07T06:08:23.717970Z",
     "shell.execute_reply": "2024-05-07T06:08:23.717131Z"
    },
    "papermill": {
     "duration": 0.028575,
     "end_time": "2024-05-07T06:08:23.719782",
     "exception": false,
     "start_time": "2024-05-07T06:08:23.691207",
     "status": "completed"
    },
    "tags": []
   },
   "outputs": [],
   "source": [
    "# # Assuming df_test is your test DataFrame with similar columns as df_train except 'binds'\n",
    "# test_encodings = tokenizer(df_test['molecule_smiles'].tolist(), truncation=True, padding=True, max_length=512)\n"
   ]
  },
  {
   "cell_type": "code",
   "execution_count": 43,
   "id": "3e962480",
   "metadata": {
    "execution": {
     "iopub.execute_input": "2024-05-07T06:08:23.765520Z",
     "iopub.status.busy": "2024-05-07T06:08:23.765259Z",
     "iopub.status.idle": "2024-05-07T06:08:23.768842Z",
     "shell.execute_reply": "2024-05-07T06:08:23.768036Z"
    },
    "papermill": {
     "duration": 0.028755,
     "end_time": "2024-05-07T06:08:23.770680",
     "exception": false,
     "start_time": "2024-05-07T06:08:23.741925",
     "status": "completed"
    },
    "tags": []
   },
   "outputs": [],
   "source": [
    "# test_dataset = SMILESTestDataset(test_encodings)"
   ]
  },
  {
   "cell_type": "code",
   "execution_count": 44,
   "id": "9d488759",
   "metadata": {
    "execution": {
     "iopub.execute_input": "2024-05-07T06:08:23.816182Z",
     "iopub.status.busy": "2024-05-07T06:08:23.815920Z",
     "iopub.status.idle": "2024-05-07T06:08:23.819685Z",
     "shell.execute_reply": "2024-05-07T06:08:23.818848Z"
    },
    "papermill": {
     "duration": 0.028698,
     "end_time": "2024-05-07T06:08:23.821517",
     "exception": false,
     "start_time": "2024-05-07T06:08:23.792819",
     "status": "completed"
    },
    "tags": []
   },
   "outputs": [],
   "source": [
    "# # Predict\n",
    "# predictions = trainer.predict(test_dataset)\n",
    "\n",
    "# # The predictions object includes a predictions array, label_ids array (if available), and metrics (if labels provided during prediction)\n",
    "# pred_labels = predictions.predictions.argmax(-1)  # We use argmax to convert from logits to class labels\n"
   ]
  },
  {
   "cell_type": "code",
   "execution_count": 45,
   "id": "3c47ae7f",
   "metadata": {
    "execution": {
     "iopub.execute_input": "2024-05-07T06:08:23.867386Z",
     "iopub.status.busy": "2024-05-07T06:08:23.866838Z",
     "iopub.status.idle": "2024-05-07T06:08:23.870339Z",
     "shell.execute_reply": "2024-05-07T06:08:23.869527Z"
    },
    "papermill": {
     "duration": 0.02841,
     "end_time": "2024-05-07T06:08:23.872212",
     "exception": false,
     "start_time": "2024-05-07T06:08:23.843802",
     "status": "completed"
    },
    "tags": []
   },
   "outputs": [],
   "source": [
    "# df_test['predicted_binds'] = pred_labels"
   ]
  },
  {
   "cell_type": "code",
   "execution_count": 46,
   "id": "4f7bdb8b",
   "metadata": {
    "execution": {
     "iopub.execute_input": "2024-05-07T06:08:23.918538Z",
     "iopub.status.busy": "2024-05-07T06:08:23.918296Z",
     "iopub.status.idle": "2024-05-07T06:08:23.921856Z",
     "shell.execute_reply": "2024-05-07T06:08:23.921000Z"
    },
    "papermill": {
     "duration": 0.028668,
     "end_time": "2024-05-07T06:08:23.923778",
     "exception": false,
     "start_time": "2024-05-07T06:08:23.895110",
     "status": "completed"
    },
    "tags": []
   },
   "outputs": [],
   "source": [
    "# # Saving the DataFrame with predictions to a new CSV file\n",
    "# df_test.to_csv('test_predictions.csv', index=False)"
   ]
  },
  {
   "cell_type": "code",
   "execution_count": null,
   "id": "0ef78244",
   "metadata": {
    "papermill": {
     "duration": 0.021971,
     "end_time": "2024-05-07T06:08:23.968853",
     "exception": false,
     "start_time": "2024-05-07T06:08:23.946882",
     "status": "completed"
    },
    "tags": []
   },
   "outputs": [],
   "source": []
  }
 ],
 "metadata": {
  "kaggle": {
   "accelerator": "gpu",
   "dataSources": [
    {
     "databundleVersionId": 8006601,
     "sourceId": 67356,
     "sourceType": "competition"
    }
   ],
   "dockerImageVersionId": 30698,
   "isGpuEnabled": true,
   "isInternetEnabled": true,
   "language": "python",
   "sourceType": "notebook"
  },
  "kernelspec": {
   "display_name": "Python 3",
   "language": "python",
   "name": "python3"
  },
  "language_info": {
   "codemirror_mode": {
    "name": "ipython",
    "version": 3
   },
   "file_extension": ".py",
   "mimetype": "text/x-python",
   "name": "python",
   "nbconvert_exporter": "python",
   "pygments_lexer": "ipython3",
   "version": "3.10.13"
  },
  "papermill": {
   "default_parameters": {},
   "duration": 1148.080632,
   "end_time": "2024-05-07T06:08:26.713020",
   "environment_variables": {},
   "exception": null,
   "input_path": "__notebook__.ipynb",
   "output_path": "__notebook__.ipynb",
   "parameters": {},
   "start_time": "2024-05-07T05:49:18.632388",
   "version": "2.5.0"
  },
  "widgets": {
   "application/vnd.jupyter.widget-state+json": {
    "state": {
     "0730a8a307394a59a17e31e45e90d7f4": {
      "model_module": "@jupyter-widgets/controls",
      "model_module_version": "1.5.0",
      "model_name": "DescriptionStyleModel",
      "state": {
       "_model_module": "@jupyter-widgets/controls",
       "_model_module_version": "1.5.0",
       "_model_name": "DescriptionStyleModel",
       "_view_count": null,
       "_view_module": "@jupyter-widgets/base",
       "_view_module_version": "1.2.0",
       "_view_name": "StyleView",
       "description_width": ""
      }
     },
     "091e550682fc4dd99e15a32d4ca2198b": {
      "model_module": "@jupyter-widgets/controls",
      "model_module_version": "1.5.0",
      "model_name": "DescriptionStyleModel",
      "state": {
       "_model_module": "@jupyter-widgets/controls",
       "_model_module_version": "1.5.0",
       "_model_name": "DescriptionStyleModel",
       "_view_count": null,
       "_view_module": "@jupyter-widgets/base",
       "_view_module_version": "1.2.0",
       "_view_name": "StyleView",
       "description_width": ""
      }
     },
     "0ab9c4e70e744225a911e165e0d83640": {
      "model_module": "@jupyter-widgets/controls",
      "model_module_version": "1.5.0",
      "model_name": "HBoxModel",
      "state": {
       "_dom_classes": [],
       "_model_module": "@jupyter-widgets/controls",
       "_model_module_version": "1.5.0",
       "_model_name": "HBoxModel",
       "_view_count": null,
       "_view_module": "@jupyter-widgets/controls",
       "_view_module_version": "1.5.0",
       "_view_name": "HBoxView",
       "box_style": "",
       "children": [
        "IPY_MODEL_cc0233bab52e4a9c943ac03cda7c0417",
        "IPY_MODEL_a321828673f140b4ac203b3649d633c6",
        "IPY_MODEL_827aa300dfe44d3bb5da6f53e8c33f8b"
       ],
       "layout": "IPY_MODEL_b486114bfb8e41ef8013d6f80ae3e10e"
      }
     },
     "0c3a3d1c6f1c43538433751b002480be": {
      "model_module": "@jupyter-widgets/controls",
      "model_module_version": "1.5.0",
      "model_name": "HTMLModel",
      "state": {
       "_dom_classes": [],
       "_model_module": "@jupyter-widgets/controls",
       "_model_module_version": "1.5.0",
       "_model_name": "HTMLModel",
       "_view_count": null,
       "_view_module": "@jupyter-widgets/controls",
       "_view_module_version": "1.5.0",
       "_view_name": "HTMLView",
       "description": "",
       "description_tooltip": null,
       "layout": "IPY_MODEL_321d8bb63d284270a6f5d7616eff5def",
       "placeholder": "​",
       "style": "IPY_MODEL_845f6fe8ce404ec29ce9fe3361638d36",
       "value": "special_tokens_map.json: 100%"
      }
     },
     "0c86def3345c4b059cc3f61e87ef80bf": {
      "model_module": "@jupyter-widgets/controls",
      "model_module_version": "1.5.0",
      "model_name": "FloatProgressModel",
      "state": {
       "_dom_classes": [],
       "_model_module": "@jupyter-widgets/controls",
       "_model_module_version": "1.5.0",
       "_model_name": "FloatProgressModel",
       "_view_count": null,
       "_view_module": "@jupyter-widgets/controls",
       "_view_module_version": "1.5.0",
       "_view_name": "ProgressView",
       "bar_style": "success",
       "description": "",
       "description_tooltip": null,
       "layout": "IPY_MODEL_9bab9f70906d4f63a1c624ff347de1e4",
       "max": 101307.0,
       "min": 0.0,
       "orientation": "horizontal",
       "style": "IPY_MODEL_c7705442b00d4b439dcbb42c22b99614",
       "value": 101307.0
      }
     },
     "1226dc71fc05401dbb0feeb90d9235d4": {
      "model_module": "@jupyter-widgets/base",
      "model_module_version": "1.2.0",
      "model_name": "LayoutModel",
      "state": {
       "_model_module": "@jupyter-widgets/base",
       "_model_module_version": "1.2.0",
       "_model_name": "LayoutModel",
       "_view_count": null,
       "_view_module": "@jupyter-widgets/base",
       "_view_module_version": "1.2.0",
       "_view_name": "LayoutView",
       "align_content": null,
       "align_items": null,
       "align_self": null,
       "border": null,
       "bottom": null,
       "display": null,
       "flex": null,
       "flex_flow": null,
       "grid_area": null,
       "grid_auto_columns": null,
       "grid_auto_flow": null,
       "grid_auto_rows": null,
       "grid_column": null,
       "grid_gap": null,
       "grid_row": null,
       "grid_template_areas": null,
       "grid_template_columns": null,
       "grid_template_rows": null,
       "height": null,
       "justify_content": null,
       "justify_items": null,
       "left": null,
       "margin": null,
       "max_height": null,
       "max_width": null,
       "min_height": null,
       "min_width": null,
       "object_fit": null,
       "object_position": null,
       "order": null,
       "overflow": null,
       "overflow_x": null,
       "overflow_y": null,
       "padding": null,
       "right": null,
       "top": null,
       "visibility": null,
       "width": null
      }
     },
     "226e679447e44ec096a2b6a0b04a1162": {
      "model_module": "@jupyter-widgets/controls",
      "model_module_version": "1.5.0",
      "model_name": "DescriptionStyleModel",
      "state": {
       "_model_module": "@jupyter-widgets/controls",
       "_model_module_version": "1.5.0",
       "_model_name": "DescriptionStyleModel",
       "_view_count": null,
       "_view_module": "@jupyter-widgets/base",
       "_view_module_version": "1.2.0",
       "_view_name": "StyleView",
       "description_width": ""
      }
     },
     "274417fa992242c38b3fe287a225ac68": {
      "model_module": "@jupyter-widgets/controls",
      "model_module_version": "1.5.0",
      "model_name": "ProgressStyleModel",
      "state": {
       "_model_module": "@jupyter-widgets/controls",
       "_model_module_version": "1.5.0",
       "_model_name": "ProgressStyleModel",
       "_view_count": null,
       "_view_module": "@jupyter-widgets/base",
       "_view_module_version": "1.2.0",
       "_view_name": "StyleView",
       "bar_color": null,
       "description_width": ""
      }
     },
     "2a4d5e20459a4ba6b64808143b98d40d": {
      "model_module": "@jupyter-widgets/controls",
      "model_module_version": "1.5.0",
      "model_name": "DescriptionStyleModel",
      "state": {
       "_model_module": "@jupyter-widgets/controls",
       "_model_module_version": "1.5.0",
       "_model_name": "DescriptionStyleModel",
       "_view_count": null,
       "_view_module": "@jupyter-widgets/base",
       "_view_module_version": "1.2.0",
       "_view_name": "StyleView",
       "description_width": ""
      }
     },
     "2c7a63599e684aaf9e8d94cb6f5c5058": {
      "model_module": "@jupyter-widgets/base",
      "model_module_version": "1.2.0",
      "model_name": "LayoutModel",
      "state": {
       "_model_module": "@jupyter-widgets/base",
       "_model_module_version": "1.2.0",
       "_model_name": "LayoutModel",
       "_view_count": null,
       "_view_module": "@jupyter-widgets/base",
       "_view_module_version": "1.2.0",
       "_view_name": "LayoutView",
       "align_content": null,
       "align_items": null,
       "align_self": null,
       "border": null,
       "bottom": null,
       "display": null,
       "flex": null,
       "flex_flow": null,
       "grid_area": null,
       "grid_auto_columns": null,
       "grid_auto_flow": null,
       "grid_auto_rows": null,
       "grid_column": null,
       "grid_gap": null,
       "grid_row": null,
       "grid_template_areas": null,
       "grid_template_columns": null,
       "grid_template_rows": null,
       "height": null,
       "justify_content": null,
       "justify_items": null,
       "left": null,
       "margin": null,
       "max_height": null,
       "max_width": null,
       "min_height": null,
       "min_width": null,
       "object_fit": null,
       "object_position": null,
       "order": null,
       "overflow": null,
       "overflow_x": null,
       "overflow_y": null,
       "padding": null,
       "right": null,
       "top": null,
       "visibility": null,
       "width": null
      }
     },
     "2defc737823a4bfdbd04bf84a95f54c2": {
      "model_module": "@jupyter-widgets/controls",
      "model_module_version": "1.5.0",
      "model_name": "HBoxModel",
      "state": {
       "_dom_classes": [],
       "_model_module": "@jupyter-widgets/controls",
       "_model_module_version": "1.5.0",
       "_model_name": "HBoxModel",
       "_view_count": null,
       "_view_module": "@jupyter-widgets/controls",
       "_view_module_version": "1.5.0",
       "_view_name": "HBoxView",
       "box_style": "",
       "children": [
        "IPY_MODEL_0c3a3d1c6f1c43538433751b002480be",
        "IPY_MODEL_f3c9a96aab014608aa4468bada1bd149",
        "IPY_MODEL_41e921b9b2484699937d4bba2a1cf2ce"
       ],
       "layout": "IPY_MODEL_e9f1db814af44a0ab7292811ef641e71"
      }
     },
     "30792d4e3b82494ba9611e2ca50eb7b8": {
      "model_module": "@jupyter-widgets/base",
      "model_module_version": "1.2.0",
      "model_name": "LayoutModel",
      "state": {
       "_model_module": "@jupyter-widgets/base",
       "_model_module_version": "1.2.0",
       "_model_name": "LayoutModel",
       "_view_count": null,
       "_view_module": "@jupyter-widgets/base",
       "_view_module_version": "1.2.0",
       "_view_name": "LayoutView",
       "align_content": null,
       "align_items": null,
       "align_self": null,
       "border": null,
       "bottom": null,
       "display": null,
       "flex": null,
       "flex_flow": null,
       "grid_area": null,
       "grid_auto_columns": null,
       "grid_auto_flow": null,
       "grid_auto_rows": null,
       "grid_column": null,
       "grid_gap": null,
       "grid_row": null,
       "grid_template_areas": null,
       "grid_template_columns": null,
       "grid_template_rows": null,
       "height": null,
       "justify_content": null,
       "justify_items": null,
       "left": null,
       "margin": null,
       "max_height": null,
       "max_width": null,
       "min_height": null,
       "min_width": null,
       "object_fit": null,
       "object_position": null,
       "order": null,
       "overflow": null,
       "overflow_x": null,
       "overflow_y": null,
       "padding": null,
       "right": null,
       "top": null,
       "visibility": null,
       "width": null
      }
     },
     "321d8bb63d284270a6f5d7616eff5def": {
      "model_module": "@jupyter-widgets/base",
      "model_module_version": "1.2.0",
      "model_name": "LayoutModel",
      "state": {
       "_model_module": "@jupyter-widgets/base",
       "_model_module_version": "1.2.0",
       "_model_name": "LayoutModel",
       "_view_count": null,
       "_view_module": "@jupyter-widgets/base",
       "_view_module_version": "1.2.0",
       "_view_name": "LayoutView",
       "align_content": null,
       "align_items": null,
       "align_self": null,
       "border": null,
       "bottom": null,
       "display": null,
       "flex": null,
       "flex_flow": null,
       "grid_area": null,
       "grid_auto_columns": null,
       "grid_auto_flow": null,
       "grid_auto_rows": null,
       "grid_column": null,
       "grid_gap": null,
       "grid_row": null,
       "grid_template_areas": null,
       "grid_template_columns": null,
       "grid_template_rows": null,
       "height": null,
       "justify_content": null,
       "justify_items": null,
       "left": null,
       "margin": null,
       "max_height": null,
       "max_width": null,
       "min_height": null,
       "min_width": null,
       "object_fit": null,
       "object_position": null,
       "order": null,
       "overflow": null,
       "overflow_x": null,
       "overflow_y": null,
       "padding": null,
       "right": null,
       "top": null,
       "visibility": null,
       "width": null
      }
     },
     "3376da87722b4a33ac08e49e4d5b8354": {
      "model_module": "@jupyter-widgets/controls",
      "model_module_version": "1.5.0",
      "model_name": "DescriptionStyleModel",
      "state": {
       "_model_module": "@jupyter-widgets/controls",
       "_model_module_version": "1.5.0",
       "_model_name": "DescriptionStyleModel",
       "_view_count": null,
       "_view_module": "@jupyter-widgets/base",
       "_view_module_version": "1.2.0",
       "_view_name": "StyleView",
       "description_width": ""
      }
     },
     "3868c238c7084fb299cf9026aa45ff21": {
      "model_module": "@jupyter-widgets/base",
      "model_module_version": "1.2.0",
      "model_name": "LayoutModel",
      "state": {
       "_model_module": "@jupyter-widgets/base",
       "_model_module_version": "1.2.0",
       "_model_name": "LayoutModel",
       "_view_count": null,
       "_view_module": "@jupyter-widgets/base",
       "_view_module_version": "1.2.0",
       "_view_name": "LayoutView",
       "align_content": null,
       "align_items": null,
       "align_self": null,
       "border": null,
       "bottom": null,
       "display": null,
       "flex": null,
       "flex_flow": null,
       "grid_area": null,
       "grid_auto_columns": null,
       "grid_auto_flow": null,
       "grid_auto_rows": null,
       "grid_column": null,
       "grid_gap": null,
       "grid_row": null,
       "grid_template_areas": null,
       "grid_template_columns": null,
       "grid_template_rows": null,
       "height": null,
       "justify_content": null,
       "justify_items": null,
       "left": null,
       "margin": null,
       "max_height": null,
       "max_width": null,
       "min_height": null,
       "min_width": null,
       "object_fit": null,
       "object_position": null,
       "order": null,
       "overflow": null,
       "overflow_x": null,
       "overflow_y": null,
       "padding": null,
       "right": null,
       "top": null,
       "visibility": null,
       "width": null
      }
     },
     "3a451e7d2452415fb3d201bd579861fe": {
      "model_module": "@jupyter-widgets/controls",
      "model_module_version": "1.5.0",
      "model_name": "ProgressStyleModel",
      "state": {
       "_model_module": "@jupyter-widgets/controls",
       "_model_module_version": "1.5.0",
       "_model_name": "ProgressStyleModel",
       "_view_count": null,
       "_view_module": "@jupyter-widgets/base",
       "_view_module_version": "1.2.0",
       "_view_name": "StyleView",
       "bar_color": null,
       "description_width": ""
      }
     },
     "411940fddfea478c98e78623f7d3b63e": {
      "model_module": "@jupyter-widgets/controls",
      "model_module_version": "1.5.0",
      "model_name": "HTMLModel",
      "state": {
       "_dom_classes": [],
       "_model_module": "@jupyter-widgets/controls",
       "_model_module_version": "1.5.0",
       "_model_name": "HTMLModel",
       "_view_count": null,
       "_view_module": "@jupyter-widgets/controls",
       "_view_module_version": "1.5.0",
       "_view_name": "HTMLView",
       "description": "",
       "description_tooltip": null,
       "layout": "IPY_MODEL_30792d4e3b82494ba9611e2ca50eb7b8",
       "placeholder": "​",
       "style": "IPY_MODEL_0730a8a307394a59a17e31e45e90d7f4",
       "value": "tokenizer_config.json: 100%"
      }
     },
     "41e921b9b2484699937d4bba2a1cf2ce": {
      "model_module": "@jupyter-widgets/controls",
      "model_module_version": "1.5.0",
      "model_name": "HTMLModel",
      "state": {
       "_dom_classes": [],
       "_model_module": "@jupyter-widgets/controls",
       "_model_module_version": "1.5.0",
       "_model_name": "HTMLModel",
       "_view_count": null,
       "_view_module": "@jupyter-widgets/controls",
       "_view_module_version": "1.5.0",
       "_view_name": "HTMLView",
       "description": "",
       "description_tooltip": null,
       "layout": "IPY_MODEL_8bf63635c1a145bf8d135a45fc52c816",
       "placeholder": "​",
       "style": "IPY_MODEL_226e679447e44ec096a2b6a0b04a1162",
       "value": " 772/772 [00:00&lt;00:00, 70.1kB/s]"
      }
     },
     "422d5d3866a1405eb1dc6f7432ac7729": {
      "model_module": "@jupyter-widgets/controls",
      "model_module_version": "1.5.0",
      "model_name": "DescriptionStyleModel",
      "state": {
       "_model_module": "@jupyter-widgets/controls",
       "_model_module_version": "1.5.0",
       "_model_name": "DescriptionStyleModel",
       "_view_count": null,
       "_view_module": "@jupyter-widgets/base",
       "_view_module_version": "1.2.0",
       "_view_name": "StyleView",
       "description_width": ""
      }
     },
     "5798213670364654bb5c08e690bb688e": {
      "model_module": "@jupyter-widgets/controls",
      "model_module_version": "1.5.0",
      "model_name": "HTMLModel",
      "state": {
       "_dom_classes": [],
       "_model_module": "@jupyter-widgets/controls",
       "_model_module_version": "1.5.0",
       "_model_name": "HTMLModel",
       "_view_count": null,
       "_view_module": "@jupyter-widgets/controls",
       "_view_module_version": "1.5.0",
       "_view_name": "HTMLView",
       "description": "",
       "description_tooltip": null,
       "layout": "IPY_MODEL_1226dc71fc05401dbb0feeb90d9235d4",
       "placeholder": "​",
       "style": "IPY_MODEL_d4a7e390ff8d42d086106231dd4725d0",
       "value": " 62.0/62.0 [00:00&lt;00:00, 5.04kB/s]"
      }
     },
     "5df3d20868784911bac5afd38bc70660": {
      "model_module": "@jupyter-widgets/base",
      "model_module_version": "1.2.0",
      "model_name": "LayoutModel",
      "state": {
       "_model_module": "@jupyter-widgets/base",
       "_model_module_version": "1.2.0",
       "_model_name": "LayoutModel",
       "_view_count": null,
       "_view_module": "@jupyter-widgets/base",
       "_view_module_version": "1.2.0",
       "_view_name": "LayoutView",
       "align_content": null,
       "align_items": null,
       "align_self": null,
       "border": null,
       "bottom": null,
       "display": null,
       "flex": null,
       "flex_flow": null,
       "grid_area": null,
       "grid_auto_columns": null,
       "grid_auto_flow": null,
       "grid_auto_rows": null,
       "grid_column": null,
       "grid_gap": null,
       "grid_row": null,
       "grid_template_areas": null,
       "grid_template_columns": null,
       "grid_template_rows": null,
       "height": null,
       "justify_content": null,
       "justify_items": null,
       "left": null,
       "margin": null,
       "max_height": null,
       "max_width": null,
       "min_height": null,
       "min_width": null,
       "object_fit": null,
       "object_position": null,
       "order": null,
       "overflow": null,
       "overflow_x": null,
       "overflow_y": null,
       "padding": null,
       "right": null,
       "top": null,
       "visibility": null,
       "width": null
      }
     },
     "5ec1f290e8bf40f689f7c92e12ea0c13": {
      "model_module": "@jupyter-widgets/controls",
      "model_module_version": "1.5.0",
      "model_name": "DescriptionStyleModel",
      "state": {
       "_model_module": "@jupyter-widgets/controls",
       "_model_module_version": "1.5.0",
       "_model_name": "DescriptionStyleModel",
       "_view_count": null,
       "_view_module": "@jupyter-widgets/base",
       "_view_module_version": "1.2.0",
       "_view_name": "StyleView",
       "description_width": ""
      }
     },
     "687315483bca48ac813307c6d46d8c91": {
      "model_module": "@jupyter-widgets/controls",
      "model_module_version": "1.5.0",
      "model_name": "DescriptionStyleModel",
      "state": {
       "_model_module": "@jupyter-widgets/controls",
       "_model_module_version": "1.5.0",
       "_model_name": "DescriptionStyleModel",
       "_view_count": null,
       "_view_module": "@jupyter-widgets/base",
       "_view_module_version": "1.2.0",
       "_view_name": "StyleView",
       "description_width": ""
      }
     },
     "693cc292ba9847409ee1ca614c038116": {
      "model_module": "@jupyter-widgets/base",
      "model_module_version": "1.2.0",
      "model_name": "LayoutModel",
      "state": {
       "_model_module": "@jupyter-widgets/base",
       "_model_module_version": "1.2.0",
       "_model_name": "LayoutModel",
       "_view_count": null,
       "_view_module": "@jupyter-widgets/base",
       "_view_module_version": "1.2.0",
       "_view_name": "LayoutView",
       "align_content": null,
       "align_items": null,
       "align_self": null,
       "border": null,
       "bottom": null,
       "display": null,
       "flex": null,
       "flex_flow": null,
       "grid_area": null,
       "grid_auto_columns": null,
       "grid_auto_flow": null,
       "grid_auto_rows": null,
       "grid_column": null,
       "grid_gap": null,
       "grid_row": null,
       "grid_template_areas": null,
       "grid_template_columns": null,
       "grid_template_rows": null,
       "height": null,
       "justify_content": null,
       "justify_items": null,
       "left": null,
       "margin": null,
       "max_height": null,
       "max_width": null,
       "min_height": null,
       "min_width": null,
       "object_fit": null,
       "object_position": null,
       "order": null,
       "overflow": null,
       "overflow_x": null,
       "overflow_y": null,
       "padding": null,
       "right": null,
       "top": null,
       "visibility": null,
       "width": null
      }
     },
     "6b9d2ae7459b4bebbe3d4439b69ca9bd": {
      "model_module": "@jupyter-widgets/controls",
      "model_module_version": "1.5.0",
      "model_name": "HBoxModel",
      "state": {
       "_dom_classes": [],
       "_model_module": "@jupyter-widgets/controls",
       "_model_module_version": "1.5.0",
       "_model_name": "HBoxModel",
       "_view_count": null,
       "_view_module": "@jupyter-widgets/controls",
       "_view_module_version": "1.5.0",
       "_view_name": "HBoxView",
       "box_style": "",
       "children": [
        "IPY_MODEL_ddf3004b3d574324aa481a979325441e",
        "IPY_MODEL_fc8c4615093644bd8d750b49cd0f350f",
        "IPY_MODEL_9fa4e8c7c0f846e38d84bfb1ea797204"
       ],
       "layout": "IPY_MODEL_96ac338137b2492ea27b38b1b9742cba"
      }
     },
     "73774a398a19443d89553ff394ecdf59": {
      "model_module": "@jupyter-widgets/controls",
      "model_module_version": "1.5.0",
      "model_name": "DescriptionStyleModel",
      "state": {
       "_model_module": "@jupyter-widgets/controls",
       "_model_module_version": "1.5.0",
       "_model_name": "DescriptionStyleModel",
       "_view_count": null,
       "_view_module": "@jupyter-widgets/base",
       "_view_module_version": "1.2.0",
       "_view_name": "StyleView",
       "description_width": ""
      }
     },
     "827aa300dfe44d3bb5da6f53e8c33f8b": {
      "model_module": "@jupyter-widgets/controls",
      "model_module_version": "1.5.0",
      "model_name": "HTMLModel",
      "state": {
       "_dom_classes": [],
       "_model_module": "@jupyter-widgets/controls",
       "_model_module_version": "1.5.0",
       "_model_name": "HTMLModel",
       "_view_count": null,
       "_view_module": "@jupyter-widgets/controls",
       "_view_module_version": "1.5.0",
       "_view_name": "HTMLView",
       "description": "",
       "description_tooltip": null,
       "layout": "IPY_MODEL_3868c238c7084fb299cf9026aa45ff21",
       "placeholder": "​",
       "style": "IPY_MODEL_fa429d6db19a4f90afa0c3948ab5c77d",
       "value": " 336M/336M [00:01&lt;00:00, 291MB/s]"
      }
     },
     "845f6fe8ce404ec29ce9fe3361638d36": {
      "model_module": "@jupyter-widgets/controls",
      "model_module_version": "1.5.0",
      "model_name": "DescriptionStyleModel",
      "state": {
       "_model_module": "@jupyter-widgets/controls",
       "_model_module_version": "1.5.0",
       "_model_name": "DescriptionStyleModel",
       "_view_count": null,
       "_view_module": "@jupyter-widgets/base",
       "_view_module_version": "1.2.0",
       "_view_name": "StyleView",
       "description_width": ""
      }
     },
     "8bf63635c1a145bf8d135a45fc52c816": {
      "model_module": "@jupyter-widgets/base",
      "model_module_version": "1.2.0",
      "model_name": "LayoutModel",
      "state": {
       "_model_module": "@jupyter-widgets/base",
       "_model_module_version": "1.2.0",
       "_model_name": "LayoutModel",
       "_view_count": null,
       "_view_module": "@jupyter-widgets/base",
       "_view_module_version": "1.2.0",
       "_view_name": "LayoutView",
       "align_content": null,
       "align_items": null,
       "align_self": null,
       "border": null,
       "bottom": null,
       "display": null,
       "flex": null,
       "flex_flow": null,
       "grid_area": null,
       "grid_auto_columns": null,
       "grid_auto_flow": null,
       "grid_auto_rows": null,
       "grid_column": null,
       "grid_gap": null,
       "grid_row": null,
       "grid_template_areas": null,
       "grid_template_columns": null,
       "grid_template_rows": null,
       "height": null,
       "justify_content": null,
       "justify_items": null,
       "left": null,
       "margin": null,
       "max_height": null,
       "max_width": null,
       "min_height": null,
       "min_width": null,
       "object_fit": null,
       "object_position": null,
       "order": null,
       "overflow": null,
       "overflow_x": null,
       "overflow_y": null,
       "padding": null,
       "right": null,
       "top": null,
       "visibility": null,
       "width": null
      }
     },
     "906be55375ac47289dab92e23d7295c3": {
      "model_module": "@jupyter-widgets/base",
      "model_module_version": "1.2.0",
      "model_name": "LayoutModel",
      "state": {
       "_model_module": "@jupyter-widgets/base",
       "_model_module_version": "1.2.0",
       "_model_name": "LayoutModel",
       "_view_count": null,
       "_view_module": "@jupyter-widgets/base",
       "_view_module_version": "1.2.0",
       "_view_name": "LayoutView",
       "align_content": null,
       "align_items": null,
       "align_self": null,
       "border": null,
       "bottom": null,
       "display": null,
       "flex": null,
       "flex_flow": null,
       "grid_area": null,
       "grid_auto_columns": null,
       "grid_auto_flow": null,
       "grid_auto_rows": null,
       "grid_column": null,
       "grid_gap": null,
       "grid_row": null,
       "grid_template_areas": null,
       "grid_template_columns": null,
       "grid_template_rows": null,
       "height": null,
       "justify_content": null,
       "justify_items": null,
       "left": null,
       "margin": null,
       "max_height": null,
       "max_width": null,
       "min_height": null,
       "min_width": null,
       "object_fit": null,
       "object_position": null,
       "order": null,
       "overflow": null,
       "overflow_x": null,
       "overflow_y": null,
       "padding": null,
       "right": null,
       "top": null,
       "visibility": null,
       "width": null
      }
     },
     "93ebda4ade004275a517a6af528c5798": {
      "model_module": "@jupyter-widgets/base",
      "model_module_version": "1.2.0",
      "model_name": "LayoutModel",
      "state": {
       "_model_module": "@jupyter-widgets/base",
       "_model_module_version": "1.2.0",
       "_model_name": "LayoutModel",
       "_view_count": null,
       "_view_module": "@jupyter-widgets/base",
       "_view_module_version": "1.2.0",
       "_view_name": "LayoutView",
       "align_content": null,
       "align_items": null,
       "align_self": null,
       "border": null,
       "bottom": null,
       "display": null,
       "flex": null,
       "flex_flow": null,
       "grid_area": null,
       "grid_auto_columns": null,
       "grid_auto_flow": null,
       "grid_auto_rows": null,
       "grid_column": null,
       "grid_gap": null,
       "grid_row": null,
       "grid_template_areas": null,
       "grid_template_columns": null,
       "grid_template_rows": null,
       "height": null,
       "justify_content": null,
       "justify_items": null,
       "left": null,
       "margin": null,
       "max_height": null,
       "max_width": null,
       "min_height": null,
       "min_width": null,
       "object_fit": null,
       "object_position": null,
       "order": null,
       "overflow": null,
       "overflow_x": null,
       "overflow_y": null,
       "padding": null,
       "right": null,
       "top": null,
       "visibility": null,
       "width": null
      }
     },
     "96ac338137b2492ea27b38b1b9742cba": {
      "model_module": "@jupyter-widgets/base",
      "model_module_version": "1.2.0",
      "model_name": "LayoutModel",
      "state": {
       "_model_module": "@jupyter-widgets/base",
       "_model_module_version": "1.2.0",
       "_model_name": "LayoutModel",
       "_view_count": null,
       "_view_module": "@jupyter-widgets/base",
       "_view_module_version": "1.2.0",
       "_view_name": "LayoutView",
       "align_content": null,
       "align_items": null,
       "align_self": null,
       "border": null,
       "bottom": null,
       "display": null,
       "flex": null,
       "flex_flow": null,
       "grid_area": null,
       "grid_auto_columns": null,
       "grid_auto_flow": null,
       "grid_auto_rows": null,
       "grid_column": null,
       "grid_gap": null,
       "grid_row": null,
       "grid_template_areas": null,
       "grid_template_columns": null,
       "grid_template_rows": null,
       "height": null,
       "justify_content": null,
       "justify_items": null,
       "left": null,
       "margin": null,
       "max_height": null,
       "max_width": null,
       "min_height": null,
       "min_width": null,
       "object_fit": null,
       "object_position": null,
       "order": null,
       "overflow": null,
       "overflow_x": null,
       "overflow_y": null,
       "padding": null,
       "right": null,
       "top": null,
       "visibility": null,
       "width": null
      }
     },
     "9bab9f70906d4f63a1c624ff347de1e4": {
      "model_module": "@jupyter-widgets/base",
      "model_module_version": "1.2.0",
      "model_name": "LayoutModel",
      "state": {
       "_model_module": "@jupyter-widgets/base",
       "_model_module_version": "1.2.0",
       "_model_name": "LayoutModel",
       "_view_count": null,
       "_view_module": "@jupyter-widgets/base",
       "_view_module_version": "1.2.0",
       "_view_name": "LayoutView",
       "align_content": null,
       "align_items": null,
       "align_self": null,
       "border": null,
       "bottom": null,
       "display": null,
       "flex": null,
       "flex_flow": null,
       "grid_area": null,
       "grid_auto_columns": null,
       "grid_auto_flow": null,
       "grid_auto_rows": null,
       "grid_column": null,
       "grid_gap": null,
       "grid_row": null,
       "grid_template_areas": null,
       "grid_template_columns": null,
       "grid_template_rows": null,
       "height": null,
       "justify_content": null,
       "justify_items": null,
       "left": null,
       "margin": null,
       "max_height": null,
       "max_width": null,
       "min_height": null,
       "min_width": null,
       "object_fit": null,
       "object_position": null,
       "order": null,
       "overflow": null,
       "overflow_x": null,
       "overflow_y": null,
       "padding": null,
       "right": null,
       "top": null,
       "visibility": null,
       "width": null
      }
     },
     "9fa4e8c7c0f846e38d84bfb1ea797204": {
      "model_module": "@jupyter-widgets/controls",
      "model_module_version": "1.5.0",
      "model_name": "HTMLModel",
      "state": {
       "_dom_classes": [],
       "_model_module": "@jupyter-widgets/controls",
       "_model_module_version": "1.5.0",
       "_model_name": "HTMLModel",
       "_view_count": null,
       "_view_module": "@jupyter-widgets/controls",
       "_view_module_version": "1.5.0",
       "_view_name": "HTMLView",
       "description": "",
       "description_tooltip": null,
       "layout": "IPY_MODEL_906be55375ac47289dab92e23d7295c3",
       "placeholder": "​",
       "style": "IPY_MODEL_5ec1f290e8bf40f689f7c92e12ea0c13",
       "value": " 515/515 [00:00&lt;00:00, 44.8kB/s]"
      }
     },
     "a321828673f140b4ac203b3649d633c6": {
      "model_module": "@jupyter-widgets/controls",
      "model_module_version": "1.5.0",
      "model_name": "FloatProgressModel",
      "state": {
       "_dom_classes": [],
       "_model_module": "@jupyter-widgets/controls",
       "_model_module_version": "1.5.0",
       "_model_name": "FloatProgressModel",
       "_view_count": null,
       "_view_module": "@jupyter-widgets/controls",
       "_view_module_version": "1.5.0",
       "_view_name": "ProgressView",
       "bar_style": "success",
       "description": "",
       "description_tooltip": null,
       "layout": "IPY_MODEL_93ebda4ade004275a517a6af528c5798",
       "max": 336422980.0,
       "min": 0.0,
       "orientation": "horizontal",
       "style": "IPY_MODEL_d3be3e4c4e0e43eaa50b5d740b2dcefa",
       "value": 336422980.0
      }
     },
     "a5268058ff67496da00330f1cb88e130": {
      "model_module": "@jupyter-widgets/controls",
      "model_module_version": "1.5.0",
      "model_name": "HBoxModel",
      "state": {
       "_dom_classes": [],
       "_model_module": "@jupyter-widgets/controls",
       "_model_module_version": "1.5.0",
       "_model_name": "HBoxModel",
       "_view_count": null,
       "_view_module": "@jupyter-widgets/controls",
       "_view_module_version": "1.5.0",
       "_view_name": "HBoxView",
       "box_style": "",
       "children": [
        "IPY_MODEL_aa1d121539284b99a3ad60b50c4bb24e",
        "IPY_MODEL_0c86def3345c4b059cc3f61e87ef80bf",
        "IPY_MODEL_f7efca379c2a45cd84370fd7b5ed876c"
       ],
       "layout": "IPY_MODEL_b0bd82bd05854de5abc0868b91e1a68f"
      }
     },
     "aa1d121539284b99a3ad60b50c4bb24e": {
      "model_module": "@jupyter-widgets/controls",
      "model_module_version": "1.5.0",
      "model_name": "HTMLModel",
      "state": {
       "_dom_classes": [],
       "_model_module": "@jupyter-widgets/controls",
       "_model_module_version": "1.5.0",
       "_model_name": "HTMLModel",
       "_view_count": null,
       "_view_module": "@jupyter-widgets/controls",
       "_view_module_version": "1.5.0",
       "_view_name": "HTMLView",
       "description": "",
       "description_tooltip": null,
       "layout": "IPY_MODEL_f44d60837bc54ca493999668545f3b87",
       "placeholder": "​",
       "style": "IPY_MODEL_422d5d3866a1405eb1dc6f7432ac7729",
       "value": "merges.txt: 100%"
      }
     },
     "aced65a37ba142f9aa3ac66b2861ca69": {
      "model_module": "@jupyter-widgets/controls",
      "model_module_version": "1.5.0",
      "model_name": "HTMLModel",
      "state": {
       "_dom_classes": [],
       "_model_module": "@jupyter-widgets/controls",
       "_model_module_version": "1.5.0",
       "_model_name": "HTMLModel",
       "_view_count": null,
       "_view_module": "@jupyter-widgets/controls",
       "_view_module_version": "1.5.0",
       "_view_name": "HTMLView",
       "description": "",
       "description_tooltip": null,
       "layout": "IPY_MODEL_f49f29a1dbde49a6ad6e3af529d499a1",
       "placeholder": "​",
       "style": "IPY_MODEL_3376da87722b4a33ac08e49e4d5b8354",
       "value": "vocab.json: 100%"
      }
     },
     "b0bd82bd05854de5abc0868b91e1a68f": {
      "model_module": "@jupyter-widgets/base",
      "model_module_version": "1.2.0",
      "model_name": "LayoutModel",
      "state": {
       "_model_module": "@jupyter-widgets/base",
       "_model_module_version": "1.2.0",
       "_model_name": "LayoutModel",
       "_view_count": null,
       "_view_module": "@jupyter-widgets/base",
       "_view_module_version": "1.2.0",
       "_view_name": "LayoutView",
       "align_content": null,
       "align_items": null,
       "align_self": null,
       "border": null,
       "bottom": null,
       "display": null,
       "flex": null,
       "flex_flow": null,
       "grid_area": null,
       "grid_auto_columns": null,
       "grid_auto_flow": null,
       "grid_auto_rows": null,
       "grid_column": null,
       "grid_gap": null,
       "grid_row": null,
       "grid_template_areas": null,
       "grid_template_columns": null,
       "grid_template_rows": null,
       "height": null,
       "justify_content": null,
       "justify_items": null,
       "left": null,
       "margin": null,
       "max_height": null,
       "max_width": null,
       "min_height": null,
       "min_width": null,
       "object_fit": null,
       "object_position": null,
       "order": null,
       "overflow": null,
       "overflow_x": null,
       "overflow_y": null,
       "padding": null,
       "right": null,
       "top": null,
       "visibility": null,
       "width": null
      }
     },
     "b43d4c76642d4878939471caf4e83d70": {
      "model_module": "@jupyter-widgets/controls",
      "model_module_version": "1.5.0",
      "model_name": "HTMLModel",
      "state": {
       "_dom_classes": [],
       "_model_module": "@jupyter-widgets/controls",
       "_model_module_version": "1.5.0",
       "_model_name": "HTMLModel",
       "_view_count": null,
       "_view_module": "@jupyter-widgets/controls",
       "_view_module_version": "1.5.0",
       "_view_name": "HTMLView",
       "description": "",
       "description_tooltip": null,
       "layout": "IPY_MODEL_bc6d99717371469e89783a749024f559",
       "placeholder": "​",
       "style": "IPY_MODEL_73774a398a19443d89553ff394ecdf59",
       "value": " 165k/165k [00:00&lt;00:00, 2.59MB/s]"
      }
     },
     "b486114bfb8e41ef8013d6f80ae3e10e": {
      "model_module": "@jupyter-widgets/base",
      "model_module_version": "1.2.0",
      "model_name": "LayoutModel",
      "state": {
       "_model_module": "@jupyter-widgets/base",
       "_model_module_version": "1.2.0",
       "_model_name": "LayoutModel",
       "_view_count": null,
       "_view_module": "@jupyter-widgets/base",
       "_view_module_version": "1.2.0",
       "_view_name": "LayoutView",
       "align_content": null,
       "align_items": null,
       "align_self": null,
       "border": null,
       "bottom": null,
       "display": null,
       "flex": null,
       "flex_flow": null,
       "grid_area": null,
       "grid_auto_columns": null,
       "grid_auto_flow": null,
       "grid_auto_rows": null,
       "grid_column": null,
       "grid_gap": null,
       "grid_row": null,
       "grid_template_areas": null,
       "grid_template_columns": null,
       "grid_template_rows": null,
       "height": null,
       "justify_content": null,
       "justify_items": null,
       "left": null,
       "margin": null,
       "max_height": null,
       "max_width": null,
       "min_height": null,
       "min_width": null,
       "object_fit": null,
       "object_position": null,
       "order": null,
       "overflow": null,
       "overflow_x": null,
       "overflow_y": null,
       "padding": null,
       "right": null,
       "top": null,
       "visibility": null,
       "width": null
      }
     },
     "b54afdb9e94541ed8e99de81e2d8274f": {
      "model_module": "@jupyter-widgets/base",
      "model_module_version": "1.2.0",
      "model_name": "LayoutModel",
      "state": {
       "_model_module": "@jupyter-widgets/base",
       "_model_module_version": "1.2.0",
       "_model_name": "LayoutModel",
       "_view_count": null,
       "_view_module": "@jupyter-widgets/base",
       "_view_module_version": "1.2.0",
       "_view_name": "LayoutView",
       "align_content": null,
       "align_items": null,
       "align_self": null,
       "border": null,
       "bottom": null,
       "display": null,
       "flex": null,
       "flex_flow": null,
       "grid_area": null,
       "grid_auto_columns": null,
       "grid_auto_flow": null,
       "grid_auto_rows": null,
       "grid_column": null,
       "grid_gap": null,
       "grid_row": null,
       "grid_template_areas": null,
       "grid_template_columns": null,
       "grid_template_rows": null,
       "height": null,
       "justify_content": null,
       "justify_items": null,
       "left": null,
       "margin": null,
       "max_height": null,
       "max_width": null,
       "min_height": null,
       "min_width": null,
       "object_fit": null,
       "object_position": null,
       "order": null,
       "overflow": null,
       "overflow_x": null,
       "overflow_y": null,
       "padding": null,
       "right": null,
       "top": null,
       "visibility": null,
       "width": null
      }
     },
     "b786858165ea4004b776b303d5321be0": {
      "model_module": "@jupyter-widgets/controls",
      "model_module_version": "1.5.0",
      "model_name": "ProgressStyleModel",
      "state": {
       "_model_module": "@jupyter-widgets/controls",
       "_model_module_version": "1.5.0",
       "_model_name": "ProgressStyleModel",
       "_view_count": null,
       "_view_module": "@jupyter-widgets/base",
       "_view_module_version": "1.2.0",
       "_view_name": "StyleView",
       "bar_color": null,
       "description_width": ""
      }
     },
     "bc6d99717371469e89783a749024f559": {
      "model_module": "@jupyter-widgets/base",
      "model_module_version": "1.2.0",
      "model_name": "LayoutModel",
      "state": {
       "_model_module": "@jupyter-widgets/base",
       "_model_module_version": "1.2.0",
       "_model_name": "LayoutModel",
       "_view_count": null,
       "_view_module": "@jupyter-widgets/base",
       "_view_module_version": "1.2.0",
       "_view_name": "LayoutView",
       "align_content": null,
       "align_items": null,
       "align_self": null,
       "border": null,
       "bottom": null,
       "display": null,
       "flex": null,
       "flex_flow": null,
       "grid_area": null,
       "grid_auto_columns": null,
       "grid_auto_flow": null,
       "grid_auto_rows": null,
       "grid_column": null,
       "grid_gap": null,
       "grid_row": null,
       "grid_template_areas": null,
       "grid_template_columns": null,
       "grid_template_rows": null,
       "height": null,
       "justify_content": null,
       "justify_items": null,
       "left": null,
       "margin": null,
       "max_height": null,
       "max_width": null,
       "min_height": null,
       "min_width": null,
       "object_fit": null,
       "object_position": null,
       "order": null,
       "overflow": null,
       "overflow_x": null,
       "overflow_y": null,
       "padding": null,
       "right": null,
       "top": null,
       "visibility": null,
       "width": null
      }
     },
     "c7705442b00d4b439dcbb42c22b99614": {
      "model_module": "@jupyter-widgets/controls",
      "model_module_version": "1.5.0",
      "model_name": "ProgressStyleModel",
      "state": {
       "_model_module": "@jupyter-widgets/controls",
       "_model_module_version": "1.5.0",
       "_model_name": "ProgressStyleModel",
       "_view_count": null,
       "_view_module": "@jupyter-widgets/base",
       "_view_module_version": "1.2.0",
       "_view_name": "StyleView",
       "bar_color": null,
       "description_width": ""
      }
     },
     "cc0233bab52e4a9c943ac03cda7c0417": {
      "model_module": "@jupyter-widgets/controls",
      "model_module_version": "1.5.0",
      "model_name": "HTMLModel",
      "state": {
       "_dom_classes": [],
       "_model_module": "@jupyter-widgets/controls",
       "_model_module_version": "1.5.0",
       "_model_name": "HTMLModel",
       "_view_count": null,
       "_view_module": "@jupyter-widgets/controls",
       "_view_module_version": "1.5.0",
       "_view_name": "HTMLView",
       "description": "",
       "description_tooltip": null,
       "layout": "IPY_MODEL_d9b57e6d09b949d2943701b55c900fd8",
       "placeholder": "​",
       "style": "IPY_MODEL_687315483bca48ac813307c6d46d8c91",
       "value": "pytorch_model.bin: 100%"
      }
     },
     "cd7c15d2243a466fac83f84db6fcf709": {
      "model_module": "@jupyter-widgets/base",
      "model_module_version": "1.2.0",
      "model_name": "LayoutModel",
      "state": {
       "_model_module": "@jupyter-widgets/base",
       "_model_module_version": "1.2.0",
       "_model_name": "LayoutModel",
       "_view_count": null,
       "_view_module": "@jupyter-widgets/base",
       "_view_module_version": "1.2.0",
       "_view_name": "LayoutView",
       "align_content": null,
       "align_items": null,
       "align_self": null,
       "border": null,
       "bottom": null,
       "display": null,
       "flex": null,
       "flex_flow": null,
       "grid_area": null,
       "grid_auto_columns": null,
       "grid_auto_flow": null,
       "grid_auto_rows": null,
       "grid_column": null,
       "grid_gap": null,
       "grid_row": null,
       "grid_template_areas": null,
       "grid_template_columns": null,
       "grid_template_rows": null,
       "height": null,
       "justify_content": null,
       "justify_items": null,
       "left": null,
       "margin": null,
       "max_height": null,
       "max_width": null,
       "min_height": null,
       "min_width": null,
       "object_fit": null,
       "object_position": null,
       "order": null,
       "overflow": null,
       "overflow_x": null,
       "overflow_y": null,
       "padding": null,
       "right": null,
       "top": null,
       "visibility": null,
       "width": null
      }
     },
     "d3be3e4c4e0e43eaa50b5d740b2dcefa": {
      "model_module": "@jupyter-widgets/controls",
      "model_module_version": "1.5.0",
      "model_name": "ProgressStyleModel",
      "state": {
       "_model_module": "@jupyter-widgets/controls",
       "_model_module_version": "1.5.0",
       "_model_name": "ProgressStyleModel",
       "_view_count": null,
       "_view_module": "@jupyter-widgets/base",
       "_view_module_version": "1.2.0",
       "_view_name": "StyleView",
       "bar_color": null,
       "description_width": ""
      }
     },
     "d4a7e390ff8d42d086106231dd4725d0": {
      "model_module": "@jupyter-widgets/controls",
      "model_module_version": "1.5.0",
      "model_name": "DescriptionStyleModel",
      "state": {
       "_model_module": "@jupyter-widgets/controls",
       "_model_module_version": "1.5.0",
       "_model_name": "DescriptionStyleModel",
       "_view_count": null,
       "_view_module": "@jupyter-widgets/base",
       "_view_module_version": "1.2.0",
       "_view_name": "StyleView",
       "description_width": ""
      }
     },
     "d9b57e6d09b949d2943701b55c900fd8": {
      "model_module": "@jupyter-widgets/base",
      "model_module_version": "1.2.0",
      "model_name": "LayoutModel",
      "state": {
       "_model_module": "@jupyter-widgets/base",
       "_model_module_version": "1.2.0",
       "_model_name": "LayoutModel",
       "_view_count": null,
       "_view_module": "@jupyter-widgets/base",
       "_view_module_version": "1.2.0",
       "_view_name": "LayoutView",
       "align_content": null,
       "align_items": null,
       "align_self": null,
       "border": null,
       "bottom": null,
       "display": null,
       "flex": null,
       "flex_flow": null,
       "grid_area": null,
       "grid_auto_columns": null,
       "grid_auto_flow": null,
       "grid_auto_rows": null,
       "grid_column": null,
       "grid_gap": null,
       "grid_row": null,
       "grid_template_areas": null,
       "grid_template_columns": null,
       "grid_template_rows": null,
       "height": null,
       "justify_content": null,
       "justify_items": null,
       "left": null,
       "margin": null,
       "max_height": null,
       "max_width": null,
       "min_height": null,
       "min_width": null,
       "object_fit": null,
       "object_position": null,
       "order": null,
       "overflow": null,
       "overflow_x": null,
       "overflow_y": null,
       "padding": null,
       "right": null,
       "top": null,
       "visibility": null,
       "width": null
      }
     },
     "da98d1302d214078871dccd38364924d": {
      "model_module": "@jupyter-widgets/controls",
      "model_module_version": "1.5.0",
      "model_name": "FloatProgressModel",
      "state": {
       "_dom_classes": [],
       "_model_module": "@jupyter-widgets/controls",
       "_model_module_version": "1.5.0",
       "_model_name": "FloatProgressModel",
       "_view_count": null,
       "_view_module": "@jupyter-widgets/controls",
       "_view_module_version": "1.5.0",
       "_view_name": "ProgressView",
       "bar_style": "success",
       "description": "",
       "description_tooltip": null,
       "layout": "IPY_MODEL_cd7c15d2243a466fac83f84db6fcf709",
       "max": 62.0,
       "min": 0.0,
       "orientation": "horizontal",
       "style": "IPY_MODEL_e0d869130d35411f9567574b94c2be91",
       "value": 62.0
      }
     },
     "dbce0c592d73464fb33a5be1b8c367e7": {
      "model_module": "@jupyter-widgets/base",
      "model_module_version": "1.2.0",
      "model_name": "LayoutModel",
      "state": {
       "_model_module": "@jupyter-widgets/base",
       "_model_module_version": "1.2.0",
       "_model_name": "LayoutModel",
       "_view_count": null,
       "_view_module": "@jupyter-widgets/base",
       "_view_module_version": "1.2.0",
       "_view_name": "LayoutView",
       "align_content": null,
       "align_items": null,
       "align_self": null,
       "border": null,
       "bottom": null,
       "display": null,
       "flex": null,
       "flex_flow": null,
       "grid_area": null,
       "grid_auto_columns": null,
       "grid_auto_flow": null,
       "grid_auto_rows": null,
       "grid_column": null,
       "grid_gap": null,
       "grid_row": null,
       "grid_template_areas": null,
       "grid_template_columns": null,
       "grid_template_rows": null,
       "height": null,
       "justify_content": null,
       "justify_items": null,
       "left": null,
       "margin": null,
       "max_height": null,
       "max_width": null,
       "min_height": null,
       "min_width": null,
       "object_fit": null,
       "object_position": null,
       "order": null,
       "overflow": null,
       "overflow_x": null,
       "overflow_y": null,
       "padding": null,
       "right": null,
       "top": null,
       "visibility": null,
       "width": null
      }
     },
     "ddf3004b3d574324aa481a979325441e": {
      "model_module": "@jupyter-widgets/controls",
      "model_module_version": "1.5.0",
      "model_name": "HTMLModel",
      "state": {
       "_dom_classes": [],
       "_model_module": "@jupyter-widgets/controls",
       "_model_module_version": "1.5.0",
       "_model_name": "HTMLModel",
       "_view_count": null,
       "_view_module": "@jupyter-widgets/controls",
       "_view_module_version": "1.5.0",
       "_view_name": "HTMLView",
       "description": "",
       "description_tooltip": null,
       "layout": "IPY_MODEL_b54afdb9e94541ed8e99de81e2d8274f",
       "placeholder": "​",
       "style": "IPY_MODEL_2a4d5e20459a4ba6b64808143b98d40d",
       "value": "config.json: 100%"
      }
     },
     "e0d869130d35411f9567574b94c2be91": {
      "model_module": "@jupyter-widgets/controls",
      "model_module_version": "1.5.0",
      "model_name": "ProgressStyleModel",
      "state": {
       "_model_module": "@jupyter-widgets/controls",
       "_model_module_version": "1.5.0",
       "_model_name": "ProgressStyleModel",
       "_view_count": null,
       "_view_module": "@jupyter-widgets/base",
       "_view_module_version": "1.2.0",
       "_view_name": "StyleView",
       "bar_color": null,
       "description_width": ""
      }
     },
     "e8eec7fa48ae408ea3b984a765517ca3": {
      "model_module": "@jupyter-widgets/controls",
      "model_module_version": "1.5.0",
      "model_name": "FloatProgressModel",
      "state": {
       "_dom_classes": [],
       "_model_module": "@jupyter-widgets/controls",
       "_model_module_version": "1.5.0",
       "_model_name": "FloatProgressModel",
       "_view_count": null,
       "_view_module": "@jupyter-widgets/controls",
       "_view_module_version": "1.5.0",
       "_view_name": "ProgressView",
       "bar_style": "success",
       "description": "",
       "description_tooltip": null,
       "layout": "IPY_MODEL_fdc1cd790f5c476883d92f82bdca41db",
       "max": 164540.0,
       "min": 0.0,
       "orientation": "horizontal",
       "style": "IPY_MODEL_3a451e7d2452415fb3d201bd579861fe",
       "value": 164540.0
      }
     },
     "e9f1db814af44a0ab7292811ef641e71": {
      "model_module": "@jupyter-widgets/base",
      "model_module_version": "1.2.0",
      "model_name": "LayoutModel",
      "state": {
       "_model_module": "@jupyter-widgets/base",
       "_model_module_version": "1.2.0",
       "_model_name": "LayoutModel",
       "_view_count": null,
       "_view_module": "@jupyter-widgets/base",
       "_view_module_version": "1.2.0",
       "_view_name": "LayoutView",
       "align_content": null,
       "align_items": null,
       "align_self": null,
       "border": null,
       "bottom": null,
       "display": null,
       "flex": null,
       "flex_flow": null,
       "grid_area": null,
       "grid_auto_columns": null,
       "grid_auto_flow": null,
       "grid_auto_rows": null,
       "grid_column": null,
       "grid_gap": null,
       "grid_row": null,
       "grid_template_areas": null,
       "grid_template_columns": null,
       "grid_template_rows": null,
       "height": null,
       "justify_content": null,
       "justify_items": null,
       "left": null,
       "margin": null,
       "max_height": null,
       "max_width": null,
       "min_height": null,
       "min_width": null,
       "object_fit": null,
       "object_position": null,
       "order": null,
       "overflow": null,
       "overflow_x": null,
       "overflow_y": null,
       "padding": null,
       "right": null,
       "top": null,
       "visibility": null,
       "width": null
      }
     },
     "ea4ab4c27caa45d58f9d8dc1aa75e54a": {
      "model_module": "@jupyter-widgets/controls",
      "model_module_version": "1.5.0",
      "model_name": "HBoxModel",
      "state": {
       "_dom_classes": [],
       "_model_module": "@jupyter-widgets/controls",
       "_model_module_version": "1.5.0",
       "_model_name": "HBoxModel",
       "_view_count": null,
       "_view_module": "@jupyter-widgets/controls",
       "_view_module_version": "1.5.0",
       "_view_name": "HBoxView",
       "box_style": "",
       "children": [
        "IPY_MODEL_aced65a37ba142f9aa3ac66b2861ca69",
        "IPY_MODEL_e8eec7fa48ae408ea3b984a765517ca3",
        "IPY_MODEL_b43d4c76642d4878939471caf4e83d70"
       ],
       "layout": "IPY_MODEL_5df3d20868784911bac5afd38bc70660"
      }
     },
     "ec35713e00814e2f98098f64872a4c68": {
      "model_module": "@jupyter-widgets/base",
      "model_module_version": "1.2.0",
      "model_name": "LayoutModel",
      "state": {
       "_model_module": "@jupyter-widgets/base",
       "_model_module_version": "1.2.0",
       "_model_name": "LayoutModel",
       "_view_count": null,
       "_view_module": "@jupyter-widgets/base",
       "_view_module_version": "1.2.0",
       "_view_name": "LayoutView",
       "align_content": null,
       "align_items": null,
       "align_self": null,
       "border": null,
       "bottom": null,
       "display": null,
       "flex": null,
       "flex_flow": null,
       "grid_area": null,
       "grid_auto_columns": null,
       "grid_auto_flow": null,
       "grid_auto_rows": null,
       "grid_column": null,
       "grid_gap": null,
       "grid_row": null,
       "grid_template_areas": null,
       "grid_template_columns": null,
       "grid_template_rows": null,
       "height": null,
       "justify_content": null,
       "justify_items": null,
       "left": null,
       "margin": null,
       "max_height": null,
       "max_width": null,
       "min_height": null,
       "min_width": null,
       "object_fit": null,
       "object_position": null,
       "order": null,
       "overflow": null,
       "overflow_x": null,
       "overflow_y": null,
       "padding": null,
       "right": null,
       "top": null,
       "visibility": null,
       "width": null
      }
     },
     "f3c9a96aab014608aa4468bada1bd149": {
      "model_module": "@jupyter-widgets/controls",
      "model_module_version": "1.5.0",
      "model_name": "FloatProgressModel",
      "state": {
       "_dom_classes": [],
       "_model_module": "@jupyter-widgets/controls",
       "_model_module_version": "1.5.0",
       "_model_name": "FloatProgressModel",
       "_view_count": null,
       "_view_module": "@jupyter-widgets/controls",
       "_view_module_version": "1.5.0",
       "_view_name": "ProgressView",
       "bar_style": "success",
       "description": "",
       "description_tooltip": null,
       "layout": "IPY_MODEL_2c7a63599e684aaf9e8d94cb6f5c5058",
       "max": 772.0,
       "min": 0.0,
       "orientation": "horizontal",
       "style": "IPY_MODEL_b786858165ea4004b776b303d5321be0",
       "value": 772.0
      }
     },
     "f44d60837bc54ca493999668545f3b87": {
      "model_module": "@jupyter-widgets/base",
      "model_module_version": "1.2.0",
      "model_name": "LayoutModel",
      "state": {
       "_model_module": "@jupyter-widgets/base",
       "_model_module_version": "1.2.0",
       "_model_name": "LayoutModel",
       "_view_count": null,
       "_view_module": "@jupyter-widgets/base",
       "_view_module_version": "1.2.0",
       "_view_name": "LayoutView",
       "align_content": null,
       "align_items": null,
       "align_self": null,
       "border": null,
       "bottom": null,
       "display": null,
       "flex": null,
       "flex_flow": null,
       "grid_area": null,
       "grid_auto_columns": null,
       "grid_auto_flow": null,
       "grid_auto_rows": null,
       "grid_column": null,
       "grid_gap": null,
       "grid_row": null,
       "grid_template_areas": null,
       "grid_template_columns": null,
       "grid_template_rows": null,
       "height": null,
       "justify_content": null,
       "justify_items": null,
       "left": null,
       "margin": null,
       "max_height": null,
       "max_width": null,
       "min_height": null,
       "min_width": null,
       "object_fit": null,
       "object_position": null,
       "order": null,
       "overflow": null,
       "overflow_x": null,
       "overflow_y": null,
       "padding": null,
       "right": null,
       "top": null,
       "visibility": null,
       "width": null
      }
     },
     "f49f29a1dbde49a6ad6e3af529d499a1": {
      "model_module": "@jupyter-widgets/base",
      "model_module_version": "1.2.0",
      "model_name": "LayoutModel",
      "state": {
       "_model_module": "@jupyter-widgets/base",
       "_model_module_version": "1.2.0",
       "_model_name": "LayoutModel",
       "_view_count": null,
       "_view_module": "@jupyter-widgets/base",
       "_view_module_version": "1.2.0",
       "_view_name": "LayoutView",
       "align_content": null,
       "align_items": null,
       "align_self": null,
       "border": null,
       "bottom": null,
       "display": null,
       "flex": null,
       "flex_flow": null,
       "grid_area": null,
       "grid_auto_columns": null,
       "grid_auto_flow": null,
       "grid_auto_rows": null,
       "grid_column": null,
       "grid_gap": null,
       "grid_row": null,
       "grid_template_areas": null,
       "grid_template_columns": null,
       "grid_template_rows": null,
       "height": null,
       "justify_content": null,
       "justify_items": null,
       "left": null,
       "margin": null,
       "max_height": null,
       "max_width": null,
       "min_height": null,
       "min_width": null,
       "object_fit": null,
       "object_position": null,
       "order": null,
       "overflow": null,
       "overflow_x": null,
       "overflow_y": null,
       "padding": null,
       "right": null,
       "top": null,
       "visibility": null,
       "width": null
      }
     },
     "f7efca379c2a45cd84370fd7b5ed876c": {
      "model_module": "@jupyter-widgets/controls",
      "model_module_version": "1.5.0",
      "model_name": "HTMLModel",
      "state": {
       "_dom_classes": [],
       "_model_module": "@jupyter-widgets/controls",
       "_model_module_version": "1.5.0",
       "_model_name": "HTMLModel",
       "_view_count": null,
       "_view_module": "@jupyter-widgets/controls",
       "_view_module_version": "1.5.0",
       "_view_name": "HTMLView",
       "description": "",
       "description_tooltip": null,
       "layout": "IPY_MODEL_dbce0c592d73464fb33a5be1b8c367e7",
       "placeholder": "​",
       "style": "IPY_MODEL_091e550682fc4dd99e15a32d4ca2198b",
       "value": " 101k/101k [00:00&lt;00:00, 1.61MB/s]"
      }
     },
     "fa429d6db19a4f90afa0c3948ab5c77d": {
      "model_module": "@jupyter-widgets/controls",
      "model_module_version": "1.5.0",
      "model_name": "DescriptionStyleModel",
      "state": {
       "_model_module": "@jupyter-widgets/controls",
       "_model_module_version": "1.5.0",
       "_model_name": "DescriptionStyleModel",
       "_view_count": null,
       "_view_module": "@jupyter-widgets/base",
       "_view_module_version": "1.2.0",
       "_view_name": "StyleView",
       "description_width": ""
      }
     },
     "fb7c9017c5f34c2faf2da15530a20c2f": {
      "model_module": "@jupyter-widgets/controls",
      "model_module_version": "1.5.0",
      "model_name": "HBoxModel",
      "state": {
       "_dom_classes": [],
       "_model_module": "@jupyter-widgets/controls",
       "_model_module_version": "1.5.0",
       "_model_name": "HBoxModel",
       "_view_count": null,
       "_view_module": "@jupyter-widgets/controls",
       "_view_module_version": "1.5.0",
       "_view_name": "HBoxView",
       "box_style": "",
       "children": [
        "IPY_MODEL_411940fddfea478c98e78623f7d3b63e",
        "IPY_MODEL_da98d1302d214078871dccd38364924d",
        "IPY_MODEL_5798213670364654bb5c08e690bb688e"
       ],
       "layout": "IPY_MODEL_693cc292ba9847409ee1ca614c038116"
      }
     },
     "fc8c4615093644bd8d750b49cd0f350f": {
      "model_module": "@jupyter-widgets/controls",
      "model_module_version": "1.5.0",
      "model_name": "FloatProgressModel",
      "state": {
       "_dom_classes": [],
       "_model_module": "@jupyter-widgets/controls",
       "_model_module_version": "1.5.0",
       "_model_name": "FloatProgressModel",
       "_view_count": null,
       "_view_module": "@jupyter-widgets/controls",
       "_view_module_version": "1.5.0",
       "_view_name": "ProgressView",
       "bar_style": "success",
       "description": "",
       "description_tooltip": null,
       "layout": "IPY_MODEL_ec35713e00814e2f98098f64872a4c68",
       "max": 515.0,
       "min": 0.0,
       "orientation": "horizontal",
       "style": "IPY_MODEL_274417fa992242c38b3fe287a225ac68",
       "value": 515.0
      }
     },
     "fdc1cd790f5c476883d92f82bdca41db": {
      "model_module": "@jupyter-widgets/base",
      "model_module_version": "1.2.0",
      "model_name": "LayoutModel",
      "state": {
       "_model_module": "@jupyter-widgets/base",
       "_model_module_version": "1.2.0",
       "_model_name": "LayoutModel",
       "_view_count": null,
       "_view_module": "@jupyter-widgets/base",
       "_view_module_version": "1.2.0",
       "_view_name": "LayoutView",
       "align_content": null,
       "align_items": null,
       "align_self": null,
       "border": null,
       "bottom": null,
       "display": null,
       "flex": null,
       "flex_flow": null,
       "grid_area": null,
       "grid_auto_columns": null,
       "grid_auto_flow": null,
       "grid_auto_rows": null,
       "grid_column": null,
       "grid_gap": null,
       "grid_row": null,
       "grid_template_areas": null,
       "grid_template_columns": null,
       "grid_template_rows": null,
       "height": null,
       "justify_content": null,
       "justify_items": null,
       "left": null,
       "margin": null,
       "max_height": null,
       "max_width": null,
       "min_height": null,
       "min_width": null,
       "object_fit": null,
       "object_position": null,
       "order": null,
       "overflow": null,
       "overflow_x": null,
       "overflow_y": null,
       "padding": null,
       "right": null,
       "top": null,
       "visibility": null,
       "width": null
      }
     }
    },
    "version_major": 2,
    "version_minor": 0
   }
  }
 },
 "nbformat": 4,
 "nbformat_minor": 5
}
