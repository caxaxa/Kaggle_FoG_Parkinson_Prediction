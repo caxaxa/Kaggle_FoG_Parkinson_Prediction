{
 "cells": [
  {
   "cell_type": "code",
   "execution_count": 1,
   "id": "45fc2ddf",
   "metadata": {
    "_cell_guid": "b1076dfc-b9ad-4769-8c92-a6c4dae69d19",
    "_uuid": "8f2839f25d086af736a60e9eeb907d3b93b6e0e5",
    "execution": {
     "iopub.execute_input": "2024-07-17T18:33:50.719996Z",
     "iopub.status.busy": "2024-07-17T18:33:50.719508Z",
     "iopub.status.idle": "2024-07-17T18:33:51.683381Z",
     "shell.execute_reply": "2024-07-17T18:33:51.681761Z"
    },
    "papermill": {
     "duration": 0.974344,
     "end_time": "2024-07-17T18:33:51.686137",
     "exception": false,
     "start_time": "2024-07-17T18:33:50.711793",
     "status": "completed"
    },
    "tags": []
   },
   "outputs": [],
   "source": [
    "import pandas as pd\n",
    "import numpy as np"
   ]
  },
  {
   "cell_type": "markdown",
   "id": "e82af99b",
   "metadata": {
    "papermill": {
     "duration": 0.004303,
     "end_time": "2024-07-17T18:33:51.695429",
     "exception": false,
     "start_time": "2024-07-17T18:33:51.691126",
     "status": "completed"
    },
    "tags": []
   },
   "source": [
    "## Load Data "
   ]
  },
  {
   "cell_type": "code",
   "execution_count": 2,
   "id": "ea4c57aa",
   "metadata": {
    "execution": {
     "iopub.execute_input": "2024-07-17T18:33:51.706673Z",
     "iopub.status.busy": "2024-07-17T18:33:51.706139Z",
     "iopub.status.idle": "2024-07-17T18:34:00.152776Z",
     "shell.execute_reply": "2024-07-17T18:34:00.151500Z"
    },
    "papermill": {
     "duration": 8.455392,
     "end_time": "2024-07-17T18:34:00.155496",
     "exception": false,
     "start_time": "2024-07-17T18:33:51.700104",
     "status": "completed"
    },
    "tags": []
   },
   "outputs": [
    {
     "name": "stderr",
     "output_type": "stream",
     "text": [
      "/tmp/ipykernel_18/1459276450.py:1: DtypeWarning: Columns (51,52) have mixed types. Specify dtype option on import or set low_memory=False.\n",
      "  df_train = pd.read_csv(\"/kaggle/input/isic-2024-challenge/train-metadata.csv\")\n"
     ]
    }
   ],
   "source": [
    "df_train = pd.read_csv(\"/kaggle/input/isic-2024-challenge/train-metadata.csv\")\n",
    "df_test = pd.read_csv(\"/kaggle/input/isic-2024-challenge/test-metadata.csv\")"
   ]
  },
  {
   "cell_type": "markdown",
   "id": "583dc2dd",
   "metadata": {
    "papermill": {
     "duration": 0.004556,
     "end_time": "2024-07-17T18:34:00.164985",
     "exception": false,
     "start_time": "2024-07-17T18:34:00.160429",
     "status": "completed"
    },
    "tags": []
   },
   "source": [
    "### Feature Eng."
   ]
  },
  {
   "cell_type": "code",
   "execution_count": 3,
   "id": "4a8e1715",
   "metadata": {
    "execution": {
     "iopub.execute_input": "2024-07-17T18:34:00.178236Z",
     "iopub.status.busy": "2024-07-17T18:34:00.177694Z",
     "iopub.status.idle": "2024-07-17T18:34:00.193423Z",
     "shell.execute_reply": "2024-07-17T18:34:00.192099Z"
    },
    "papermill": {
     "duration": 0.025279,
     "end_time": "2024-07-17T18:34:00.195866",
     "exception": false,
     "start_time": "2024-07-17T18:34:00.170587",
     "status": "completed"
    },
    "tags": []
   },
   "outputs": [],
   "source": [
    "# Define feature engineering function\n",
    "def feature_engineering(df):\n",
    "    df[\"lesion_size_ratio\"] = df[\"tbp_lv_minorAxisMM\"] / df[\"clin_size_long_diam_mm\"]\n",
    "    df[\"lesion_shape_index\"] = df[\"tbp_lv_areaMM2\"] / (df[\"tbp_lv_perimeterMM\"] ** 2)\n",
    "    df[\"hue_contrast\"] = (df[\"tbp_lv_H\"] - df[\"tbp_lv_Hext\"]).abs()\n",
    "    df[\"luminance_contrast\"] = (df[\"tbp_lv_L\"] - df[\"tbp_lv_Lext\"]).abs()\n",
    "    df[\"lesion_color_difference\"] = np.sqrt(df[\"tbp_lv_deltaA\"] ** 2 + df[\"tbp_lv_deltaB\"] ** 2 + df[\"tbp_lv_deltaL\"] ** 2)\n",
    "    df[\"border_complexity\"] = df[\"tbp_lv_norm_border\"] + df[\"tbp_lv_symm_2axis\"]\n",
    "    df[\"color_uniformity\"] = df[\"tbp_lv_color_std_mean\"] / df[\"tbp_lv_radial_color_std_max\"]\n",
    "    df[\"3d_position_distance\"] = np.sqrt(df[\"tbp_lv_x\"] ** 2 + df[\"tbp_lv_y\"] ** 2 + df[\"tbp_lv_z\"] ** 2)\n",
    "    df[\"perimeter_to_area_ratio\"] = df[\"tbp_lv_perimeterMM\"] / df[\"tbp_lv_areaMM2\"]\n",
    "    df[\"lesion_visibility_score\"] = df[\"tbp_lv_deltaLBnorm\"] + df[\"tbp_lv_norm_color\"]\n",
    "    df[\"combined_anatomical_site\"] = df[\"anatom_site_general\"] + \"_\" + df[\"tbp_lv_location\"]\n",
    "    df[\"symmetry_border_consistency\"] = df[\"tbp_lv_symm_2axis\"] * df[\"tbp_lv_norm_border\"]\n",
    "    df[\"color_consistency\"] = df[\"tbp_lv_stdL\"] / df[\"tbp_lv_Lext\"]\n",
    "    df[\"size_age_interaction\"] = df[\"clin_size_long_diam_mm\"] * df[\"age_approx\"]\n",
    "    df[\"hue_color_std_interaction\"] = df[\"tbp_lv_H\"] * df[\"tbp_lv_color_std_mean\"]\n",
    "    df[\"lesion_severity_index\"] = (df[\"tbp_lv_norm_border\"] + df[\"tbp_lv_norm_color\"] + df[\"tbp_lv_eccentricity\"]) / 3\n",
    "    df[\"shape_complexity_index\"] = df[\"border_complexity\"] + df[\"lesion_shape_index\"]\n",
    "    df[\"color_contrast_index\"] = df[\"tbp_lv_deltaA\"] + df[\"tbp_lv_deltaB\"] + df[\"tbp_lv_deltaL\"] + df[\"tbp_lv_deltaLBnorm\"]\n",
    "    df[\"log_lesion_area\"] = np.log(df[\"tbp_lv_areaMM2\"] + 1)\n",
    "    df[\"normalized_lesion_size\"] = df[\"clin_size_long_diam_mm\"] / df[\"age_approx\"]\n",
    "    df[\"mean_hue_difference\"] = (df[\"tbp_lv_H\"] + df[\"tbp_lv_Hext\"]) / 2\n",
    "    df[\"std_dev_contrast\"] = np.sqrt((df[\"tbp_lv_deltaA\"] ** 2 + df[\"tbp_lv_deltaB\"] ** 2 + df[\"tbp_lv_deltaL\"] ** 2) / 3)\n",
    "    df[\"color_shape_composite_index\"] = (df[\"tbp_lv_color_std_mean\"] + df[\"tbp_lv_area_perim_ratio\"] + df[\"tbp_lv_symm_2axis\"]) / 3\n",
    "    df[\"3d_lesion_orientation\"] = np.arctan2(df[\"tbp_lv_y\"], df[\"tbp_lv_x\"])\n",
    "    df[\"overall_color_difference\"] = (df[\"tbp_lv_deltaA\"] + df[\"tbp_lv_deltaB\"] + df[\"tbp_lv_deltaL\"]) / 3\n",
    "    df[\"symmetry_perimeter_interaction\"] = df[\"tbp_lv_symm_2axis\"] * df[\"tbp_lv_perimeterMM\"]\n",
    "    df[\"comprehensive_lesion_index\"] = (df[\"tbp_lv_area_perim_ratio\"] + df[\"tbp_lv_eccentricity\"] + df[\"tbp_lv_norm_color\"] + df[\"tbp_lv_symm_2axis\"]) / 4\n",
    "\n",
    "    new_num_cols = [\n",
    "        \"lesion_size_ratio\", \"lesion_shape_index\", \"hue_contrast\",\n",
    "        \"luminance_contrast\", \"lesion_color_difference\", \"border_complexity\",\n",
    "        \"color_uniformity\", \"3d_position_distance\", \"perimeter_to_area_ratio\",\n",
    "        \"lesion_visibility_score\", \"symmetry_border_consistency\", \"color_consistency\",\n",
    "        \"size_age_interaction\", \"hue_color_std_interaction\", \"lesion_severity_index\",\n",
    "        \"shape_complexity_index\", \"color_contrast_index\", \"log_lesion_area\",\n",
    "        \"normalized_lesion_size\", \"mean_hue_difference\", \"std_dev_contrast\",\n",
    "        \"color_shape_composite_index\", \"3d_lesion_orientation\", \"overall_color_difference\",\n",
    "        \"symmetry_perimeter_interaction\", \"comprehensive_lesion_index\",\n",
    "    ]\n",
    "    new_cat_cols = [\"combined_anatomical_site\"]\n",
    "    return df, new_num_cols, new_cat_cols\n",
    "\n"
   ]
  },
  {
   "cell_type": "code",
   "execution_count": 4,
   "id": "36317fff",
   "metadata": {
    "execution": {
     "iopub.execute_input": "2024-07-17T18:34:00.207603Z",
     "iopub.status.busy": "2024-07-17T18:34:00.207217Z",
     "iopub.status.idle": "2024-07-17T18:34:02.464214Z",
     "shell.execute_reply": "2024-07-17T18:34:02.463036Z"
    },
    "papermill": {
     "duration": 2.266059,
     "end_time": "2024-07-17T18:34:02.467112",
     "exception": false,
     "start_time": "2024-07-17T18:34:00.201053",
     "status": "completed"
    },
    "tags": []
   },
   "outputs": [],
   "source": [
    "from sklearn.preprocessing import OrdinalEncoder\n",
    "\n",
    "# Apply feature engineering\n",
    "df_train, new_num_cols, new_cat_cols = feature_engineering(df_train.copy())\n",
    "df_test, _, _ = feature_engineering(df_test.copy())\n",
    "\n",
    "# Define numerical columns, including new features\n",
    "num_cols = [\n",
    "    'age_approx', 'clin_size_long_diam_mm', 'tbp_lv_A', 'tbp_lv_Aext', 'tbp_lv_B', 'tbp_lv_Bext', \n",
    "    'tbp_lv_C', 'tbp_lv_Cext', 'tbp_lv_H', 'tbp_lv_Hext', 'tbp_lv_L', \n",
    "    'tbp_lv_Lext', 'tbp_lv_areaMM2', 'tbp_lv_area_perim_ratio', 'tbp_lv_color_std_mean', \n",
    "    'tbp_lv_deltaA', 'tbp_lv_deltaB', 'tbp_lv_deltaL', 'tbp_lv_deltaLB',\n",
    "    'tbp_lv_deltaLBnorm', 'tbp_lv_eccentricity', 'tbp_lv_minorAxisMM',\n",
    "    'tbp_lv_nevi_confidence', 'tbp_lv_norm_border', 'tbp_lv_norm_color',\n",
    "    'tbp_lv_perimeterMM', 'tbp_lv_radial_color_std_max', 'tbp_lv_stdL',\n",
    "    'tbp_lv_stdLExt', 'tbp_lv_symm_2axis', 'tbp_lv_symm_2axis_angle',\n",
    "    'tbp_lv_x', 'tbp_lv_y', 'tbp_lv_z',\n",
    "] + new_num_cols\n",
    "\n",
    "# Define categorical columns, including new features\n",
    "cat_cols = [\"sex\", \"tbp_tile_type\", \"tbp_lv_location\", \"tbp_lv_location_simple\"] + new_cat_cols\n",
    "\n",
    "# Combine all feature columns\n",
    "train_cols = num_cols + cat_cols\n",
    "\n",
    "# Encode categorical features\n",
    "category_encoder = OrdinalEncoder(\n",
    "    categories='auto',\n",
    "    dtype=int,\n",
    "    handle_unknown='use_encoded_value',\n",
    "    unknown_value=-2,\n",
    "    encoded_missing_value=-1,\n",
    ")\n",
    "\n",
    "X_cat = category_encoder.fit_transform(df_train[cat_cols])\n",
    "for c, cat_col in enumerate(cat_cols):\n",
    "    df_train[cat_col] = X_cat[:, c]\n",
    "\n",
    "# Repeat for test set\n",
    "X_cat_test = category_encoder.transform(df_test[cat_cols])\n",
    "for c, cat_col in enumerate(cat_cols):\n",
    "    df_test[cat_col] = X_cat_test[:, c]\n"
   ]
  },
  {
   "cell_type": "code",
   "execution_count": 5,
   "id": "135dfab6",
   "metadata": {
    "execution": {
     "iopub.execute_input": "2024-07-17T18:34:02.479222Z",
     "iopub.status.busy": "2024-07-17T18:34:02.478803Z",
     "iopub.status.idle": "2024-07-17T18:34:03.760475Z",
     "shell.execute_reply": "2024-07-17T18:34:03.759227Z"
    },
    "papermill": {
     "duration": 1.290897,
     "end_time": "2024-07-17T18:34:03.763259",
     "exception": false,
     "start_time": "2024-07-17T18:34:02.472362",
     "status": "completed"
    },
    "tags": []
   },
   "outputs": [],
   "source": [
    "from sklearn.preprocessing import OrdinalEncoder\n",
    "from sklearn.metrics import roc_curve, auc, roc_auc_score\n",
    "from sklearn.model_selection import GroupKFold, StratifiedGroupKFold\n",
    "\n",
    "import lightgbm as lgb"
   ]
  },
  {
   "cell_type": "markdown",
   "id": "1b80892d",
   "metadata": {
    "papermill": {
     "duration": 0.004688,
     "end_time": "2024-07-17T18:34:03.772893",
     "exception": false,
     "start_time": "2024-07-17T18:34:03.768205",
     "status": "completed"
    },
    "tags": []
   },
   "source": [
    "#### Custom Training Metric\n"
   ]
  },
  {
   "cell_type": "code",
   "execution_count": 6,
   "id": "63593b4b",
   "metadata": {
    "execution": {
     "iopub.execute_input": "2024-07-17T18:34:03.784698Z",
     "iopub.status.busy": "2024-07-17T18:34:03.784105Z",
     "iopub.status.idle": "2024-07-17T18:34:03.792879Z",
     "shell.execute_reply": "2024-07-17T18:34:03.791501Z"
    },
    "papermill": {
     "duration": 0.017554,
     "end_time": "2024-07-17T18:34:03.795331",
     "exception": false,
     "start_time": "2024-07-17T18:34:03.777777",
     "status": "completed"
    },
    "tags": []
   },
   "outputs": [],
   "source": [
    "from sklearn.metrics import make_scorer, roc_auc_score\n",
    "\n",
    "# Custom scoring function\n",
    "def comp_score(solution: pd.DataFrame, submission: pd.DataFrame, row_id_column_name: str = '', min_tpr: float = 0.80):\n",
    "    v_gt = abs(np.asarray(solution.values) - 1)\n",
    "    v_pred = np.array([1.0 - x for x in submission.values])\n",
    "    max_fpr = abs(1 - min_tpr)\n",
    "    partial_auc_scaled = roc_auc_score(v_gt, v_pred, max_fpr=max_fpr)\n",
    "    partial_auc = 0.5 * max_fpr**2 + (max_fpr - 0.5 * max_fpr**2) / (1.0 - 0.5) * (partial_auc_scaled - 0.5)\n",
    "    return partial_auc\n",
    "\n",
    "# Wrapper function to be used with make_scorer\n",
    "def custom_scorer(y_true, y_pred):\n",
    "    return comp_score(pd.DataFrame(y_true), pd.DataFrame(y_pred))\n",
    "\n",
    "# Create the scorer\n",
    "scorer = make_scorer(custom_scorer, greater_is_better=True)\n"
   ]
  },
  {
   "cell_type": "markdown",
   "id": "e6b354d3",
   "metadata": {
    "papermill": {
     "duration": 0.004652,
     "end_time": "2024-07-17T18:34:03.805322",
     "exception": false,
     "start_time": "2024-07-17T18:34:03.800670",
     "status": "completed"
    },
    "tags": []
   },
   "source": [
    "### Main Training Loop"
   ]
  },
  {
   "cell_type": "code",
   "execution_count": 7,
   "id": "8093e004",
   "metadata": {
    "execution": {
     "iopub.execute_input": "2024-07-17T18:34:03.817008Z",
     "iopub.status.busy": "2024-07-17T18:34:03.816569Z",
     "iopub.status.idle": "2024-07-17T18:49:13.638214Z",
     "shell.execute_reply": "2024-07-17T18:49:13.636827Z"
    },
    "papermill": {
     "duration": 909.839925,
     "end_time": "2024-07-17T18:49:13.650169",
     "exception": false,
     "start_time": "2024-07-17T18:34:03.810244",
     "status": "completed"
    },
    "tags": []
   },
   "outputs": [
    {
     "name": "stderr",
     "output_type": "stream",
     "text": [
      "/opt/conda/lib/python3.10/site-packages/sklearn/model_selection/_search.py:305: UserWarning: The total space of parameters 1 is smaller than n_iter=50. Running 1 iterations. For exhaustive searches, use GridSearchCV.\n",
      "  warnings.warn(\n"
     ]
    },
    {
     "name": "stdout",
     "output_type": "stream",
     "text": [
      "Fitting 5 folds for each of 1 candidates, totalling 5 fits\n",
      "[LightGBM] [Warning] feature_fraction is set=1.0, colsample_bytree=1.0 will be ignored. Current value: feature_fraction=1.0\n",
      "[LightGBM] [Warning] lambda_l2 is set=0.8, reg_lambda=0.0 will be ignored. Current value: lambda_l2=0.8\n",
      "[LightGBM] [Warning] lambda_l1 is set=0.8, reg_alpha=0.0 will be ignored. Current value: lambda_l1=0.8\n",
      "[LightGBM] [Warning] bagging_fraction is set=1.0, subsample=1.0 will be ignored. Current value: bagging_fraction=1.0\n",
      "[LightGBM] [Warning] feature_fraction is set=1.0, colsample_bytree=1.0 will be ignored. Current value: feature_fraction=1.0\n",
      "[LightGBM] [Warning] lambda_l2 is set=0.8, reg_lambda=0.0 will be ignored. Current value: lambda_l2=0.8\n",
      "[LightGBM] [Warning] lambda_l1 is set=0.8, reg_alpha=0.0 will be ignored. Current value: lambda_l1=0.8\n",
      "[LightGBM] [Warning] bagging_fraction is set=1.0, subsample=1.0 will be ignored. Current value: bagging_fraction=1.0\n",
      "[LightGBM] [Info] Number of positive: 393, number of negative: 400666\n",
      "[LightGBM] [Info] Auto-choosing col-wise multi-threading, the overhead of testing was 0.330421 seconds.\n",
      "You can set `force_col_wise=true` to remove the overhead.\n",
      "[LightGBM] [Info] Total Bins 14898\n",
      "[LightGBM] [Info] Number of data points in the train set: 401059, number of used features: 65\n",
      "[LightGBM] [Info] [binary:BoostFromScore]: pavg=0.000980 -> initscore=-6.927074\n",
      "[LightGBM] [Info] Start training from score -6.927074\n",
      "Best parameters found:  {'num_leaves': 100, 'n_estimators': 500, 'learning_rate': 0.01, 'lambda_l2': 0.8, 'lambda_l1': 0.8, 'feature_fraction': 1.0, 'bagging_fraction': 1.0}\n",
      "Best cross-validation score:  0.15500282932198106\n",
      "[LightGBM] [Warning] feature_fraction is set=1.0, colsample_bytree=1.0 will be ignored. Current value: feature_fraction=1.0\n",
      "[LightGBM] [Warning] lambda_l2 is set=0.8, reg_lambda=0.0 will be ignored. Current value: lambda_l2=0.8\n",
      "[LightGBM] [Warning] lambda_l1 is set=0.8, reg_alpha=0.0 will be ignored. Current value: lambda_l1=0.8\n",
      "[LightGBM] [Warning] bagging_fraction is set=1.0, subsample=1.0 will be ignored. Current value: bagging_fraction=1.0\n",
      "[LightGBM] [Warning] feature_fraction is set=1.0, colsample_bytree=1.0 will be ignored. Current value: feature_fraction=1.0\n",
      "[LightGBM] [Warning] lambda_l2 is set=0.8, reg_lambda=0.0 will be ignored. Current value: lambda_l2=0.8\n",
      "[LightGBM] [Warning] lambda_l1 is set=0.8, reg_alpha=0.0 will be ignored. Current value: lambda_l1=0.8\n",
      "[LightGBM] [Warning] bagging_fraction is set=1.0, subsample=1.0 will be ignored. Current value: bagging_fraction=1.0\n",
      "[LightGBM] [Info] Number of positive: 393, number of negative: 400666\n",
      "[LightGBM] [Warning] feature_fraction is set=1.0, colsample_bytree=1.0 will be ignored. Current value: feature_fraction=1.0\n",
      "[LightGBM] [Warning] lambda_l2 is set=0.8, reg_lambda=0.0 will be ignored. Current value: lambda_l2=0.8\n",
      "[LightGBM] [Warning] lambda_l1 is set=0.8, reg_alpha=0.0 will be ignored. Current value: lambda_l1=0.8\n",
      "[LightGBM] [Warning] bagging_fraction is set=1.0, subsample=1.0 will be ignored. Current value: bagging_fraction=1.0\n",
      "[LightGBM] [Warning] feature_fraction is set=1.0, colsample_bytree=1.0 will be ignored. Current value: feature_fraction=1.0\n",
      "[LightGBM] [Warning] lambda_l2 is set=0.8, reg_lambda=0.0 will be ignored. Current value: lambda_l2=0.8\n",
      "[LightGBM] [Warning] lambda_l1 is set=0.8, reg_alpha=0.0 will be ignored. Current value: lambda_l1=0.8\n",
      "[LightGBM] [Warning] bagging_fraction is set=1.0, subsample=1.0 will be ignored. Current value: bagging_fraction=1.0\n",
      "[LightGBM] [Info] Number of positive: 313, number of negative: 320535\n",
      "[LightGBM] [Info] Auto-choosing col-wise multi-threading, the overhead of testing was 1.131014 seconds.\n",
      "You can set `force_col_wise=true` to remove the overhead.\n",
      "[LightGBM] [Info] Total Bins 14898\n",
      "[LightGBM] [Info] Number of data points in the train set: 320848, number of used features: 65\n",
      "[LightGBM] [Info] [binary:BoostFromScore]: pavg=0.000976 -> initscore=-6.931544\n",
      "[LightGBM] [Info] Start training from score -6.931544\n",
      "[LightGBM] [Warning] feature_fraction is set=1.0, colsample_bytree=1.0 will be ignored. Current value: feature_fraction=1.0\n",
      "[LightGBM] [Warning] lambda_l2 is set=0.8, reg_lambda=0.0 will be ignored. Current value: lambda_l2=0.8\n",
      "[LightGBM] [Warning] lambda_l1 is set=0.8, reg_alpha=0.0 will be ignored. Current value: lambda_l1=0.8\n",
      "[LightGBM] [Warning] bagging_fraction is set=1.0, subsample=1.0 will be ignored. Current value: bagging_fraction=1.0\n",
      "[LightGBM] [Info] Auto-choosing col-wise multi-threading, the overhead of testing was 0.766718 seconds.\n",
      "You can set `force_col_wise=true` to remove the overhead.\n",
      "[LightGBM] [Info] Total Bins 14898\n",
      "[LightGBM] [Info] Number of data points in the train set: 401059, number of used features: 65\n",
      "[LightGBM] [Info] [binary:BoostFromScore]: pavg=0.000980 -> initscore=-6.927074\n",
      "[LightGBM] [Info] Start training from score -6.927074\n",
      "[LightGBM] [Warning] feature_fraction is set=1.0, colsample_bytree=1.0 will be ignored. Current value: feature_fraction=1.0\n",
      "[LightGBM] [Warning] lambda_l2 is set=0.8, reg_lambda=0.0 will be ignored. Current value: lambda_l2=0.8\n",
      "[LightGBM] [Warning] lambda_l1 is set=0.8, reg_alpha=0.0 will be ignored. Current value: lambda_l1=0.8\n",
      "[LightGBM] [Warning] bagging_fraction is set=1.0, subsample=1.0 will be ignored. Current value: bagging_fraction=1.0\n",
      "[LightGBM] [Warning] feature_fraction is set=1.0, colsample_bytree=1.0 will be ignored. Current value: feature_fraction=1.0\n",
      "[LightGBM] [Warning] lambda_l2 is set=0.8, reg_lambda=0.0 will be ignored. Current value: lambda_l2=0.8\n",
      "[LightGBM] [Warning] lambda_l1 is set=0.8, reg_alpha=0.0 will be ignored. Current value: lambda_l1=0.8\n",
      "[LightGBM] [Warning] bagging_fraction is set=1.0, subsample=1.0 will be ignored. Current value: bagging_fraction=1.0\n",
      "[LightGBM] [Info] Number of positive: 316, number of negative: 320529\n",
      "[LightGBM] [Info] Auto-choosing col-wise multi-threading, the overhead of testing was 1.169904 seconds.\n",
      "You can set `force_col_wise=true` to remove the overhead.\n",
      "[LightGBM] [Info] Total Bins 14898\n",
      "[LightGBM] [Info] Number of data points in the train set: 320845, number of used features: 65\n",
      "[LightGBM] [Info] [binary:BoostFromScore]: pavg=0.000985 -> initscore=-6.921986\n",
      "[LightGBM] [Info] Start training from score -6.921986\n",
      "[LightGBM] [Warning] feature_fraction is set=1.0, colsample_bytree=1.0 will be ignored. Current value: feature_fraction=1.0\n",
      "[LightGBM] [Warning] lambda_l2 is set=0.8, reg_lambda=0.0 will be ignored. Current value: lambda_l2=0.8\n",
      "[LightGBM] [Warning] lambda_l1 is set=0.8, reg_alpha=0.0 will be ignored. Current value: lambda_l1=0.8\n",
      "[LightGBM] [Warning] bagging_fraction is set=1.0, subsample=1.0 will be ignored. Current value: bagging_fraction=1.0\n",
      "[LightGBM] [Warning] feature_fraction is set=1.0, colsample_bytree=1.0 will be ignored. Current value: feature_fraction=1.0\n",
      "[LightGBM] [Warning] lambda_l2 is set=0.8, reg_lambda=0.0 will be ignored. Current value: lambda_l2=0.8\n",
      "[LightGBM] [Warning] lambda_l1 is set=0.8, reg_alpha=0.0 will be ignored. Current value: lambda_l1=0.8\n",
      "[LightGBM] [Warning] bagging_fraction is set=1.0, subsample=1.0 will be ignored. Current value: bagging_fraction=1.0\n",
      "[LightGBM] [Warning] feature_fraction is set=1.0, colsample_bytree=1.0 will be ignored. Current value: feature_fraction=1.0\n",
      "[LightGBM] [Warning] lambda_l2 is set=0.8, reg_lambda=0.0 will be ignored. Current value: lambda_l2=0.8\n",
      "[LightGBM] [Warning] lambda_l1 is set=0.8, reg_alpha=0.0 will be ignored. Current value: lambda_l1=0.8\n",
      "[LightGBM] [Warning] bagging_fraction is set=1.0, subsample=1.0 will be ignored. Current value: bagging_fraction=1.0\n",
      "[LightGBM] [Info] Number of positive: 313, number of negative: 320535\n",
      "[LightGBM] [Info] Auto-choosing col-wise multi-threading, the overhead of testing was 1.135146 seconds.\n",
      "You can set `force_col_wise=true` to remove the overhead.\n",
      "[LightGBM] [Info] Total Bins 14898\n",
      "[LightGBM] [Info] Number of data points in the train set: 320848, number of used features: 65\n",
      "[LightGBM] [Info] [binary:BoostFromScore]: pavg=0.000976 -> initscore=-6.931544\n",
      "[LightGBM] [Info] Start training from score -6.931544\n",
      "[LightGBM] [Warning] feature_fraction is set=1.0, colsample_bytree=1.0 will be ignored. Current value: feature_fraction=1.0\n",
      "[LightGBM] [Warning] lambda_l2 is set=0.8, reg_lambda=0.0 will be ignored. Current value: lambda_l2=0.8\n",
      "[LightGBM] [Warning] lambda_l1 is set=0.8, reg_alpha=0.0 will be ignored. Current value: lambda_l1=0.8\n",
      "[LightGBM] [Warning] bagging_fraction is set=1.0, subsample=1.0 will be ignored. Current value: bagging_fraction=1.0\n",
      "[LightGBM] [Warning] feature_fraction is set=1.0, colsample_bytree=1.0 will be ignored. Current value: feature_fraction=1.0\n",
      "[LightGBM] [Warning] lambda_l2 is set=0.8, reg_lambda=0.0 will be ignored. Current value: lambda_l2=0.8\n",
      "[LightGBM] [Warning] lambda_l1 is set=0.8, reg_alpha=0.0 will be ignored. Current value: lambda_l1=0.8\n",
      "[LightGBM] [Warning] bagging_fraction is set=1.0, subsample=1.0 will be ignored. Current value: bagging_fraction=1.0\n",
      "[LightGBM] [Warning] feature_fraction is set=1.0, colsample_bytree=1.0 will be ignored. Current value: feature_fraction=1.0\n",
      "[LightGBM] [Warning] lambda_l2 is set=0.8, reg_lambda=0.0 will be ignored. Current value: lambda_l2=0.8\n",
      "[LightGBM] [Warning] lambda_l1 is set=0.8, reg_alpha=0.0 will be ignored. Current value: lambda_l1=0.8\n",
      "[LightGBM] [Warning] bagging_fraction is set=1.0, subsample=1.0 will be ignored. Current value: bagging_fraction=1.0\n",
      "[LightGBM] [Info] Number of positive: 315, number of negative: 320532\n",
      "[LightGBM] [Info] Auto-choosing col-wise multi-threading, the overhead of testing was 1.147873 seconds.\n",
      "You can set `force_col_wise=true` to remove the overhead.\n",
      "[LightGBM] [Info] Total Bins 14895\n",
      "[LightGBM] [Info] Number of data points in the train set: 320847, number of used features: 65\n",
      "[LightGBM] [Info] [binary:BoostFromScore]: pavg=0.000982 -> initscore=-6.925165\n",
      "[LightGBM] [Info] Start training from score -6.925165\n",
      "[LightGBM] [Warning] feature_fraction is set=1.0, colsample_bytree=1.0 will be ignored. Current value: feature_fraction=1.0\n",
      "[LightGBM] [Warning] lambda_l2 is set=0.8, reg_lambda=0.0 will be ignored. Current value: lambda_l2=0.8\n",
      "[LightGBM] [Warning] lambda_l1 is set=0.8, reg_alpha=0.0 will be ignored. Current value: lambda_l1=0.8\n",
      "[LightGBM] [Warning] bagging_fraction is set=1.0, subsample=1.0 will be ignored. Current value: bagging_fraction=1.0\n",
      "[LightGBM] [Warning] feature_fraction is set=1.0, colsample_bytree=1.0 will be ignored. Current value: feature_fraction=1.0\n",
      "[LightGBM] [Warning] lambda_l2 is set=0.8, reg_lambda=0.0 will be ignored. Current value: lambda_l2=0.8\n",
      "[LightGBM] [Warning] lambda_l1 is set=0.8, reg_alpha=0.0 will be ignored. Current value: lambda_l1=0.8\n",
      "[LightGBM] [Warning] bagging_fraction is set=1.0, subsample=1.0 will be ignored. Current value: bagging_fraction=1.0\n",
      "[LightGBM] [Warning] feature_fraction is set=1.0, colsample_bytree=1.0 will be ignored. Current value: feature_fraction=1.0\n",
      "[LightGBM] [Warning] lambda_l2 is set=0.8, reg_lambda=0.0 will be ignored. Current value: lambda_l2=0.8\n",
      "[LightGBM] [Warning] lambda_l1 is set=0.8, reg_alpha=0.0 will be ignored. Current value: lambda_l1=0.8\n",
      "[LightGBM] [Warning] bagging_fraction is set=1.0, subsample=1.0 will be ignored. Current value: bagging_fraction=1.0\n",
      "[LightGBM] [Info] Number of positive: 315, number of negative: 320533\n",
      "[LightGBM] [Info] Auto-choosing col-wise multi-threading, the overhead of testing was 0.450534 seconds.\n",
      "You can set `force_col_wise=true` to remove the overhead.\n",
      "[LightGBM] [Info] Total Bins 14898\n",
      "[LightGBM] [Info] Number of data points in the train set: 320848, number of used features: 65\n",
      "[LightGBM] [Info] [binary:BoostFromScore]: pavg=0.000982 -> initscore=-6.925168\n",
      "[LightGBM] [Info] Start training from score -6.925168\n",
      "[LightGBM] [Warning] feature_fraction is set=1.0, colsample_bytree=1.0 will be ignored. Current value: feature_fraction=1.0\n",
      "[LightGBM] [Warning] lambda_l2 is set=0.8, reg_lambda=0.0 will be ignored. Current value: lambda_l2=0.8\n",
      "[LightGBM] [Warning] lambda_l1 is set=0.8, reg_alpha=0.0 will be ignored. Current value: lambda_l1=0.8\n",
      "[LightGBM] [Warning] bagging_fraction is set=1.0, subsample=1.0 will be ignored. Current value: bagging_fraction=1.0\n"
     ]
    },
    {
     "data": {
      "text/html": [
       "<style>#sk-container-id-1 {color: black;background-color: white;}#sk-container-id-1 pre{padding: 0;}#sk-container-id-1 div.sk-toggleable {background-color: white;}#sk-container-id-1 label.sk-toggleable__label {cursor: pointer;display: block;width: 100%;margin-bottom: 0;padding: 0.3em;box-sizing: border-box;text-align: center;}#sk-container-id-1 label.sk-toggleable__label-arrow:before {content: \"▸\";float: left;margin-right: 0.25em;color: #696969;}#sk-container-id-1 label.sk-toggleable__label-arrow:hover:before {color: black;}#sk-container-id-1 div.sk-estimator:hover label.sk-toggleable__label-arrow:before {color: black;}#sk-container-id-1 div.sk-toggleable__content {max-height: 0;max-width: 0;overflow: hidden;text-align: left;background-color: #f0f8ff;}#sk-container-id-1 div.sk-toggleable__content pre {margin: 0.2em;color: black;border-radius: 0.25em;background-color: #f0f8ff;}#sk-container-id-1 input.sk-toggleable__control:checked~div.sk-toggleable__content {max-height: 200px;max-width: 100%;overflow: auto;}#sk-container-id-1 input.sk-toggleable__control:checked~label.sk-toggleable__label-arrow:before {content: \"▾\";}#sk-container-id-1 div.sk-estimator input.sk-toggleable__control:checked~label.sk-toggleable__label {background-color: #d4ebff;}#sk-container-id-1 div.sk-label input.sk-toggleable__control:checked~label.sk-toggleable__label {background-color: #d4ebff;}#sk-container-id-1 input.sk-hidden--visually {border: 0;clip: rect(1px 1px 1px 1px);clip: rect(1px, 1px, 1px, 1px);height: 1px;margin: -1px;overflow: hidden;padding: 0;position: absolute;width: 1px;}#sk-container-id-1 div.sk-estimator {font-family: monospace;background-color: #f0f8ff;border: 1px dotted black;border-radius: 0.25em;box-sizing: border-box;margin-bottom: 0.5em;}#sk-container-id-1 div.sk-estimator:hover {background-color: #d4ebff;}#sk-container-id-1 div.sk-parallel-item::after {content: \"\";width: 100%;border-bottom: 1px solid gray;flex-grow: 1;}#sk-container-id-1 div.sk-label:hover label.sk-toggleable__label {background-color: #d4ebff;}#sk-container-id-1 div.sk-serial::before {content: \"\";position: absolute;border-left: 1px solid gray;box-sizing: border-box;top: 0;bottom: 0;left: 50%;z-index: 0;}#sk-container-id-1 div.sk-serial {display: flex;flex-direction: column;align-items: center;background-color: white;padding-right: 0.2em;padding-left: 0.2em;position: relative;}#sk-container-id-1 div.sk-item {position: relative;z-index: 1;}#sk-container-id-1 div.sk-parallel {display: flex;align-items: stretch;justify-content: center;background-color: white;position: relative;}#sk-container-id-1 div.sk-item::before, #sk-container-id-1 div.sk-parallel-item::before {content: \"\";position: absolute;border-left: 1px solid gray;box-sizing: border-box;top: 0;bottom: 0;left: 50%;z-index: -1;}#sk-container-id-1 div.sk-parallel-item {display: flex;flex-direction: column;z-index: 1;position: relative;background-color: white;}#sk-container-id-1 div.sk-parallel-item:first-child::after {align-self: flex-end;width: 50%;}#sk-container-id-1 div.sk-parallel-item:last-child::after {align-self: flex-start;width: 50%;}#sk-container-id-1 div.sk-parallel-item:only-child::after {width: 0;}#sk-container-id-1 div.sk-dashed-wrapped {border: 1px dashed gray;margin: 0 0.4em 0.5em 0.4em;box-sizing: border-box;padding-bottom: 0.4em;background-color: white;}#sk-container-id-1 div.sk-label label {font-family: monospace;font-weight: bold;display: inline-block;line-height: 1.2em;}#sk-container-id-1 div.sk-label-container {text-align: center;}#sk-container-id-1 div.sk-container {/* jupyter's `normalize.less` sets `[hidden] { display: none; }` but bootstrap.min.css set `[hidden] { display: none !important; }` so we also need the `!important` here to be able to override the default hidden behavior on the sphinx rendered scikit-learn.org. See: https://github.com/scikit-learn/scikit-learn/issues/21755 */display: inline-block !important;position: relative;}#sk-container-id-1 div.sk-text-repr-fallback {display: none;}</style><div id=\"sk-container-id-1\" class=\"sk-top-container\"><div class=\"sk-text-repr-fallback\"><pre>LGBMRegressor(bagging_fraction=1.0, feature_fraction=1.0, lambda_l1=0.8,\n",
       "              lambda_l2=0.8, learning_rate=0.01, n_estimators=500,\n",
       "              num_leaves=100, objective=&#x27;binary&#x27;, random_state=42)</pre><b>In a Jupyter environment, please rerun this cell to show the HTML representation or trust the notebook. <br />On GitHub, the HTML representation is unable to render, please try loading this page with nbviewer.org.</b></div><div class=\"sk-container\" hidden><div class=\"sk-item\"><div class=\"sk-estimator sk-toggleable\"><input class=\"sk-toggleable__control sk-hidden--visually\" id=\"sk-estimator-id-1\" type=\"checkbox\" checked><label for=\"sk-estimator-id-1\" class=\"sk-toggleable__label sk-toggleable__label-arrow\">LGBMRegressor</label><div class=\"sk-toggleable__content\"><pre>LGBMRegressor(bagging_fraction=1.0, feature_fraction=1.0, lambda_l1=0.8,\n",
       "              lambda_l2=0.8, learning_rate=0.01, n_estimators=500,\n",
       "              num_leaves=100, objective=&#x27;binary&#x27;, random_state=42)</pre></div></div></div></div></div>"
      ],
      "text/plain": [
       "LGBMRegressor(bagging_fraction=1.0, feature_fraction=1.0, lambda_l1=0.8,\n",
       "              lambda_l2=0.8, learning_rate=0.01, n_estimators=500,\n",
       "              num_leaves=100, objective='binary', random_state=42)"
      ]
     },
     "execution_count": 7,
     "metadata": {},
     "output_type": "execute_result"
    }
   ],
   "source": [
    "from sklearn.model_selection import GroupKFold, GridSearchCV\n",
    "import lightgbm as lgb\n",
    "from sklearn.model_selection import RandomizedSearchCV\n",
    "\n",
    "# # Define the parameter distribution\n",
    "# param_dist = {\n",
    "#     'n_estimators': [500, 1000],\n",
    "#     'learning_rate': [0.01, 0.05, 0.1],\n",
    "#     'num_leaves': [31, 50, 100],\n",
    "#     'feature_fraction': [0.8, 0.9, 1.0],\n",
    "#     'bagging_fraction': [0.8, 0.9, 1.0],\n",
    "#     'lambda_l1': [0.0, 0.8, 1.0],\n",
    "#     'lambda_l2': [0.0, 0.8, 1.0]\n",
    "# }\n",
    "\n",
    "param_dist = {\n",
    "    'n_estimators': [500],\n",
    "    'learning_rate': [0.01],\n",
    "    'num_leaves': [100],\n",
    "    'feature_fraction': [1.0],\n",
    "    'bagging_fraction': [1.0],\n",
    "    'lambda_l1': [0.8],\n",
    "    'lambda_l2': [0.8]\n",
    "}\n",
    "\n",
    "\n",
    "# Initialize the model\n",
    "model = lgb.LGBMRegressor(objective='binary', random_state=42)\n",
    "\n",
    "# GroupKFold Cross-Validation\n",
    "gkf = GroupKFold(n_splits=5)\n",
    "df_train[\"fold\"] = -1\n",
    "for idx, (train_idx, val_idx) in enumerate(gkf.split(df_train, df_train[\"target\"], groups=df_train[\"patient_id\"])):\n",
    "    df_train.loc[val_idx, \"fold\"] = idx\n",
    "\n",
    "# Perform randomized search with cross-validation, passing the groups parameter\n",
    "random_search = RandomizedSearchCV(estimator=model, param_distributions=param_dist, n_iter=50, cv=gkf, scoring=scorer, verbose=1, n_jobs=-1)\n",
    "random_search.fit(df_train[train_cols], df_train[\"target\"], groups=df_train[\"patient_id\"])\n",
    "\n",
    "# Print the best parameters and score\n",
    "print(\"Best parameters found: \", random_search.best_params_)\n",
    "print(\"Best cross-validation score: \", random_search.best_score_)\n",
    "\n",
    "# Train the final model with the best parameters\n",
    "best_params = random_search.best_params_\n",
    "final_model = lgb.LGBMRegressor(**best_params, objective='binary', random_state=42)\n",
    "final_model.fit(df_train[train_cols], df_train[\"target\"])\n",
    "\n"
   ]
  },
  {
   "cell_type": "code",
   "execution_count": 8,
   "id": "1b6c3d9d",
   "metadata": {
    "execution": {
     "iopub.execute_input": "2024-07-17T18:49:13.665147Z",
     "iopub.status.busy": "2024-07-17T18:49:13.664652Z",
     "iopub.status.idle": "2024-07-17T18:49:13.670308Z",
     "shell.execute_reply": "2024-07-17T18:49:13.669138Z"
    },
    "papermill": {
     "duration": 0.016628,
     "end_time": "2024-07-17T18:49:13.673204",
     "exception": false,
     "start_time": "2024-07-17T18:49:13.656576",
     "status": "completed"
    },
    "tags": []
   },
   "outputs": [],
   "source": [
    "# If we want to create a validation dataset:\n",
    "# # Make sure df_test has the target column if it doesn't exist\n",
    "# # Assuming df_test_target is available with true target values for the test set\n",
    "# df_test['target'] = df_test_target  # Replace df_test_target with actual target values for df_test\n",
    "\n",
    "# # Validate the final model\n",
    "# final_preds = final_model.predict(df_test[train_cols])\n",
    "# final_score = comp_score(df_test[[\"target\"]], pd.DataFrame(final_preds, columns=[\"prediction\"]))\n",
    "# print(f\"Final Partial AUC Score: {final_score:.5f}\")\n",
    "\n"
   ]
  },
  {
   "cell_type": "code",
   "execution_count": 9,
   "id": "a3b0f497",
   "metadata": {
    "execution": {
     "iopub.execute_input": "2024-07-17T18:49:13.691765Z",
     "iopub.status.busy": "2024-07-17T18:49:13.691227Z",
     "iopub.status.idle": "2024-07-17T18:49:13.908693Z",
     "shell.execute_reply": "2024-07-17T18:49:13.907034Z"
    },
    "papermill": {
     "duration": 0.230002,
     "end_time": "2024-07-17T18:49:13.912861",
     "exception": false,
     "start_time": "2024-07-17T18:49:13.682859",
     "status": "completed"
    },
    "tags": []
   },
   "outputs": [
    {
     "name": "stdout",
     "output_type": "stream",
     "text": [
      "Model saved as final_model.pkl\n"
     ]
    }
   ],
   "source": [
    "# Save the final model\n",
    "import joblib\n",
    "joblib.dump(final_model, 'final_model.pkl')\n",
    "print(\"Model saved as final_model.pkl\")"
   ]
  },
  {
   "cell_type": "code",
   "execution_count": 10,
   "id": "6d9de14f",
   "metadata": {
    "execution": {
     "iopub.execute_input": "2024-07-17T18:49:13.935386Z",
     "iopub.status.busy": "2024-07-17T18:49:13.934960Z",
     "iopub.status.idle": "2024-07-17T18:49:14.003945Z",
     "shell.execute_reply": "2024-07-17T18:49:14.002504Z"
    },
    "papermill": {
     "duration": 0.083546,
     "end_time": "2024-07-17T18:49:14.007047",
     "exception": false,
     "start_time": "2024-07-17T18:49:13.923501",
     "status": "completed"
    },
    "tags": []
   },
   "outputs": [
    {
     "name": "stdout",
     "output_type": "stream",
     "text": [
      "Model loaded from final_model.pkl\n"
     ]
    }
   ],
   "source": [
    "# Load the saved model\n",
    "model_path = 'final_model.pkl'\n",
    "final_model = joblib.load(model_path)\n",
    "print(\"Model loaded from final_model.pkl\")\n",
    "\n",
    "# Load the sample submission file\n",
    "submission_path = '/kaggle/input/isic-2024-challenge/sample_submission.csv'\n",
    "submission = pd.read_csv(submission_path)\n",
    "\n"
   ]
  },
  {
   "cell_type": "code",
   "execution_count": 11,
   "id": "67078b80",
   "metadata": {
    "execution": {
     "iopub.execute_input": "2024-07-17T18:49:14.031584Z",
     "iopub.status.busy": "2024-07-17T18:49:14.031114Z",
     "iopub.status.idle": "2024-07-17T18:49:14.064743Z",
     "shell.execute_reply": "2024-07-17T18:49:14.063117Z"
    },
    "papermill": {
     "duration": 0.050484,
     "end_time": "2024-07-17T18:49:14.067395",
     "exception": false,
     "start_time": "2024-07-17T18:49:14.016911",
     "status": "completed"
    },
    "tags": []
   },
   "outputs": [
    {
     "name": "stdout",
     "output_type": "stream",
     "text": [
      "[LightGBM] [Warning] feature_fraction is set=1.0, colsample_bytree=1.0 will be ignored. Current value: feature_fraction=1.0\n",
      "[LightGBM] [Warning] lambda_l2 is set=0.8, reg_lambda=0.0 will be ignored. Current value: lambda_l2=0.8\n",
      "[LightGBM] [Warning] lambda_l1 is set=0.8, reg_alpha=0.0 will be ignored. Current value: lambda_l1=0.8\n",
      "[LightGBM] [Warning] bagging_fraction is set=1.0, subsample=1.0 will be ignored. Current value: bagging_fraction=1.0\n",
      "Predictions saved to submission.csv\n"
     ]
    }
   ],
   "source": [
    "# Extract 'isic_id' from the sample submission to align with df_test\n",
    "isic_ids = submission['isic_id']\n",
    "\n",
    "# Filter df_test to include only the rows with the 'isic_id' present in the submission\n",
    "df_test = df_test[df_test['isic_id'].isin(isic_ids)]\n",
    "\n",
    "# Ensure the order of df_test matches the order of isic_ids in the submission\n",
    "df_test = df_test.set_index('isic_id').loc[isic_ids].reset_index()\n",
    "\n",
    "# Drop the 'isic_id' column for predictions\n",
    "df_test_features = df_test[train_cols]\n",
    "\n",
    "# Make predictions\n",
    "predictions = final_model.predict(df_test_features)\n",
    "\n",
    "# Save the predictions in the required format\n",
    "submission['target'] = predictions\n",
    "submission.to_csv('submission.csv', index=False)\n",
    "\n",
    "print(\"Predictions saved to submission.csv\")"
   ]
  },
  {
   "cell_type": "code",
   "execution_count": 12,
   "id": "106cc5e2",
   "metadata": {
    "execution": {
     "iopub.execute_input": "2024-07-17T18:49:14.082400Z",
     "iopub.status.busy": "2024-07-17T18:49:14.081876Z",
     "iopub.status.idle": "2024-07-17T18:49:14.101988Z",
     "shell.execute_reply": "2024-07-17T18:49:14.100627Z"
    },
    "papermill": {
     "duration": 0.0309,
     "end_time": "2024-07-17T18:49:14.104661",
     "exception": false,
     "start_time": "2024-07-17T18:49:14.073761",
     "status": "completed"
    },
    "tags": []
   },
   "outputs": [
    {
     "data": {
      "text/html": [
       "<div>\n",
       "<style scoped>\n",
       "    .dataframe tbody tr th:only-of-type {\n",
       "        vertical-align: middle;\n",
       "    }\n",
       "\n",
       "    .dataframe tbody tr th {\n",
       "        vertical-align: top;\n",
       "    }\n",
       "\n",
       "    .dataframe thead th {\n",
       "        text-align: right;\n",
       "    }\n",
       "</style>\n",
       "<table border=\"1\" class=\"dataframe\">\n",
       "  <thead>\n",
       "    <tr style=\"text-align: right;\">\n",
       "      <th></th>\n",
       "      <th>isic_id</th>\n",
       "      <th>target</th>\n",
       "    </tr>\n",
       "  </thead>\n",
       "  <tbody>\n",
       "    <tr>\n",
       "      <th>0</th>\n",
       "      <td>ISIC_0015657</td>\n",
       "      <td>0.000064</td>\n",
       "    </tr>\n",
       "    <tr>\n",
       "      <th>1</th>\n",
       "      <td>ISIC_0015729</td>\n",
       "      <td>0.000026</td>\n",
       "    </tr>\n",
       "    <tr>\n",
       "      <th>2</th>\n",
       "      <td>ISIC_0015740</td>\n",
       "      <td>0.000087</td>\n",
       "    </tr>\n",
       "  </tbody>\n",
       "</table>\n",
       "</div>"
      ],
      "text/plain": [
       "        isic_id    target\n",
       "0  ISIC_0015657  0.000064\n",
       "1  ISIC_0015729  0.000026\n",
       "2  ISIC_0015740  0.000087"
      ]
     },
     "execution_count": 12,
     "metadata": {},
     "output_type": "execute_result"
    }
   ],
   "source": [
    "submission"
   ]
  },
  {
   "cell_type": "code",
   "execution_count": null,
   "id": "ef481302",
   "metadata": {
    "execution": {
     "iopub.execute_input": "2024-07-17T18:23:28.275303Z",
     "iopub.status.busy": "2024-07-17T18:23:28.274865Z",
     "iopub.status.idle": "2024-07-17T18:23:28.287672Z",
     "shell.execute_reply": "2024-07-17T18:23:28.286676Z",
     "shell.execute_reply.started": "2024-07-17T18:23:28.275267Z"
    },
    "papermill": {
     "duration": 0.006326,
     "end_time": "2024-07-17T18:49:14.117649",
     "exception": false,
     "start_time": "2024-07-17T18:49:14.111323",
     "status": "completed"
    },
    "tags": []
   },
   "outputs": [],
   "source": []
  },
  {
   "cell_type": "code",
   "execution_count": null,
   "id": "f31fecd8",
   "metadata": {
    "papermill": {
     "duration": 0.006245,
     "end_time": "2024-07-17T18:49:14.130891",
     "exception": false,
     "start_time": "2024-07-17T18:49:14.124646",
     "status": "completed"
    },
    "tags": []
   },
   "outputs": [],
   "source": []
  }
 ],
 "metadata": {
  "kaggle": {
   "accelerator": "none",
   "dataSources": [
    {
     "databundleVersionId": 9094797,
     "sourceId": 63056,
     "sourceType": "competition"
    }
   ],
   "dockerImageVersionId": 30746,
   "isGpuEnabled": false,
   "isInternetEnabled": false,
   "language": "python",
   "sourceType": "notebook"
  },
  "kernelspec": {
   "display_name": "Python 3",
   "language": "python",
   "name": "python3"
  },
  "language_info": {
   "codemirror_mode": {
    "name": "ipython",
    "version": 3
   },
   "file_extension": ".py",
   "mimetype": "text/x-python",
   "name": "python",
   "nbconvert_exporter": "python",
   "pygments_lexer": "ipython3",
   "version": "3.10.13"
  },
  "papermill": {
   "default_parameters": {},
   "duration": 929.003668,
   "end_time": "2024-07-17T18:49:16.761837",
   "environment_variables": {},
   "exception": null,
   "input_path": "__notebook__.ipynb",
   "output_path": "__notebook__.ipynb",
   "parameters": {},
   "start_time": "2024-07-17T18:33:47.758169",
   "version": "2.5.0"
  }
 },
 "nbformat": 4,
 "nbformat_minor": 5
}
