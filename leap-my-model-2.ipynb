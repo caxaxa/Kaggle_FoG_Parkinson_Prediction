{
 "cells": [
  {
   "cell_type": "code",
   "execution_count": 1,
   "id": "56e84869",
   "metadata": {
    "_cell_guid": "b1076dfc-b9ad-4769-8c92-a6c4dae69d19",
    "_uuid": "8f2839f25d086af736a60e9eeb907d3b93b6e0e5",
    "execution": {
     "iopub.execute_input": "2024-06-13T00:14:52.196603Z",
     "iopub.status.busy": "2024-06-13T00:14:52.196089Z",
     "iopub.status.idle": "2024-06-13T00:14:53.278520Z",
     "shell.execute_reply": "2024-06-13T00:14:53.276664Z"
    },
    "papermill": {
     "duration": 1.090579,
     "end_time": "2024-06-13T00:14:53.281746",
     "exception": false,
     "start_time": "2024-06-13T00:14:52.191167",
     "status": "completed"
    },
    "tags": []
   },
   "outputs": [
    {
     "name": "stdout",
     "output_type": "stream",
     "text": [
      "/kaggle/input/leap-atmospheric-physics-ai-climsim/sample_submission.csv\n",
      "/kaggle/input/leap-atmospheric-physics-ai-climsim/train.csv\n",
      "/kaggle/input/leap-atmospheric-physics-ai-climsim/test.csv\n",
      "/kaggle/input/leap-dataset-giba-part-2/train_batch/9.parquet\n",
      "/kaggle/input/leap-dataset-giba-part-2/train_batch/15.parquet\n",
      "/kaggle/input/leap-dataset-giba-part-2/train_batch/11.parquet\n",
      "/kaggle/input/leap-dataset-giba-part-2/train_batch/16.parquet\n",
      "/kaggle/input/leap-dataset-giba-part-2/train_batch/14.parquet\n",
      "/kaggle/input/leap-dataset-giba-part-2/train_batch/8.parquet\n",
      "/kaggle/input/leap-dataset-giba-part-2/train_batch/12.parquet\n",
      "/kaggle/input/leap-dataset-giba-part-2/train_batch/13.parquet\n",
      "/kaggle/input/leap-dataset-giba-part-2/train_batch/10.parquet\n",
      "/kaggle/input/leap-dataset-giba/train_batch/4.parquet\n",
      "/kaggle/input/leap-dataset-giba/train_batch/3.parquet\n",
      "/kaggle/input/leap-dataset-giba/train_batch/0.parquet\n",
      "/kaggle/input/leap-dataset-giba/train_batch/5.parquet\n",
      "/kaggle/input/leap-dataset-giba/train_batch/1.parquet\n",
      "/kaggle/input/leap-dataset-giba/train_batch/2.parquet\n",
      "/kaggle/input/leap-dataset-giba/train_batch/7.parquet\n",
      "/kaggle/input/leap-dataset-giba/train_batch/6.parquet\n",
      "/kaggle/input/leap-dataset-giba/test_batch/0.parquet\n"
     ]
    }
   ],
   "source": [
    "# This Python 3 environment comes with many helpful analytics libraries installed\n",
    "# It is defined by the kaggle/python Docker image: https://github.com/kaggle/docker-python\n",
    "# For example, here's several helpful packages to load\n",
    "\n",
    "import numpy as np # linear algebra\n",
    "import pandas as pd # data processing, CSV file I/O (e.g. pd.read_csv)\n",
    "\n",
    "# Input data files are available in the read-only \"../input/\" directory\n",
    "# For example, running this (by clicking run or pressing Shift+Enter) will list all files under the input directory\n",
    "\n",
    "import os\n",
    "for dirname, _, filenames in os.walk('/kaggle/input'):\n",
    "    for filename in filenames:\n",
    "        print(os.path.join(dirname, filename))\n",
    "\n",
    "# You can write up to 20GB to the current directory (/kaggle/working/) that gets preserved as output when you create a version using \"Save & Run All\" \n",
    "# You can also write temporary files to /kaggle/temp/, but they won't be saved outside of the current session"
   ]
  },
  {
   "cell_type": "code",
   "execution_count": null,
   "id": "5f276b7e",
   "metadata": {
    "papermill": {
     "duration": 0.002364,
     "end_time": "2024-06-13T00:14:53.287102",
     "exception": false,
     "start_time": "2024-06-13T00:14:53.284738",
     "status": "completed"
    },
    "tags": []
   },
   "outputs": [],
   "source": []
  }
 ],
 "metadata": {
  "kaggle": {
   "accelerator": "none",
   "dataSources": [
    {
     "databundleVersionId": 8015876,
     "sourceId": 56537,
     "sourceType": "competition"
    },
    {
     "datasetId": 4865495,
     "sourceId": 8425368,
     "sourceType": "datasetVersion"
    },
    {
     "datasetId": 5016247,
     "sourceId": 8426564,
     "sourceType": "datasetVersion"
    }
   ],
   "dockerImageVersionId": 30732,
   "isGpuEnabled": false,
   "isInternetEnabled": true,
   "language": "python",
   "sourceType": "notebook"
  },
  "kernelspec": {
   "display_name": "Python 3",
   "language": "python",
   "name": "python3"
  },
  "language_info": {
   "codemirror_mode": {
    "name": "ipython",
    "version": 3
   },
   "file_extension": ".py",
   "mimetype": "text/x-python",
   "name": "python",
   "nbconvert_exporter": "python",
   "pygments_lexer": "ipython3",
   "version": "3.10.13"
  },
  "papermill": {
   "default_parameters": {},
   "duration": 5.276412,
   "end_time": "2024-06-13T00:14:54.014151",
   "environment_variables": {},
   "exception": null,
   "input_path": "__notebook__.ipynb",
   "output_path": "__notebook__.ipynb",
   "parameters": {},
   "start_time": "2024-06-13T00:14:48.737739",
   "version": "2.5.0"
  }
 },
 "nbformat": 4,
 "nbformat_minor": 5
}
