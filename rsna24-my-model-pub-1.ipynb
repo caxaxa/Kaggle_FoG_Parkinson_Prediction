{
 "cells": [
  {
   "cell_type": "markdown",
   "id": "bcec494d",
   "metadata": {
    "_cell_guid": "b1076dfc-b9ad-4769-8c92-a6c4dae69d19",
    "_uuid": "8f2839f25d086af736a60e9eeb907d3b93b6e0e5",
    "papermill": {
     "duration": 0.008678,
     "end_time": "2024-07-09T17:52:18.266324",
     "exception": false,
     "start_time": "2024-07-09T17:52:18.257646",
     "status": "completed"
    },
    "tags": []
   },
   "source": [
    "# RSNA2024 LSDC Submission Baseline\n",
    "This notebook is forked [here](https://www.kaggle.com/code/itsuki9180/rsna2024-lsdc-submission-baseline). In the [previous notebook](https://www.kaggle.com/code/itsuki9180/rsna2024-lsdc-making-dataset), the author selected the images we wanted to use and exported them to png.The original notebook training. And the original other trained EfficientNet_B4 model with these images. \n",
    "\n",
    "I desided to change the model to see if there is any improvement. The reason why I choose DenseNet201 for training is that DenseNet201 has generally same number of parameters and size with EfficientNet_B4 so that I believe that Kaggle GPU could handle it and we don't need extra machine.\n",
    "\n",
    "### My other Notebooks\n",
    "- [RSNA2024 LSDC Making Dataset](https://www.kaggle.com/code/itsuki9180/rsna2024-lsdc-making-dataset) \n",
    "- [RSNA2024 LSDC Training DenseNet](https://www.kaggle.com/code/hugowjd/rsna2024-lsdc-training-densenet) \n",
    "- [RSNA2024 LSDC Submission DenseNet](https://www.kaggle.com/code/hugowjd/rsna2024-lsdc-densenet-submission) <- you're reading now\n",
    "\n",
    "### Reference:\n",
    "* [Huang, G., Liu, Z., Van Der Maaten, L., and Weinberger, K. Q. Densely connected convolutional networks. CVPR, 2017.](https://arxiv.org/abs/1608.06993)\n",
    "* [Mingxing Tan and Quoc V. Le. EfficientNet: Rethinking Model Scaling for Convolutional Neural Networks. ICML 2019.](https://arxiv.org/abs/1905.11946)\n",
    "\n",
    "### Future Improvement\n",
    "* I'm certain that we can run other models to train these images. We can do it by changing ***MODEL_NAME*** parameters in **Config** session. I would list some CNN models which are suitable for image classification and these numbers of parameters.\n",
    "  * ResNet:\n",
    "    * ResNet-18: ~11.7 million parameters\n",
    "    * **ResNet-34: ~21.8 million parameters**\n",
    "    * **ResNet-50: ~25.6 million parameters**\n",
    "    * ResNet-101: ~44.5 million parameters\n",
    "    * ResNet-152: ~60 million parameters\n",
    "  * VGG:\n",
    "    * VGG-16: ~138 million parameters\n",
    "    * VGG-19: ~143 million parameters\n",
    "  * Inception Networks:\n",
    "    * Inception v1 (GoogleNet): ~6.8 million parameters\n",
    "    * Inception v3: ~23.8 million parameters\n",
    "  * DenseNet:\n",
    "    * DenseNet-121: ~8 million parameters\n",
    "    * **DenseNet-169: ~14 million parameters**\n",
    "        * Waiting to do\n",
    "    * **DenseNet-201: ~20 million parameters** \n",
    "        * My Submission LB: 0.61\n",
    "        * [10 folds submission LB](https://www.kaggle.com/code/sadidul012/densenet201-submission): 0.6\n",
    "    * **DenseNet-161: ~28.7 million parameters**\n",
    "        * 10 folds(This notebook V9): 0.59\n",
    "    * DenseNet-264: ~33 million parameters\n",
    "  * MobileNets (parameters can vary significantly with changes in alpha and resolution multipliers):\n",
    "    * MobileNetV1 (1.0 224): ~4.2 million parameters\n",
    "    * MobileNetV2 (1.0 224): ~3.5 million parameters\n",
    "    * MobileNetV3 Large: ~5.4 million parameters\n",
    "  * Vision Transformers (ViT):\n",
    "    * ViT-B/16 (base model with patch size 16x16): ~86 million parameters\n",
    "  * Xception:\n",
    "    * **Xception: ~22.9 million parameters**\n",
    "        * my test LB : 0.66\n",
    "  * EfficientNet\n",
    "    * EfficientNet-B0: ~5.3 million parameters\n",
    "    * EfficientNet-B1: ~7.8 million parameters\n",
    "    * EfficientNet-B2: ~9.2 million parameters\n",
    "        * [EFNetV2 LB](https://www.kaggle.com/code/shubhamcodez/rsna-efficientnet-starter-notebook): 1.01 \n",
    "    * EfficientNet-B3: ~12 million parameters\n",
    "        * [Original Notebook](https://www.kaggle.com/code/itsuki9180/rsna2024-lsdc-submission-baseline) LB: 0.69\n",
    "    * **EfficientNet-B4: ~19 million parameters**\n",
    "        * [Original Notebook](https://www.kaggle.com/code/itsuki9180/rsna2024-lsdc-submission-baseline) LB: 0.70\n",
    "    * EfficientNet-B5: ~30 million parameters\n",
    "    * EfficientNet-B6: ~43 million parameters\n",
    "    * EfficientNet-B7: ~66 million parameters\n",
    "* The original author said that we can improve the dataset making process\n",
    "* I only trained 5 **folds** and 10 **epochs**, you can modify these parameters. But take care of overfitting."
   ]
  },
  {
   "cell_type": "markdown",
   "id": "9f1375f0",
   "metadata": {
    "papermill": {
     "duration": 0.007536,
     "end_time": "2024-07-09T17:52:18.281735",
     "exception": false,
     "start_time": "2024-07-09T17:52:18.274199",
     "status": "completed"
    },
    "tags": []
   },
   "source": [
    "# Import Libralies"
   ]
  },
  {
   "cell_type": "code",
   "execution_count": 1,
   "id": "b77de831",
   "metadata": {
    "execution": {
     "iopub.execute_input": "2024-07-09T17:52:18.300258Z",
     "iopub.status.busy": "2024-07-09T17:52:18.299407Z",
     "iopub.status.idle": "2024-07-09T17:52:26.909849Z",
     "shell.execute_reply": "2024-07-09T17:52:26.908844Z"
    },
    "papermill": {
     "duration": 8.622292,
     "end_time": "2024-07-09T17:52:26.912275",
     "exception": false,
     "start_time": "2024-07-09T17:52:18.289983",
     "status": "completed"
    },
    "tags": []
   },
   "outputs": [],
   "source": [
    "import os\n",
    "import gc\n",
    "import sys\n",
    "from PIL import Image\n",
    "import cv2\n",
    "import math, random\n",
    "import numpy as np\n",
    "import pandas as pd\n",
    "from glob import glob\n",
    "from tqdm import tqdm\n",
    "import matplotlib.pyplot as plt\n",
    "from sklearn.model_selection import KFold\n",
    "\n",
    "from collections import OrderedDict\n",
    "\n",
    "import torch\n",
    "import torch.nn.functional as F\n",
    "from torch import nn\n",
    "from torch.utils.data import DataLoader, Dataset\n",
    "from torch.optim import AdamW\n",
    "\n",
    "import timm\n",
    "from timm.utils import ModelEmaV2\n",
    "from transformers import get_cosine_schedule_with_warmup\n",
    "\n",
    "import albumentations as A\n",
    "\n",
    "from sklearn.model_selection import KFold\n",
    "\n",
    "import re\n",
    "import pydicom"
   ]
  },
  {
   "cell_type": "code",
   "execution_count": 2,
   "id": "c7a7c5e3",
   "metadata": {
    "execution": {
     "iopub.execute_input": "2024-07-09T17:52:26.930325Z",
     "iopub.status.busy": "2024-07-09T17:52:26.929860Z",
     "iopub.status.idle": "2024-07-09T17:52:26.933909Z",
     "shell.execute_reply": "2024-07-09T17:52:26.933059Z"
    },
    "papermill": {
     "duration": 0.015384,
     "end_time": "2024-07-09T17:52:26.935865",
     "exception": false,
     "start_time": "2024-07-09T17:52:26.920481",
     "status": "completed"
    },
    "tags": []
   },
   "outputs": [],
   "source": [
    "rd = '/kaggle/input/rsna-2024-lumbar-spine-degenerative-classification'"
   ]
  },
  {
   "cell_type": "markdown",
   "id": "c0dfd3b7",
   "metadata": {
    "papermill": {
     "duration": 0.008114,
     "end_time": "2024-07-09T17:52:26.951798",
     "exception": false,
     "start_time": "2024-07-09T17:52:26.943684",
     "status": "completed"
    },
    "tags": []
   },
   "source": [
    "# Config"
   ]
  },
  {
   "cell_type": "code",
   "execution_count": 3,
   "id": "3e69c391",
   "metadata": {
    "execution": {
     "iopub.execute_input": "2024-07-09T17:52:26.968957Z",
     "iopub.status.busy": "2024-07-09T17:52:26.968657Z",
     "iopub.status.idle": "2024-07-09T17:52:27.051205Z",
     "shell.execute_reply": "2024-07-09T17:52:27.050367Z"
    },
    "papermill": {
     "duration": 0.093486,
     "end_time": "2024-07-09T17:52:27.053174",
     "exception": false,
     "start_time": "2024-07-09T17:52:26.959688",
     "status": "completed"
    },
    "tags": []
   },
   "outputs": [],
   "source": [
    "DENSE201_DIR = f'/kaggle/input/densenet-weights-for-rsna-2024/'\n",
    "DENSE161_DIR = f'/kaggle/input/densenet161-weights-rsna2024/'\n",
    "device = 'cuda:0' if torch.cuda.is_available() else 'cpu'\n",
    "N_WORKERS = os.cpu_count()\n",
    "USE_AMP = True\n",
    "SEED = 8620\n",
    "\n",
    "IMG_SIZE = [512, 512]\n",
    "IN_CHANS = 30\n",
    "N_LABELS = 25\n",
    "N_CLASSES = 3 * N_LABELS\n",
    "\n",
    "N_FOLDS = 5\n",
    "\n",
    "# MODEL_NAME = \"tf_efficientnet_b4.ns_jft_in1k\"\n",
    "# DENSE_MODEL_NAME = \"densenet201\"\n",
    "DENSE_MODEL_NAME = 'densenet161.tv_in1k'\n",
    "BATCH_SIZE = 1"
   ]
  },
  {
   "cell_type": "code",
   "execution_count": 4,
   "id": "4179f94e",
   "metadata": {
    "execution": {
     "iopub.execute_input": "2024-07-09T17:52:27.072269Z",
     "iopub.status.busy": "2024-07-09T17:52:27.071951Z",
     "iopub.status.idle": "2024-07-09T17:52:27.075999Z",
     "shell.execute_reply": "2024-07-09T17:52:27.075127Z"
    },
    "papermill": {
     "duration": 0.016443,
     "end_time": "2024-07-09T17:52:27.078019",
     "exception": false,
     "start_time": "2024-07-09T17:52:27.061576",
     "status": "completed"
    },
    "tags": []
   },
   "outputs": [],
   "source": [
    "rd = '/kaggle/input/rsna-2024-lumbar-spine-degenerative-classification'"
   ]
  },
  {
   "cell_type": "code",
   "execution_count": 5,
   "id": "68eb800c",
   "metadata": {
    "execution": {
     "iopub.execute_input": "2024-07-09T17:52:27.095840Z",
     "iopub.status.busy": "2024-07-09T17:52:27.095570Z",
     "iopub.status.idle": "2024-07-09T17:52:27.102331Z",
     "shell.execute_reply": "2024-07-09T17:52:27.101450Z"
    },
    "papermill": {
     "duration": 0.017892,
     "end_time": "2024-07-09T17:52:27.104410",
     "exception": false,
     "start_time": "2024-07-09T17:52:27.086518",
     "status": "completed"
    },
    "tags": []
   },
   "outputs": [
    {
     "data": {
      "text/plain": [
       "device(type='cuda', index=0)"
      ]
     },
     "execution_count": 5,
     "metadata": {},
     "output_type": "execute_result"
    }
   ],
   "source": [
    "device = torch.device('cuda:0') if torch.cuda.is_available() else torch.device('cpu')\n",
    "device"
   ]
  },
  {
   "cell_type": "code",
   "execution_count": 6,
   "id": "c35b21d0",
   "metadata": {
    "execution": {
     "iopub.execute_input": "2024-07-09T17:52:27.122786Z",
     "iopub.status.busy": "2024-07-09T17:52:27.122533Z",
     "iopub.status.idle": "2024-07-09T17:52:27.150926Z",
     "shell.execute_reply": "2024-07-09T17:52:27.150018Z"
    },
    "papermill": {
     "duration": 0.040077,
     "end_time": "2024-07-09T17:52:27.153084",
     "exception": false,
     "start_time": "2024-07-09T17:52:27.113007",
     "status": "completed"
    },
    "tags": []
   },
   "outputs": [
    {
     "data": {
      "text/html": [
       "<div>\n",
       "<style scoped>\n",
       "    .dataframe tbody tr th:only-of-type {\n",
       "        vertical-align: middle;\n",
       "    }\n",
       "\n",
       "    .dataframe tbody tr th {\n",
       "        vertical-align: top;\n",
       "    }\n",
       "\n",
       "    .dataframe thead th {\n",
       "        text-align: right;\n",
       "    }\n",
       "</style>\n",
       "<table border=\"1\" class=\"dataframe\">\n",
       "  <thead>\n",
       "    <tr style=\"text-align: right;\">\n",
       "      <th></th>\n",
       "      <th>study_id</th>\n",
       "      <th>series_id</th>\n",
       "      <th>series_description</th>\n",
       "    </tr>\n",
       "  </thead>\n",
       "  <tbody>\n",
       "    <tr>\n",
       "      <th>0</th>\n",
       "      <td>44036939</td>\n",
       "      <td>2828203845</td>\n",
       "      <td>Sagittal T1</td>\n",
       "    </tr>\n",
       "    <tr>\n",
       "      <th>1</th>\n",
       "      <td>44036939</td>\n",
       "      <td>3481971518</td>\n",
       "      <td>Axial T2</td>\n",
       "    </tr>\n",
       "    <tr>\n",
       "      <th>2</th>\n",
       "      <td>44036939</td>\n",
       "      <td>3844393089</td>\n",
       "      <td>Sagittal T2/STIR</td>\n",
       "    </tr>\n",
       "  </tbody>\n",
       "</table>\n",
       "</div>"
      ],
      "text/plain": [
       "   study_id   series_id series_description\n",
       "0  44036939  2828203845        Sagittal T1\n",
       "1  44036939  3481971518           Axial T2\n",
       "2  44036939  3844393089   Sagittal T2/STIR"
      ]
     },
     "execution_count": 6,
     "metadata": {},
     "output_type": "execute_result"
    }
   ],
   "source": [
    "df = pd.read_csv(f'{rd}/test_series_descriptions.csv')\n",
    "df.head()"
   ]
  },
  {
   "cell_type": "code",
   "execution_count": 7,
   "id": "a02f6dcc",
   "metadata": {
    "execution": {
     "iopub.execute_input": "2024-07-09T17:52:27.172206Z",
     "iopub.status.busy": "2024-07-09T17:52:27.171517Z",
     "iopub.status.idle": "2024-07-09T17:52:27.178170Z",
     "shell.execute_reply": "2024-07-09T17:52:27.177323Z"
    },
    "papermill": {
     "duration": 0.017861,
     "end_time": "2024-07-09T17:52:27.180194",
     "exception": false,
     "start_time": "2024-07-09T17:52:27.162333",
     "status": "completed"
    },
    "tags": []
   },
   "outputs": [],
   "source": [
    "study_ids = list(df['study_id'].unique())"
   ]
  },
  {
   "cell_type": "code",
   "execution_count": 8,
   "id": "657d1f1f",
   "metadata": {
    "execution": {
     "iopub.execute_input": "2024-07-09T17:52:27.198717Z",
     "iopub.status.busy": "2024-07-09T17:52:27.198464Z",
     "iopub.status.idle": "2024-07-09T17:52:27.208360Z",
     "shell.execute_reply": "2024-07-09T17:52:27.207593Z"
    },
    "papermill": {
     "duration": 0.02169,
     "end_time": "2024-07-09T17:52:27.210482",
     "exception": false,
     "start_time": "2024-07-09T17:52:27.188792",
     "status": "completed"
    },
    "tags": []
   },
   "outputs": [],
   "source": [
    "sample_sub = pd.read_csv(f'{rd}/sample_submission.csv')"
   ]
  },
  {
   "cell_type": "code",
   "execution_count": 9,
   "id": "dc4433d3",
   "metadata": {
    "execution": {
     "iopub.execute_input": "2024-07-09T17:52:27.229675Z",
     "iopub.status.busy": "2024-07-09T17:52:27.229418Z",
     "iopub.status.idle": "2024-07-09T17:52:27.235070Z",
     "shell.execute_reply": "2024-07-09T17:52:27.234252Z"
    },
    "papermill": {
     "duration": 0.017234,
     "end_time": "2024-07-09T17:52:27.236995",
     "exception": false,
     "start_time": "2024-07-09T17:52:27.219761",
     "status": "completed"
    },
    "tags": []
   },
   "outputs": [
    {
     "data": {
      "text/plain": [
       "['normal_mild', 'moderate', 'severe']"
      ]
     },
     "execution_count": 9,
     "metadata": {},
     "output_type": "execute_result"
    }
   ],
   "source": [
    "LABELS = list(sample_sub.columns[1:])\n",
    "LABELS"
   ]
  },
  {
   "cell_type": "code",
   "execution_count": 10,
   "id": "153f5e43",
   "metadata": {
    "execution": {
     "iopub.execute_input": "2024-07-09T17:52:27.254878Z",
     "iopub.status.busy": "2024-07-09T17:52:27.254606Z",
     "iopub.status.idle": "2024-07-09T17:52:27.259011Z",
     "shell.execute_reply": "2024-07-09T17:52:27.258134Z"
    },
    "papermill": {
     "duration": 0.015506,
     "end_time": "2024-07-09T17:52:27.260990",
     "exception": false,
     "start_time": "2024-07-09T17:52:27.245484",
     "status": "completed"
    },
    "tags": []
   },
   "outputs": [],
   "source": [
    "CONDITIONS = [\n",
    "    'spinal_canal_stenosis', \n",
    "    'left_neural_foraminal_narrowing', \n",
    "    'right_neural_foraminal_narrowing',\n",
    "    'left_subarticular_stenosis',\n",
    "    'right_subarticular_stenosis'\n",
    "]\n",
    "\n",
    "LEVELS = [\n",
    "    'l1_l2',\n",
    "    'l2_l3',\n",
    "    'l3_l4',\n",
    "    'l4_l5',\n",
    "    'l5_s1',\n",
    "]"
   ]
  },
  {
   "cell_type": "code",
   "execution_count": 11,
   "id": "ba26b36e",
   "metadata": {
    "execution": {
     "iopub.execute_input": "2024-07-09T17:52:27.279363Z",
     "iopub.status.busy": "2024-07-09T17:52:27.279117Z",
     "iopub.status.idle": "2024-07-09T17:52:27.283694Z",
     "shell.execute_reply": "2024-07-09T17:52:27.282857Z"
    },
    "papermill": {
     "duration": 0.015921,
     "end_time": "2024-07-09T17:52:27.285658",
     "exception": false,
     "start_time": "2024-07-09T17:52:27.269737",
     "status": "completed"
    },
    "tags": []
   },
   "outputs": [],
   "source": [
    "def atoi(text):\n",
    "    return int(text) if text.isdigit() else text\n",
    "\n",
    "def natural_keys(text):\n",
    "    return [ atoi(c) for c in re.split(r'(\\d+)', text) ]"
   ]
  },
  {
   "cell_type": "markdown",
   "id": "7da3a64d",
   "metadata": {
    "papermill": {
     "duration": 0.008474,
     "end_time": "2024-07-09T17:52:27.302450",
     "exception": false,
     "start_time": "2024-07-09T17:52:27.293976",
     "status": "completed"
    },
    "tags": []
   },
   "source": [
    "# Define Dataset"
   ]
  },
  {
   "cell_type": "code",
   "execution_count": 12,
   "id": "5730fbac",
   "metadata": {
    "execution": {
     "iopub.execute_input": "2024-07-09T17:52:27.320230Z",
     "iopub.status.busy": "2024-07-09T17:52:27.319959Z",
     "iopub.status.idle": "2024-07-09T17:52:27.340176Z",
     "shell.execute_reply": "2024-07-09T17:52:27.339343Z"
    },
    "papermill": {
     "duration": 0.03159,
     "end_time": "2024-07-09T17:52:27.342264",
     "exception": false,
     "start_time": "2024-07-09T17:52:27.310674",
     "status": "completed"
    },
    "tags": []
   },
   "outputs": [],
   "source": [
    "class RSNA24TestDataset(Dataset):\n",
    "    def __init__(self, df, study_ids, phase='test', transform=None):\n",
    "        self.df = df\n",
    "        self.study_ids = study_ids\n",
    "        self.transform = transform\n",
    "        self.phase = phase\n",
    "    \n",
    "    def __len__(self):\n",
    "        return len(self.study_ids)\n",
    "    \n",
    "    def get_img_paths(self, study_id, series_desc):\n",
    "        pdf = self.df[self.df['study_id']==study_id]\n",
    "        pdf_ = pdf[pdf['series_description']==series_desc]\n",
    "        allimgs = []\n",
    "        for i, row in pdf_.iterrows():\n",
    "            pimgs = glob.glob(f'{rd}/test_images/{study_id}/{row[\"series_id\"]}/*.dcm')\n",
    "            pimgs = sorted(pimgs, key=natural_keys)\n",
    "            allimgs.extend(pimgs)\n",
    "            \n",
    "        return allimgs\n",
    "    \n",
    "    def read_dcm_ret_arr(self, src_path):\n",
    "        dicom_data = pydicom.dcmread(src_path)\n",
    "        image = dicom_data.pixel_array\n",
    "        image = (image - image.min()) / (image.max() - image.min() + 1e-6) * 255\n",
    "        img = cv2.resize(image, (IMG_SIZE[0], IMG_SIZE[1]),interpolation=cv2.INTER_CUBIC)\n",
    "        assert img.shape==(IMG_SIZE[0], IMG_SIZE[1])\n",
    "        return img\n",
    "\n",
    "    def __getitem__(self, idx):\n",
    "        x = np.zeros((IMG_SIZE[0], IMG_SIZE[1], IN_CHANS), dtype=np.uint8)\n",
    "        st_id = self.study_ids[idx]        \n",
    "        \n",
    "        # Sagittal T1\n",
    "        allimgs_st1 = self.get_img_paths(st_id, 'Sagittal T1')\n",
    "        if len(allimgs_st1)==0:\n",
    "            print(st_id, ': Sagittal T1, has no images')\n",
    "        \n",
    "        else:\n",
    "            step = len(allimgs_st1) / 10.0\n",
    "            st = len(allimgs_st1)/2.0 - 4.0*step\n",
    "            end = len(allimgs_st1)+0.0001\n",
    "            for j, i in enumerate(np.arange(st, end, step)):\n",
    "                try:\n",
    "                    ind2 = max(0, int((i-0.5001).round()))\n",
    "                    img = self.read_dcm_ret_arr(allimgs_st1[ind2])\n",
    "                    x[..., j] = img.astype(np.uint8)\n",
    "                except:\n",
    "                    print(f'failed to load on {st_id}, Sagittal T1')\n",
    "                    pass\n",
    "            \n",
    "        # Sagittal T2/STIR\n",
    "        allimgs_st2 = self.get_img_paths(st_id, 'Sagittal T2/STIR')\n",
    "        if len(allimgs_st2)==0:\n",
    "            print(st_id, ': Sagittal T2/STIR, has no images')\n",
    "            \n",
    "        else:\n",
    "            step = len(allimgs_st2) / 10.0\n",
    "            st = len(allimgs_st2)/2.0 - 4.0*step\n",
    "            end = len(allimgs_st2)+0.0001\n",
    "            for j, i in enumerate(np.arange(st, end, step)):\n",
    "                try:\n",
    "                    ind2 = max(0, int((i-0.5001).round()))\n",
    "                    img = self.read_dcm_ret_arr(allimgs_st2[ind2])\n",
    "                    x[..., j+10] = img.astype(np.uint8)\n",
    "                except:\n",
    "                    print(f'failed to load on {st_id}, Sagittal T2/STIR')\n",
    "                    pass\n",
    "            \n",
    "        # Axial T2\n",
    "        allimgs_at2 = self.get_img_paths(st_id, 'Axial T2')\n",
    "        if len(allimgs_at2)==0:\n",
    "            print(st_id, ': Axial T2, has no images')\n",
    "            \n",
    "        else:\n",
    "            step = len(allimgs_at2) / 10.0\n",
    "            st = len(allimgs_at2)/2.0 - 4.0*step\n",
    "            end = len(allimgs_at2)+0.0001\n",
    "\n",
    "            for j, i in enumerate(np.arange(st, end, step)):\n",
    "                try:\n",
    "                    ind2 = max(0, int((i-0.5001).round()))\n",
    "                    img = self.read_dcm_ret_arr(allimgs_at2[ind2])\n",
    "                    x[..., j+20] = img.astype(np.uint8)\n",
    "                except:\n",
    "                    print(f'failed to load on {st_id}, Axial T2')\n",
    "                    pass  \n",
    "            \n",
    "            \n",
    "        if self.transform is not None:\n",
    "            x = self.transform(image=x)['image']\n",
    "\n",
    "        x = x.transpose(2, 0, 1)\n",
    "                \n",
    "        return x, str(st_id)"
   ]
  },
  {
   "cell_type": "code",
   "execution_count": 13,
   "id": "0d630614",
   "metadata": {
    "execution": {
     "iopub.execute_input": "2024-07-09T17:52:27.362221Z",
     "iopub.status.busy": "2024-07-09T17:52:27.361465Z",
     "iopub.status.idle": "2024-07-09T17:52:27.366440Z",
     "shell.execute_reply": "2024-07-09T17:52:27.365716Z"
    },
    "papermill": {
     "duration": 0.016007,
     "end_time": "2024-07-09T17:52:27.368384",
     "exception": false,
     "start_time": "2024-07-09T17:52:27.352377",
     "status": "completed"
    },
    "tags": []
   },
   "outputs": [],
   "source": [
    "transforms_test = A.Compose([\n",
    "    A.Resize(IMG_SIZE[0], IMG_SIZE[1]),\n",
    "    A.Normalize(mean=0.5, std=0.5)\n",
    "])"
   ]
  },
  {
   "cell_type": "code",
   "execution_count": 14,
   "id": "efb4a607",
   "metadata": {
    "execution": {
     "iopub.execute_input": "2024-07-09T17:52:27.386669Z",
     "iopub.status.busy": "2024-07-09T17:52:27.386435Z",
     "iopub.status.idle": "2024-07-09T17:52:27.391075Z",
     "shell.execute_reply": "2024-07-09T17:52:27.390248Z"
    },
    "papermill": {
     "duration": 0.015792,
     "end_time": "2024-07-09T17:52:27.392879",
     "exception": false,
     "start_time": "2024-07-09T17:52:27.377087",
     "status": "completed"
    },
    "tags": []
   },
   "outputs": [],
   "source": [
    "test_ds = RSNA24TestDataset(df, study_ids, transform=transforms_test)\n",
    "test_dl = DataLoader(\n",
    "    test_ds, \n",
    "    batch_size=1, \n",
    "    shuffle=False,\n",
    "    num_workers=N_WORKERS,\n",
    "    pin_memory=True,\n",
    "    drop_last=False\n",
    ")"
   ]
  },
  {
   "cell_type": "markdown",
   "id": "a4d6f024",
   "metadata": {
    "papermill": {
     "duration": 0.008275,
     "end_time": "2024-07-09T17:52:27.409897",
     "exception": false,
     "start_time": "2024-07-09T17:52:27.401622",
     "status": "completed"
    },
    "tags": []
   },
   "source": [
    "# Define Model"
   ]
  },
  {
   "cell_type": "code",
   "execution_count": 15,
   "id": "5b9e7320",
   "metadata": {
    "execution": {
     "iopub.execute_input": "2024-07-09T17:52:27.428013Z",
     "iopub.status.busy": "2024-07-09T17:52:27.427726Z",
     "iopub.status.idle": "2024-07-09T17:52:27.433925Z",
     "shell.execute_reply": "2024-07-09T17:52:27.432769Z"
    },
    "papermill": {
     "duration": 0.017204,
     "end_time": "2024-07-09T17:52:27.435915",
     "exception": false,
     "start_time": "2024-07-09T17:52:27.418711",
     "status": "completed"
    },
    "tags": []
   },
   "outputs": [],
   "source": [
    "class RSNA24Model(nn.Module):\n",
    "    def __init__(self, model_name, in_c=30, n_classes=75, pretrained=True, features_only=False):\n",
    "        super().__init__()\n",
    "        self.model = timm.create_model(\n",
    "                                    model_name,\n",
    "                                    pretrained=pretrained, \n",
    "                                    features_only=features_only,\n",
    "                                    in_chans=in_c,\n",
    "                                    num_classes=n_classes,\n",
    "                                    global_pool='avg'\n",
    "                                    )\n",
    "    \n",
    "    def forward(self, x):\n",
    "        y = self.model(x)\n",
    "        return y"
   ]
  },
  {
   "cell_type": "markdown",
   "id": "f6d739b7",
   "metadata": {
    "papermill": {
     "duration": 0.008214,
     "end_time": "2024-07-09T17:52:27.452249",
     "exception": false,
     "start_time": "2024-07-09T17:52:27.444035",
     "status": "completed"
    },
    "tags": []
   },
   "source": [
    "# Load Models"
   ]
  },
  {
   "cell_type": "code",
   "execution_count": 16,
   "id": "b7b2f250",
   "metadata": {
    "execution": {
     "iopub.execute_input": "2024-07-09T17:52:27.469925Z",
     "iopub.status.busy": "2024-07-09T17:52:27.469609Z",
     "iopub.status.idle": "2024-07-09T17:52:27.473482Z",
     "shell.execute_reply": "2024-07-09T17:52:27.472606Z"
    },
    "papermill": {
     "duration": 0.015044,
     "end_time": "2024-07-09T17:52:27.475446",
     "exception": false,
     "start_time": "2024-07-09T17:52:27.460402",
     "status": "completed"
    },
    "tags": []
   },
   "outputs": [],
   "source": [
    "models = []"
   ]
  },
  {
   "cell_type": "code",
   "execution_count": 17,
   "id": "be8bb210",
   "metadata": {
    "execution": {
     "iopub.execute_input": "2024-07-09T17:52:27.493103Z",
     "iopub.status.busy": "2024-07-09T17:52:27.492844Z",
     "iopub.status.idle": "2024-07-09T17:52:27.514662Z",
     "shell.execute_reply": "2024-07-09T17:52:27.513965Z"
    },
    "papermill": {
     "duration": 0.032825,
     "end_time": "2024-07-09T17:52:27.516619",
     "exception": false,
     "start_time": "2024-07-09T17:52:27.483794",
     "status": "completed"
    },
    "tags": []
   },
   "outputs": [],
   "source": [
    "import glob\n",
    "DENSE_CKPT_PATHS = glob.glob(f'{DENSE161_DIR}best_wll_model_fold-*.pt')\n",
    "DENSE_CKPT_PATHS = sorted(DENSE_CKPT_PATHS)"
   ]
  },
  {
   "cell_type": "code",
   "execution_count": 18,
   "id": "ec3254df",
   "metadata": {
    "execution": {
     "iopub.execute_input": "2024-07-09T17:52:27.534294Z",
     "iopub.status.busy": "2024-07-09T17:52:27.534032Z",
     "iopub.status.idle": "2024-07-09T17:52:47.501500Z",
     "shell.execute_reply": "2024-07-09T17:52:47.500695Z"
    },
    "papermill": {
     "duration": 19.978741,
     "end_time": "2024-07-09T17:52:47.503749",
     "exception": false,
     "start_time": "2024-07-09T17:52:27.525008",
     "status": "completed"
    },
    "tags": []
   },
   "outputs": [
    {
     "name": "stdout",
     "output_type": "stream",
     "text": [
      "loading /kaggle/input/densenet161-weights-rsna2024/best_wll_model_fold-0.pt...\n",
      "loading /kaggle/input/densenet161-weights-rsna2024/best_wll_model_fold-1.pt...\n",
      "loading /kaggle/input/densenet161-weights-rsna2024/best_wll_model_fold-2.pt...\n",
      "loading /kaggle/input/densenet161-weights-rsna2024/best_wll_model_fold-3.pt...\n",
      "loading /kaggle/input/densenet161-weights-rsna2024/best_wll_model_fold-4.pt...\n",
      "loading /kaggle/input/densenet161-weights-rsna2024/best_wll_model_fold-5.pt...\n",
      "loading /kaggle/input/densenet161-weights-rsna2024/best_wll_model_fold-6.pt...\n",
      "loading /kaggle/input/densenet161-weights-rsna2024/best_wll_model_fold-7.pt...\n",
      "loading /kaggle/input/densenet161-weights-rsna2024/best_wll_model_fold-8.pt...\n",
      "loading /kaggle/input/densenet161-weights-rsna2024/best_wll_model_fold-9.pt...\n"
     ]
    }
   ],
   "source": [
    "for i, cp in enumerate(DENSE_CKPT_PATHS):\n",
    "    print(f'loading {cp}...')\n",
    "    model = RSNA24Model(DENSE_MODEL_NAME, IN_CHANS, N_CLASSES, pretrained=False)\n",
    "    model.load_state_dict(torch.load(cp))\n",
    "    model.eval()\n",
    "    model.half()\n",
    "    model.to(device)\n",
    "    models.append(model)"
   ]
  },
  {
   "cell_type": "markdown",
   "id": "3614e4af",
   "metadata": {
    "papermill": {
     "duration": 0.009116,
     "end_time": "2024-07-09T17:52:47.522300",
     "exception": false,
     "start_time": "2024-07-09T17:52:47.513184",
     "status": "completed"
    },
    "tags": []
   },
   "source": [
    "# Inference loop"
   ]
  },
  {
   "cell_type": "code",
   "execution_count": 19,
   "id": "6754e3c3",
   "metadata": {
    "execution": {
     "iopub.execute_input": "2024-07-09T17:52:47.541550Z",
     "iopub.status.busy": "2024-07-09T17:52:47.541255Z",
     "iopub.status.idle": "2024-07-09T17:52:50.563661Z",
     "shell.execute_reply": "2024-07-09T17:52:50.562411Z"
    },
    "papermill": {
     "duration": 3.034572,
     "end_time": "2024-07-09T17:52:50.565877",
     "exception": false,
     "start_time": "2024-07-09T17:52:47.531305",
     "status": "completed"
    },
    "tags": []
   },
   "outputs": [
    {
     "name": "stderr",
     "output_type": "stream",
     "text": [
      "100%|██████████| 1/1 [00:03<00:00,  3.01s/it]\n"
     ]
    }
   ],
   "source": [
    "autocast = torch.cuda.amp.autocast(enabled=USE_AMP, dtype=torch.half)\n",
    "y_preds = []\n",
    "row_names = []\n",
    "\n",
    "with tqdm(test_dl, leave=True) as pbar:\n",
    "    with torch.no_grad():\n",
    "        for idx, (x, si) in enumerate(pbar):\n",
    "            x = x.to(device)\n",
    "            pred_per_study = np.zeros((25, 3))\n",
    "            \n",
    "            for cond in CONDITIONS:\n",
    "                for level in LEVELS:\n",
    "                    row_names.append(si[0] + '_' + cond + '_' + level)\n",
    "            \n",
    "            with autocast:\n",
    "                for m in models:\n",
    "                    y = m(x)[0]\n",
    "                    for col in range(N_LABELS):\n",
    "                        pred = y[col*3:col*3+3]\n",
    "                        y_pred = pred.float().softmax(0).cpu().numpy()\n",
    "                        pred_per_study[col] += y_pred / len(models)\n",
    "                y_preds.append(pred_per_study)\n",
    "\n",
    "y_preds = np.concatenate(y_preds, axis=0)"
   ]
  },
  {
   "cell_type": "markdown",
   "id": "59da6000",
   "metadata": {
    "papermill": {
     "duration": 0.009386,
     "end_time": "2024-07-09T17:52:50.585033",
     "exception": false,
     "start_time": "2024-07-09T17:52:50.575647",
     "status": "completed"
    },
    "tags": []
   },
   "source": [
    "# Make Submission"
   ]
  },
  {
   "cell_type": "code",
   "execution_count": 20,
   "id": "e04ff823",
   "metadata": {
    "execution": {
     "iopub.execute_input": "2024-07-09T17:52:50.605739Z",
     "iopub.status.busy": "2024-07-09T17:52:50.605010Z",
     "iopub.status.idle": "2024-07-09T17:52:50.628855Z",
     "shell.execute_reply": "2024-07-09T17:52:50.627927Z"
    },
    "papermill": {
     "duration": 0.036319,
     "end_time": "2024-07-09T17:52:50.630789",
     "exception": false,
     "start_time": "2024-07-09T17:52:50.594470",
     "status": "completed"
    },
    "tags": []
   },
   "outputs": [
    {
     "data": {
      "text/html": [
       "<div>\n",
       "<style scoped>\n",
       "    .dataframe tbody tr th:only-of-type {\n",
       "        vertical-align: middle;\n",
       "    }\n",
       "\n",
       "    .dataframe tbody tr th {\n",
       "        vertical-align: top;\n",
       "    }\n",
       "\n",
       "    .dataframe thead th {\n",
       "        text-align: right;\n",
       "    }\n",
       "</style>\n",
       "<table border=\"1\" class=\"dataframe\">\n",
       "  <thead>\n",
       "    <tr style=\"text-align: right;\">\n",
       "      <th></th>\n",
       "      <th>row_id</th>\n",
       "      <th>normal_mild</th>\n",
       "      <th>moderate</th>\n",
       "      <th>severe</th>\n",
       "    </tr>\n",
       "  </thead>\n",
       "  <tbody>\n",
       "    <tr>\n",
       "      <th>0</th>\n",
       "      <td>44036939_spinal_canal_stenosis_l1_l2</td>\n",
       "      <td>0.343530</td>\n",
       "      <td>0.405086</td>\n",
       "      <td>0.251384</td>\n",
       "    </tr>\n",
       "    <tr>\n",
       "      <th>1</th>\n",
       "      <td>44036939_spinal_canal_stenosis_l2_l3</td>\n",
       "      <td>0.143158</td>\n",
       "      <td>0.426515</td>\n",
       "      <td>0.430327</td>\n",
       "    </tr>\n",
       "    <tr>\n",
       "      <th>2</th>\n",
       "      <td>44036939_spinal_canal_stenosis_l3_l4</td>\n",
       "      <td>0.118542</td>\n",
       "      <td>0.326268</td>\n",
       "      <td>0.555191</td>\n",
       "    </tr>\n",
       "    <tr>\n",
       "      <th>3</th>\n",
       "      <td>44036939_spinal_canal_stenosis_l4_l5</td>\n",
       "      <td>0.289390</td>\n",
       "      <td>0.274641</td>\n",
       "      <td>0.435969</td>\n",
       "    </tr>\n",
       "    <tr>\n",
       "      <th>4</th>\n",
       "      <td>44036939_spinal_canal_stenosis_l5_s1</td>\n",
       "      <td>0.830504</td>\n",
       "      <td>0.097165</td>\n",
       "      <td>0.072331</td>\n",
       "    </tr>\n",
       "    <tr>\n",
       "      <th>5</th>\n",
       "      <td>44036939_left_neural_foraminal_narrowing_l1_l2</td>\n",
       "      <td>0.519408</td>\n",
       "      <td>0.450863</td>\n",
       "      <td>0.029729</td>\n",
       "    </tr>\n",
       "    <tr>\n",
       "      <th>6</th>\n",
       "      <td>44036939_left_neural_foraminal_narrowing_l2_l3</td>\n",
       "      <td>0.319323</td>\n",
       "      <td>0.575623</td>\n",
       "      <td>0.105054</td>\n",
       "    </tr>\n",
       "    <tr>\n",
       "      <th>7</th>\n",
       "      <td>44036939_left_neural_foraminal_narrowing_l3_l4</td>\n",
       "      <td>0.230049</td>\n",
       "      <td>0.516572</td>\n",
       "      <td>0.253380</td>\n",
       "    </tr>\n",
       "    <tr>\n",
       "      <th>8</th>\n",
       "      <td>44036939_left_neural_foraminal_narrowing_l4_l5</td>\n",
       "      <td>0.145875</td>\n",
       "      <td>0.459954</td>\n",
       "      <td>0.394171</td>\n",
       "    </tr>\n",
       "    <tr>\n",
       "      <th>9</th>\n",
       "      <td>44036939_left_neural_foraminal_narrowing_l5_s1</td>\n",
       "      <td>0.195298</td>\n",
       "      <td>0.375256</td>\n",
       "      <td>0.429446</td>\n",
       "    </tr>\n",
       "    <tr>\n",
       "      <th>10</th>\n",
       "      <td>44036939_right_neural_foraminal_narrowing_l1_l2</td>\n",
       "      <td>0.486522</td>\n",
       "      <td>0.356638</td>\n",
       "      <td>0.156840</td>\n",
       "    </tr>\n",
       "    <tr>\n",
       "      <th>11</th>\n",
       "      <td>44036939_right_neural_foraminal_narrowing_l2_l3</td>\n",
       "      <td>0.362782</td>\n",
       "      <td>0.574614</td>\n",
       "      <td>0.062604</td>\n",
       "    </tr>\n",
       "    <tr>\n",
       "      <th>12</th>\n",
       "      <td>44036939_right_neural_foraminal_narrowing_l3_l4</td>\n",
       "      <td>0.176282</td>\n",
       "      <td>0.595286</td>\n",
       "      <td>0.228432</td>\n",
       "    </tr>\n",
       "    <tr>\n",
       "      <th>13</th>\n",
       "      <td>44036939_right_neural_foraminal_narrowing_l4_l5</td>\n",
       "      <td>0.162385</td>\n",
       "      <td>0.414322</td>\n",
       "      <td>0.423293</td>\n",
       "    </tr>\n",
       "    <tr>\n",
       "      <th>14</th>\n",
       "      <td>44036939_right_neural_foraminal_narrowing_l5_s1</td>\n",
       "      <td>0.237525</td>\n",
       "      <td>0.326235</td>\n",
       "      <td>0.436240</td>\n",
       "    </tr>\n",
       "    <tr>\n",
       "      <th>15</th>\n",
       "      <td>44036939_left_subarticular_stenosis_l1_l2</td>\n",
       "      <td>0.277847</td>\n",
       "      <td>0.400041</td>\n",
       "      <td>0.322113</td>\n",
       "    </tr>\n",
       "    <tr>\n",
       "      <th>16</th>\n",
       "      <td>44036939_left_subarticular_stenosis_l2_l3</td>\n",
       "      <td>0.086295</td>\n",
       "      <td>0.313958</td>\n",
       "      <td>0.599747</td>\n",
       "    </tr>\n",
       "    <tr>\n",
       "      <th>17</th>\n",
       "      <td>44036939_left_subarticular_stenosis_l3_l4</td>\n",
       "      <td>0.057973</td>\n",
       "      <td>0.283447</td>\n",
       "      <td>0.658580</td>\n",
       "    </tr>\n",
       "    <tr>\n",
       "      <th>18</th>\n",
       "      <td>44036939_left_subarticular_stenosis_l4_l5</td>\n",
       "      <td>0.063404</td>\n",
       "      <td>0.289004</td>\n",
       "      <td>0.647593</td>\n",
       "    </tr>\n",
       "    <tr>\n",
       "      <th>19</th>\n",
       "      <td>44036939_left_subarticular_stenosis_l5_s1</td>\n",
       "      <td>0.316318</td>\n",
       "      <td>0.302756</td>\n",
       "      <td>0.380926</td>\n",
       "    </tr>\n",
       "    <tr>\n",
       "      <th>20</th>\n",
       "      <td>44036939_right_subarticular_stenosis_l1_l2</td>\n",
       "      <td>0.265563</td>\n",
       "      <td>0.480237</td>\n",
       "      <td>0.254200</td>\n",
       "    </tr>\n",
       "    <tr>\n",
       "      <th>21</th>\n",
       "      <td>44036939_right_subarticular_stenosis_l2_l3</td>\n",
       "      <td>0.110955</td>\n",
       "      <td>0.390135</td>\n",
       "      <td>0.498910</td>\n",
       "    </tr>\n",
       "    <tr>\n",
       "      <th>22</th>\n",
       "      <td>44036939_right_subarticular_stenosis_l3_l4</td>\n",
       "      <td>0.066637</td>\n",
       "      <td>0.288214</td>\n",
       "      <td>0.645150</td>\n",
       "    </tr>\n",
       "    <tr>\n",
       "      <th>23</th>\n",
       "      <td>44036939_right_subarticular_stenosis_l4_l5</td>\n",
       "      <td>0.065256</td>\n",
       "      <td>0.288159</td>\n",
       "      <td>0.646586</td>\n",
       "    </tr>\n",
       "    <tr>\n",
       "      <th>24</th>\n",
       "      <td>44036939_right_subarticular_stenosis_l5_s1</td>\n",
       "      <td>0.323107</td>\n",
       "      <td>0.357221</td>\n",
       "      <td>0.319673</td>\n",
       "    </tr>\n",
       "  </tbody>\n",
       "</table>\n",
       "</div>"
      ],
      "text/plain": [
       "                                             row_id  normal_mild  moderate  \\\n",
       "0              44036939_spinal_canal_stenosis_l1_l2     0.343530  0.405086   \n",
       "1              44036939_spinal_canal_stenosis_l2_l3     0.143158  0.426515   \n",
       "2              44036939_spinal_canal_stenosis_l3_l4     0.118542  0.326268   \n",
       "3              44036939_spinal_canal_stenosis_l4_l5     0.289390  0.274641   \n",
       "4              44036939_spinal_canal_stenosis_l5_s1     0.830504  0.097165   \n",
       "5    44036939_left_neural_foraminal_narrowing_l1_l2     0.519408  0.450863   \n",
       "6    44036939_left_neural_foraminal_narrowing_l2_l3     0.319323  0.575623   \n",
       "7    44036939_left_neural_foraminal_narrowing_l3_l4     0.230049  0.516572   \n",
       "8    44036939_left_neural_foraminal_narrowing_l4_l5     0.145875  0.459954   \n",
       "9    44036939_left_neural_foraminal_narrowing_l5_s1     0.195298  0.375256   \n",
       "10  44036939_right_neural_foraminal_narrowing_l1_l2     0.486522  0.356638   \n",
       "11  44036939_right_neural_foraminal_narrowing_l2_l3     0.362782  0.574614   \n",
       "12  44036939_right_neural_foraminal_narrowing_l3_l4     0.176282  0.595286   \n",
       "13  44036939_right_neural_foraminal_narrowing_l4_l5     0.162385  0.414322   \n",
       "14  44036939_right_neural_foraminal_narrowing_l5_s1     0.237525  0.326235   \n",
       "15        44036939_left_subarticular_stenosis_l1_l2     0.277847  0.400041   \n",
       "16        44036939_left_subarticular_stenosis_l2_l3     0.086295  0.313958   \n",
       "17        44036939_left_subarticular_stenosis_l3_l4     0.057973  0.283447   \n",
       "18        44036939_left_subarticular_stenosis_l4_l5     0.063404  0.289004   \n",
       "19        44036939_left_subarticular_stenosis_l5_s1     0.316318  0.302756   \n",
       "20       44036939_right_subarticular_stenosis_l1_l2     0.265563  0.480237   \n",
       "21       44036939_right_subarticular_stenosis_l2_l3     0.110955  0.390135   \n",
       "22       44036939_right_subarticular_stenosis_l3_l4     0.066637  0.288214   \n",
       "23       44036939_right_subarticular_stenosis_l4_l5     0.065256  0.288159   \n",
       "24       44036939_right_subarticular_stenosis_l5_s1     0.323107  0.357221   \n",
       "\n",
       "      severe  \n",
       "0   0.251384  \n",
       "1   0.430327  \n",
       "2   0.555191  \n",
       "3   0.435969  \n",
       "4   0.072331  \n",
       "5   0.029729  \n",
       "6   0.105054  \n",
       "7   0.253380  \n",
       "8   0.394171  \n",
       "9   0.429446  \n",
       "10  0.156840  \n",
       "11  0.062604  \n",
       "12  0.228432  \n",
       "13  0.423293  \n",
       "14  0.436240  \n",
       "15  0.322113  \n",
       "16  0.599747  \n",
       "17  0.658580  \n",
       "18  0.647593  \n",
       "19  0.380926  \n",
       "20  0.254200  \n",
       "21  0.498910  \n",
       "22  0.645150  \n",
       "23  0.646586  \n",
       "24  0.319673  "
      ]
     },
     "execution_count": 20,
     "metadata": {},
     "output_type": "execute_result"
    }
   ],
   "source": [
    "sub = pd.DataFrame()\n",
    "sub['row_id'] = row_names\n",
    "sub[LABELS] = y_preds\n",
    "sub.head(25)"
   ]
  },
  {
   "cell_type": "code",
   "execution_count": 21,
   "id": "0a553668",
   "metadata": {
    "execution": {
     "iopub.execute_input": "2024-07-09T17:52:50.652112Z",
     "iopub.status.busy": "2024-07-09T17:52:50.651621Z",
     "iopub.status.idle": "2024-07-09T17:52:50.667476Z",
     "shell.execute_reply": "2024-07-09T17:52:50.666566Z"
    },
    "papermill": {
     "duration": 0.028792,
     "end_time": "2024-07-09T17:52:50.669372",
     "exception": false,
     "start_time": "2024-07-09T17:52:50.640580",
     "status": "completed"
    },
    "tags": []
   },
   "outputs": [
    {
     "data": {
      "text/html": [
       "<div>\n",
       "<style scoped>\n",
       "    .dataframe tbody tr th:only-of-type {\n",
       "        vertical-align: middle;\n",
       "    }\n",
       "\n",
       "    .dataframe tbody tr th {\n",
       "        vertical-align: top;\n",
       "    }\n",
       "\n",
       "    .dataframe thead th {\n",
       "        text-align: right;\n",
       "    }\n",
       "</style>\n",
       "<table border=\"1\" class=\"dataframe\">\n",
       "  <thead>\n",
       "    <tr style=\"text-align: right;\">\n",
       "      <th></th>\n",
       "      <th>row_id</th>\n",
       "      <th>normal_mild</th>\n",
       "      <th>moderate</th>\n",
       "      <th>severe</th>\n",
       "    </tr>\n",
       "  </thead>\n",
       "  <tbody>\n",
       "    <tr>\n",
       "      <th>0</th>\n",
       "      <td>44036939_spinal_canal_stenosis_l1_l2</td>\n",
       "      <td>0.343530</td>\n",
       "      <td>0.405086</td>\n",
       "      <td>0.251384</td>\n",
       "    </tr>\n",
       "    <tr>\n",
       "      <th>1</th>\n",
       "      <td>44036939_spinal_canal_stenosis_l2_l3</td>\n",
       "      <td>0.143158</td>\n",
       "      <td>0.426515</td>\n",
       "      <td>0.430327</td>\n",
       "    </tr>\n",
       "    <tr>\n",
       "      <th>2</th>\n",
       "      <td>44036939_spinal_canal_stenosis_l3_l4</td>\n",
       "      <td>0.118542</td>\n",
       "      <td>0.326268</td>\n",
       "      <td>0.555191</td>\n",
       "    </tr>\n",
       "    <tr>\n",
       "      <th>3</th>\n",
       "      <td>44036939_spinal_canal_stenosis_l4_l5</td>\n",
       "      <td>0.289390</td>\n",
       "      <td>0.274641</td>\n",
       "      <td>0.435969</td>\n",
       "    </tr>\n",
       "    <tr>\n",
       "      <th>4</th>\n",
       "      <td>44036939_spinal_canal_stenosis_l5_s1</td>\n",
       "      <td>0.830504</td>\n",
       "      <td>0.097165</td>\n",
       "      <td>0.072331</td>\n",
       "    </tr>\n",
       "  </tbody>\n",
       "</table>\n",
       "</div>"
      ],
      "text/plain": [
       "                                 row_id  normal_mild  moderate    severe\n",
       "0  44036939_spinal_canal_stenosis_l1_l2     0.343530  0.405086  0.251384\n",
       "1  44036939_spinal_canal_stenosis_l2_l3     0.143158  0.426515  0.430327\n",
       "2  44036939_spinal_canal_stenosis_l3_l4     0.118542  0.326268  0.555191\n",
       "3  44036939_spinal_canal_stenosis_l4_l5     0.289390  0.274641  0.435969\n",
       "4  44036939_spinal_canal_stenosis_l5_s1     0.830504  0.097165  0.072331"
      ]
     },
     "execution_count": 21,
     "metadata": {},
     "output_type": "execute_result"
    }
   ],
   "source": [
    "sub.to_csv('submission.csv', index=False)\n",
    "pd.read_csv('submission.csv').head()"
   ]
  },
  {
   "cell_type": "markdown",
   "id": "6edf59f4",
   "metadata": {
    "papermill": {
     "duration": 0.010095,
     "end_time": "2024-07-09T17:52:50.689670",
     "exception": false,
     "start_time": "2024-07-09T17:52:50.679575",
     "status": "completed"
    },
    "tags": []
   },
   "source": [
    "# Conclusion\n",
    "We created the dataset, performed training, and inference in this notebook. \n",
    "\n",
    "This competition is a bit complicated to handle the dataset, so there may be a better way.\n",
    "\n",
    "I think there are many other areas to improve in my notebook. I hope you can learn from my notebook and get a better score."
   ]
  },
  {
   "cell_type": "code",
   "execution_count": null,
   "id": "565842cd",
   "metadata": {
    "papermill": {
     "duration": 0.010218,
     "end_time": "2024-07-09T17:52:50.710368",
     "exception": false,
     "start_time": "2024-07-09T17:52:50.700150",
     "status": "completed"
    },
    "tags": []
   },
   "outputs": [],
   "source": []
  }
 ],
 "metadata": {
  "kaggle": {
   "accelerator": "nvidiaTeslaT4",
   "dataSources": [
    {
     "databundleVersionId": 8561470,
     "sourceId": 71549,
     "sourceType": "competition"
    },
    {
     "datasetId": 5236783,
     "sourceId": 8727685,
     "sourceType": "datasetVersion"
    },
    {
     "datasetId": 5264030,
     "sourceId": 8761420,
     "sourceType": "datasetVersion"
    }
   ],
   "dockerImageVersionId": 30733,
   "isGpuEnabled": true,
   "isInternetEnabled": false,
   "language": "python",
   "sourceType": "notebook"
  },
  "kernelspec": {
   "display_name": "Python 3",
   "language": "python",
   "name": "python3"
  },
  "language_info": {
   "codemirror_mode": {
    "name": "ipython",
    "version": 3
   },
   "file_extension": ".py",
   "mimetype": "text/x-python",
   "name": "python",
   "nbconvert_exporter": "python",
   "pygments_lexer": "ipython3",
   "version": "3.10.13"
  },
  "papermill": {
   "default_parameters": {},
   "duration": 37.17367,
   "end_time": "2024-07-09T17:52:52.645318",
   "environment_variables": {},
   "exception": null,
   "input_path": "__notebook__.ipynb",
   "output_path": "__notebook__.ipynb",
   "parameters": {},
   "start_time": "2024-07-09T17:52:15.471648",
   "version": "2.5.0"
  }
 },
 "nbformat": 4,
 "nbformat_minor": 5
}
